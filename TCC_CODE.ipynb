{
  "cells": [
    {
      "cell_type": "markdown",
      "metadata": {
        "id": "view-in-github",
        "colab_type": "text"
      },
      "source": [
        "<a href=\"https://colab.research.google.com/github/taniamaki/TimeSeries/blob/main/TCC_CODE.ipynb\" target=\"_parent\"><img src=\"https://colab.research.google.com/assets/colab-badge.svg\" alt=\"Open In Colab\"/></a>"
      ]
    },
    {
      "cell_type": "code",
      "execution_count": 2,
      "metadata": {
        "colab": {
          "base_uri": "https://localhost:8080/",
          "height": 435
        },
        "id": "R-R7GjkoOhf8",
        "outputId": "a0ac08af-f768-4f1f-8b3e-d807ed2ef5a9"
      },
      "outputs": [
        {
          "output_type": "stream",
          "name": "stdout",
          "text": [
            "Looking in indexes: https://pypi.org/simple, https://us-python.pkg.dev/colab-wheels/public/simple/\n",
            "Collecting matplotlib==3.3.0\n",
            "  Downloading matplotlib-3.3.0-1-cp37-cp37m-manylinux1_x86_64.whl (11.5 MB)\n",
            "\u001b[K     |████████████████████████████████| 11.5 MB 18.7 MB/s \n",
            "\u001b[?25hRequirement already satisfied: pyparsing!=2.0.4,!=2.1.2,!=2.1.6,>=2.0.3 in /usr/local/lib/python3.7/dist-packages (from matplotlib==3.3.0) (3.0.9)\n",
            "Requirement already satisfied: numpy>=1.15 in /usr/local/lib/python3.7/dist-packages (from matplotlib==3.3.0) (1.21.6)\n",
            "Requirement already satisfied: cycler>=0.10 in /usr/local/lib/python3.7/dist-packages (from matplotlib==3.3.0) (0.11.0)\n",
            "Requirement already satisfied: pillow>=6.2.0 in /usr/local/lib/python3.7/dist-packages (from matplotlib==3.3.0) (7.1.2)\n",
            "Requirement already satisfied: kiwisolver>=1.0.1 in /usr/local/lib/python3.7/dist-packages (from matplotlib==3.3.0) (1.4.4)\n",
            "Requirement already satisfied: python-dateutil>=2.1 in /usr/local/lib/python3.7/dist-packages (from matplotlib==3.3.0) (2.8.2)\n",
            "Requirement already satisfied: typing-extensions in /usr/local/lib/python3.7/dist-packages (from kiwisolver>=1.0.1->matplotlib==3.3.0) (4.1.1)\n",
            "Requirement already satisfied: six>=1.5 in /usr/local/lib/python3.7/dist-packages (from python-dateutil>=2.1->matplotlib==3.3.0) (1.15.0)\n",
            "Installing collected packages: matplotlib\n",
            "  Attempting uninstall: matplotlib\n",
            "    Found existing installation: matplotlib 3.2.2\n",
            "    Uninstalling matplotlib-3.2.2:\n",
            "      Successfully uninstalled matplotlib-3.2.2\n",
            "Successfully installed matplotlib-3.3.0\n"
          ]
        },
        {
          "output_type": "display_data",
          "data": {
            "application/vnd.colab-display-data+json": {
              "pip_warning": {
                "packages": [
                  "matplotlib",
                  "mpl_toolkits"
                ]
              }
            }
          },
          "metadata": {}
        }
      ],
      "source": [
        "!pip install matplotlib==3.3.0"
      ]
    },
    {
      "cell_type": "code",
      "execution_count": 3,
      "metadata": {
        "colab": {
          "base_uri": "https://localhost:8080/"
        },
        "id": "YVN43f4I-FUV",
        "outputId": "2085afe9-60de-4a81-9071-3183ec6ba94b"
      },
      "outputs": [
        {
          "output_type": "stream",
          "name": "stdout",
          "text": [
            "Looking in indexes: https://pypi.org/simple, https://us-python.pkg.dev/colab-wheels/public/simple/\n",
            "Collecting yfinance\n",
            "  Downloading yfinance-0.1.77-py2.py3-none-any.whl (28 kB)\n",
            "Requirement already satisfied: pandas>=0.24.0 in /usr/local/lib/python3.7/dist-packages (from yfinance) (1.3.5)\n",
            "Requirement already satisfied: lxml>=4.5.1 in /usr/local/lib/python3.7/dist-packages (from yfinance) (4.9.1)\n",
            "Requirement already satisfied: multitasking>=0.0.7 in /usr/local/lib/python3.7/dist-packages (from yfinance) (0.0.11)\n",
            "Collecting requests>=2.26\n",
            "  Downloading requests-2.28.1-py3-none-any.whl (62 kB)\n",
            "\u001b[K     |████████████████████████████████| 62 kB 1.3 MB/s \n",
            "\u001b[?25hRequirement already satisfied: appdirs>=1.4.4 in /usr/local/lib/python3.7/dist-packages (from yfinance) (1.4.4)\n",
            "Requirement already satisfied: numpy>=1.15 in /usr/local/lib/python3.7/dist-packages (from yfinance) (1.21.6)\n",
            "Requirement already satisfied: pytz>=2017.3 in /usr/local/lib/python3.7/dist-packages (from pandas>=0.24.0->yfinance) (2022.4)\n",
            "Requirement already satisfied: python-dateutil>=2.7.3 in /usr/local/lib/python3.7/dist-packages (from pandas>=0.24.0->yfinance) (2.8.2)\n",
            "Requirement already satisfied: six>=1.5 in /usr/local/lib/python3.7/dist-packages (from python-dateutil>=2.7.3->pandas>=0.24.0->yfinance) (1.15.0)\n",
            "Requirement already satisfied: certifi>=2017.4.17 in /usr/local/lib/python3.7/dist-packages (from requests>=2.26->yfinance) (2022.9.24)\n",
            "Requirement already satisfied: idna<4,>=2.5 in /usr/local/lib/python3.7/dist-packages (from requests>=2.26->yfinance) (2.10)\n",
            "Requirement already satisfied: urllib3<1.27,>=1.21.1 in /usr/local/lib/python3.7/dist-packages (from requests>=2.26->yfinance) (1.24.3)\n",
            "Requirement already satisfied: charset-normalizer<3,>=2 in /usr/local/lib/python3.7/dist-packages (from requests>=2.26->yfinance) (2.1.1)\n",
            "Installing collected packages: requests, yfinance\n",
            "  Attempting uninstall: requests\n",
            "    Found existing installation: requests 2.23.0\n",
            "    Uninstalling requests-2.23.0:\n",
            "      Successfully uninstalled requests-2.23.0\n",
            "Successfully installed requests-2.28.1 yfinance-0.1.77\n"
          ]
        }
      ],
      "source": [
        "!pip install yfinance"
      ]
    },
    {
      "cell_type": "code",
      "execution_count": 4,
      "metadata": {
        "colab": {
          "base_uri": "https://localhost:8080/"
        },
        "id": "D2_sv9ZTjZIf",
        "outputId": "9be6b6cb-1102-4c21-ab50-7f69d95e4a9d"
      },
      "outputs": [
        {
          "output_type": "stream",
          "name": "stdout",
          "text": [
            "Looking in indexes: https://pypi.org/simple, https://us-python.pkg.dev/colab-wheels/public/simple/\n",
            "Collecting pycaret-ts-alpha\n",
            "  Downloading pycaret_ts_alpha-3.0.0.dev1649017462-py3-none-any.whl (468 kB)\n",
            "\u001b[K     |████████████████████████████████| 468 kB 29.2 MB/s \n",
            "\u001b[?25hRequirement already satisfied: ipython>=5.5.0 in /usr/local/lib/python3.7/dist-packages (from pycaret-ts-alpha) (7.9.0)\n",
            "Collecting joblib~=1.0.1\n",
            "  Downloading joblib-1.0.1-py3-none-any.whl (303 kB)\n",
            "\u001b[K     |████████████████████████████████| 303 kB 65.4 MB/s \n",
            "\u001b[?25hRequirement already satisfied: yellowbrick>=1.4 in /usr/local/lib/python3.7/dist-packages (from pycaret-ts-alpha) (1.5)\n",
            "Collecting numba~=0.55.0\n",
            "  Downloading numba-0.55.2-cp37-cp37m-manylinux2014_x86_64.manylinux_2_17_x86_64.whl (3.3 MB)\n",
            "\u001b[K     |████████████████████████████████| 3.3 MB 50.5 MB/s \n",
            "\u001b[?25hRequirement already satisfied: scikit-learn>=1.0.2 in /usr/local/lib/python3.7/dist-packages (from pycaret-ts-alpha) (1.0.2)\n",
            "Requirement already satisfied: matplotlib>=3.3.0 in /usr/local/lib/python3.7/dist-packages (from pycaret-ts-alpha) (3.3.0)\n",
            "Collecting tbats>=1.1.0\n",
            "  Downloading tbats-1.1.1-py3-none-any.whl (43 kB)\n",
            "\u001b[K     |████████████████████████████████| 43 kB 2.1 MB/s \n",
            "\u001b[?25hRequirement already satisfied: imbalanced-learn>=0.8.1 in /usr/local/lib/python3.7/dist-packages (from pycaret-ts-alpha) (0.8.1)\n",
            "Collecting category-encoders>=2.4.0\n",
            "  Downloading category_encoders-2.5.1.post0-py2.py3-none-any.whl (72 kB)\n",
            "\u001b[K     |████████████████████████████████| 72 kB 857 kB/s \n",
            "\u001b[?25hCollecting lightgbm>=3.0.0\n",
            "  Downloading lightgbm-3.3.3-py3-none-manylinux1_x86_64.whl (2.0 MB)\n",
            "\u001b[K     |████████████████████████████████| 2.0 MB 54.0 MB/s \n",
            "\u001b[?25hCollecting pmdarima>=1.8.0\n",
            "  Downloading pmdarima-2.0.1-cp37-cp37m-manylinux_2_17_x86_64.manylinux2014_x86_64.manylinux_2_28_x86_64.whl (1.8 MB)\n",
            "\u001b[K     |████████████████████████████████| 1.8 MB 57.8 MB/s \n",
            "\u001b[?25hRequirement already satisfied: plotly>=5.0.0 in /usr/local/lib/python3.7/dist-packages (from pycaret-ts-alpha) (5.5.0)\n",
            "Requirement already satisfied: statsmodels>=0.12.1 in /usr/local/lib/python3.7/dist-packages (from pycaret-ts-alpha) (0.12.2)\n",
            "Collecting sktime==0.10.1\n",
            "  Downloading sktime-0.10.1-py3-none-any.whl (6.5 MB)\n",
            "\u001b[K     |████████████████████████████████| 6.5 MB 64.0 MB/s \n",
            "\u001b[?25hCollecting scikit-plot>=0.3.7\n",
            "  Downloading scikit_plot-0.3.7-py3-none-any.whl (33 kB)\n",
            "Requirement already satisfied: pandas<1.5.0,>=1.3.0 in /usr/local/lib/python3.7/dist-packages (from pycaret-ts-alpha) (1.3.5)\n",
            "Requirement already satisfied: numpy~=1.21 in /usr/local/lib/python3.7/dist-packages (from pycaret-ts-alpha) (1.21.6)\n",
            "Requirement already satisfied: scipy~=1.7.3 in /usr/local/lib/python3.7/dist-packages (from pycaret-ts-alpha) (1.7.3)\n",
            "Collecting kaleido>=0.2.1\n",
            "  Downloading kaleido-0.2.1-py2.py3-none-manylinux1_x86_64.whl (79.9 MB)\n",
            "\u001b[K     |████████████████████████████████| 79.9 MB 120 kB/s \n",
            "\u001b[?25hCollecting pyod>=0.9.8\n",
            "  Downloading pyod-1.0.5.tar.gz (137 kB)\n",
            "\u001b[K     |████████████████████████████████| 137 kB 62.8 MB/s \n",
            "\u001b[?25hCollecting deprecated>=1.2.13\n",
            "  Downloading Deprecated-1.2.13-py2.py3-none-any.whl (9.6 kB)\n",
            "Requirement already satisfied: patsy>=0.5.1 in /usr/local/lib/python3.7/dist-packages (from category-encoders>=2.4.0->pycaret-ts-alpha) (0.5.3)\n",
            "Requirement already satisfied: wrapt<2,>=1.10 in /usr/local/lib/python3.7/dist-packages (from deprecated>=1.2.13->sktime==0.10.1->pycaret-ts-alpha) (1.14.1)\n",
            "Collecting jedi>=0.10\n",
            "  Downloading jedi-0.18.1-py2.py3-none-any.whl (1.6 MB)\n",
            "\u001b[K     |████████████████████████████████| 1.6 MB 43.9 MB/s \n",
            "\u001b[?25hRequirement already satisfied: prompt-toolkit<2.1.0,>=2.0.0 in /usr/local/lib/python3.7/dist-packages (from ipython>=5.5.0->pycaret-ts-alpha) (2.0.10)\n",
            "Requirement already satisfied: pexpect in /usr/local/lib/python3.7/dist-packages (from ipython>=5.5.0->pycaret-ts-alpha) (4.8.0)\n",
            "Requirement already satisfied: setuptools>=18.5 in /usr/local/lib/python3.7/dist-packages (from ipython>=5.5.0->pycaret-ts-alpha) (57.4.0)\n",
            "Requirement already satisfied: pickleshare in /usr/local/lib/python3.7/dist-packages (from ipython>=5.5.0->pycaret-ts-alpha) (0.7.5)\n",
            "Requirement already satisfied: decorator in /usr/local/lib/python3.7/dist-packages (from ipython>=5.5.0->pycaret-ts-alpha) (4.4.2)\n",
            "Requirement already satisfied: backcall in /usr/local/lib/python3.7/dist-packages (from ipython>=5.5.0->pycaret-ts-alpha) (0.2.0)\n",
            "Requirement already satisfied: traitlets>=4.2 in /usr/local/lib/python3.7/dist-packages (from ipython>=5.5.0->pycaret-ts-alpha) (5.1.1)\n",
            "Requirement already satisfied: pygments in /usr/local/lib/python3.7/dist-packages (from ipython>=5.5.0->pycaret-ts-alpha) (2.6.1)\n",
            "Requirement already satisfied: parso<0.9.0,>=0.8.0 in /usr/local/lib/python3.7/dist-packages (from jedi>=0.10->ipython>=5.5.0->pycaret-ts-alpha) (0.8.3)\n",
            "Requirement already satisfied: wheel in /usr/local/lib/python3.7/dist-packages (from lightgbm>=3.0.0->pycaret-ts-alpha) (0.37.1)\n",
            "Requirement already satisfied: pyparsing!=2.0.4,!=2.1.2,!=2.1.6,>=2.0.3 in /usr/local/lib/python3.7/dist-packages (from matplotlib>=3.3.0->pycaret-ts-alpha) (3.0.9)\n",
            "Requirement already satisfied: python-dateutil>=2.1 in /usr/local/lib/python3.7/dist-packages (from matplotlib>=3.3.0->pycaret-ts-alpha) (2.8.2)\n",
            "Requirement already satisfied: cycler>=0.10 in /usr/local/lib/python3.7/dist-packages (from matplotlib>=3.3.0->pycaret-ts-alpha) (0.11.0)\n",
            "Requirement already satisfied: pillow>=6.2.0 in /usr/local/lib/python3.7/dist-packages (from matplotlib>=3.3.0->pycaret-ts-alpha) (7.1.2)\n",
            "Requirement already satisfied: kiwisolver>=1.0.1 in /usr/local/lib/python3.7/dist-packages (from matplotlib>=3.3.0->pycaret-ts-alpha) (1.4.4)\n",
            "Requirement already satisfied: typing-extensions in /usr/local/lib/python3.7/dist-packages (from kiwisolver>=1.0.1->matplotlib>=3.3.0->pycaret-ts-alpha) (4.1.1)\n",
            "Collecting llvmlite<0.39,>=0.38.0rc1\n",
            "  Downloading llvmlite-0.38.1-cp37-cp37m-manylinux_2_17_x86_64.manylinux2014_x86_64.whl (34.5 MB)\n",
            "\u001b[K     |████████████████████████████████| 34.5 MB 7.9 kB/s \n",
            "\u001b[?25hRequirement already satisfied: pytz>=2017.3 in /usr/local/lib/python3.7/dist-packages (from pandas<1.5.0,>=1.3.0->pycaret-ts-alpha) (2022.4)\n",
            "Requirement already satisfied: six in /usr/local/lib/python3.7/dist-packages (from patsy>=0.5.1->category-encoders>=2.4.0->pycaret-ts-alpha) (1.15.0)\n",
            "Requirement already satisfied: tenacity>=6.2.0 in /usr/local/lib/python3.7/dist-packages (from plotly>=5.0.0->pycaret-ts-alpha) (8.1.0)\n",
            "Requirement already satisfied: Cython!=0.29.18,!=0.29.31,>=0.29 in /usr/local/lib/python3.7/dist-packages (from pmdarima>=1.8.0->pycaret-ts-alpha) (0.29.32)\n",
            "Requirement already satisfied: urllib3 in /usr/local/lib/python3.7/dist-packages (from pmdarima>=1.8.0->pycaret-ts-alpha) (1.24.3)\n",
            "Collecting statsmodels>=0.12.1\n",
            "  Downloading statsmodels-0.13.2-cp37-cp37m-manylinux_2_17_x86_64.manylinux2014_x86_64.whl (9.8 MB)\n",
            "\u001b[K     |████████████████████████████████| 9.8 MB 46.4 MB/s \n",
            "\u001b[?25hRequirement already satisfied: wcwidth in /usr/local/lib/python3.7/dist-packages (from prompt-toolkit<2.1.0,>=2.0.0->ipython>=5.5.0->pycaret-ts-alpha) (0.2.5)\n",
            "Requirement already satisfied: threadpoolctl>=2.0.0 in /usr/local/lib/python3.7/dist-packages (from scikit-learn>=1.0.2->pycaret-ts-alpha) (3.1.0)\n",
            "Requirement already satisfied: packaging>=21.3 in /usr/local/lib/python3.7/dist-packages (from statsmodels>=0.12.1->pycaret-ts-alpha) (21.3)\n",
            "Requirement already satisfied: ptyprocess>=0.5 in /usr/local/lib/python3.7/dist-packages (from pexpect->ipython>=5.5.0->pycaret-ts-alpha) (0.7.0)\n",
            "Building wheels for collected packages: pyod\n",
            "  Building wheel for pyod (setup.py) ... \u001b[?25l\u001b[?25hdone\n",
            "  Created wheel for pyod: filename=pyod-1.0.5-py3-none-any.whl size=170258 sha256=e242fcde50b3ad2c84168713d7b5247b248af3daaaab6a66f798fd5700429606\n",
            "  Stored in directory: /root/.cache/pip/wheels/29/98/25/bc9bfccf3907de246c61668bc09c39216ec157f8218aea4c16\n",
            "Successfully built pyod\n",
            "Installing collected packages: joblib, statsmodels, llvmlite, pmdarima, numba, jedi, deprecated, tbats, sktime, scikit-plot, pyod, lightgbm, kaleido, category-encoders, pycaret-ts-alpha\n",
            "  Attempting uninstall: joblib\n",
            "    Found existing installation: joblib 1.2.0\n",
            "    Uninstalling joblib-1.2.0:\n",
            "      Successfully uninstalled joblib-1.2.0\n",
            "  Attempting uninstall: statsmodels\n",
            "    Found existing installation: statsmodels 0.12.2\n",
            "    Uninstalling statsmodels-0.12.2:\n",
            "      Successfully uninstalled statsmodels-0.12.2\n",
            "  Attempting uninstall: llvmlite\n",
            "    Found existing installation: llvmlite 0.39.1\n",
            "    Uninstalling llvmlite-0.39.1:\n",
            "      Successfully uninstalled llvmlite-0.39.1\n",
            "  Attempting uninstall: numba\n",
            "    Found existing installation: numba 0.56.2\n",
            "    Uninstalling numba-0.56.2:\n",
            "      Successfully uninstalled numba-0.56.2\n",
            "  Attempting uninstall: lightgbm\n",
            "    Found existing installation: lightgbm 2.2.3\n",
            "    Uninstalling lightgbm-2.2.3:\n",
            "      Successfully uninstalled lightgbm-2.2.3\n",
            "Successfully installed category-encoders-2.5.1.post0 deprecated-1.2.13 jedi-0.18.1 joblib-1.0.1 kaleido-0.2.1 lightgbm-3.3.3 llvmlite-0.38.1 numba-0.55.2 pmdarima-2.0.1 pycaret-ts-alpha-3.0.0.dev1649017462 pyod-1.0.5 scikit-plot-0.3.7 sktime-0.10.1 statsmodels-0.13.2 tbats-1.1.1\n"
          ]
        }
      ],
      "source": [
        "!pip install pycaret-ts-alpha"
      ]
    },
    {
      "cell_type": "markdown",
      "metadata": {
        "id": "ridxGt9j6gQB"
      },
      "source": [
        "# Titulo\n",
        "## Comparação entre técnicas preditivas aplicadas em séries temporais financeiras \n"
      ]
    },
    {
      "cell_type": "markdown",
      "metadata": {
        "id": "n1xpyNg18Ups"
      },
      "source": [
        "## Resumo\n"
      ]
    },
    {
      "cell_type": "markdown",
      "metadata": {
        "id": "OL0KfW6p-9MN"
      },
      "source": [
        "Tópico obrigatório para o depósito do TCC, porém opcional para a etapa dos Resultados preliminares.\n",
        "Palavras-chave: (inserir até cinco palavras diferentes das contidas no título, separadas por ponto-e-vírgula)."
      ]
    },
    {
      "cell_type": "markdown",
      "metadata": {
        "id": "-UkBKOVp8XFG"
      },
      "source": [
        "## Introdução\n"
      ]
    },
    {
      "cell_type": "markdown",
      "metadata": {
        "id": "2eqd8q36--P6"
      },
      "source": [
        "O título da seção “Introdução” deve ser <p>Previsão é o processo de fazer projeções sobre o futuro com base em artefatos históricos. Quando uma previsão alcança um grau razoável de precisão, pode auxiliar na tomada de decisões, no planejamento e capacita pessoas a modificar variáveis para a construção de cenários favoráveis (Asadi et al., 2012). A previsão de séries temporais financeiras é um tema em evidência, mesmo apresentando extrema complexidade. Os preços dos ativos são não lineares, dinâmicos e caóticos, com alto grau de dificuldade de previsão devido ao ambiente ruidoso inerente à alta volatilidade relacionada às tendências diárias do mercado (Henrique et al., 2019). A complexidade do mercado e o movimento do preço das ações estão relacionados, pricipalmente, com fatores como eventos políticos, notícias do mercado, relatórios de lucro, comportamento comercial conflitantes (Ticknor, 2013).\n",
        "<p>Algumas hipóteses podem ser consideradas na previsão de preços de ações (Sitte e Sitte, 2002). Uma delas é a “Efficient Market Hypothesis [EMH]”, hipótese de mercado eficiente, baseada na tese de doutorado “A Teoria da Especulação” de Bachelier (1900), que afirma que o preço de uma ação captura totalmente as informações conhecidas e uma vez que são utilizadas de forma otimizada pelos participantes, as variações se tornam aleatórias à medida que novas informações chegam. O resultado são preços futuros que não seguem quaisquer tendências ou padrões tornando impossível a previsão. No entanto, diversos autores de economia tentam estabelecer a “Inefficient Maket Hypotesis [IMH]”, hipótese de mercados ineficientes, que afirma que mercados financeiros nem sempre são eficientes e acreditam que os resultados estatísticos obtidos a partir de análise em bases de dados suficientemente grandes, caracterizam evidências suficientes para apoiá-la (Pan, 2003). \n",
        "<p>Dentre as técnicas de previsão do mercado, podemos destacar a análise fundamentalista, análise técnica, previsão de séries temporais com modelos tradicionais e métodos de aprendizado de máquinas. Segundo Murphy (2021), a análise técnica é um estudo de mercado, apoiada pelo uso de gráficos, e tem como objetivo prever tendências de preços. Está ancorada em três premissas principais: o mercado desconta tudo, os preços se movimentam em tendências e a história se repete. E enquanto a análise técnica foca no estudo da ação, a análise fundamentalista se baseia nas forças econômicas de oferta e demanda que fazem o preço subir, descer ou permanecer. Considera-se três aspectos essenciais para a análise fundamentalista: análises macroeconômicas que analisam o efeito do ambiente sobre o futuro lucro de uma empresa, análise da indústria que estima o valor da empresa com base na situação e perspectiva da indústria e análise da empresa que leva em consideração a operação atual e a situação financeira para avaliar seu valor interno (Hu et al., 2015). Fundamentalistas focam na causa do movimento do mercado enquanto os técnicos, nos efeitos.\n",
        "<p>A previsão de séries temporais com modelos tradicionais é uma tentativa de prever padrões em dados históricos por modelos lineares que podem ser uni ou multivariados. Já, o aprendizado de máquina usa um conjunto de amostra de dados para desenhar padrões, lineares ou não lineares, de modo a aproximar a função subjacente dos dados apresentados (Oliveira et al., 2013).\n",
        "<p> Pesquisas recentes evidenciam a necessidade de olhar os dados de mercado financeiro sob um ponto de vista evolutivo devido à natureza divergente. Investidores e pesquisadores estão considerando fatores multidimensionais para sugerir metodologia que farão as melhores escolhas com lucro garantido (Ramalingam e Sujatha, 2018). \n",
        "<p>Nas últimas duas décadas, diversas técnicas foram estudadas e utilizadas para previsão de preço e tendências no mercado de ações. E um número crescente de esforços tem se concentrado em modelos de Inteligência Artificial para otimizar a precisão das previsões. Diante da literatura sobre o assunto, que cresce exponencialmente, surge a oportunidade de um estudo comparativo de modelos de previsão considerando precisão e tempo de execução (Asadi et al., 2012).\n"
      ]
    },
    {
      "cell_type": "markdown",
      "metadata": {
        "id": "SC7YUSk-8ZOS"
      },
      "source": [
        "## Material e Métodos\n"
      ]
    },
    {
      "cell_type": "markdown",
      "source": [
        "### 1.\tSeleção das ações\n",
        "<p>A B3, uma das principais empresas de infraestrutura de mercado financeiro do mundo e a principal do Brasil com atuação em ambiente de bolsa e de balcão, integra os índices Ibovespa, Índice “MidLarge Cap”[MLCX B3)] e Índice Brasil 50 [IBrX 50] que foram considerados base para a seleção das ações neste estudo. \n",
        "<p> Ibovespa é o principal indicador de desempenho das ações negociadas na B3 e reune ativos que representam 85% em ordem decrescente de Índice de Negociabilidade. MLCX é o resultado de uma carteira teórica de ativos que tem por objetivo ser o indicador do desempenho médio das cotações dos ativos de uma carteira composta pelas empresas de maior capitalização. O IBrX50 é o resultado de uma carteira de ativos, elaborada de acordo com os critérios estabelecidos nesta metodogia que considera os 50 primeiros ativos em ordem decrescente de Índice de Negociabilidade.\n",
        "<p>De acordo com as carteiras disponibilizadas para o quadrimestre de maio a agosto de 2022, as três ações com maiores percentuais de participação nos indicadores foram Vale[VALE3], Petrobrás [PETR4] e Itau Unibanco [ITUB4], motivo pelo qual foram selecionadas para o presente estudo."
      ],
      "metadata": {
        "id": "sZYeAXzOv5J7"
      }
    },
    {
      "cell_type": "markdown",
      "source": [
        "### 2.\tDescrição dos dados\n",
        "<p>Os dados históricos de VALE3, PETR4 e ITUB4 foram extraídos do “Yahoo Finance” e contempla o período de 01 jan. 2002 a 10 ago. 2022. Há 5160 registros de cada ação.\n",
        "Estão disponíveis os valores de abertura(”Open”), fechamento(“Close”), fechamento ajustado(“Adj Close”), maior preço de venda da ação no dia(“High”), menor preço de venda da ação no dia(“Low”) e volume negociado. \n",
        "\n",
        "Tabela 1. Descrição dos dados de fechamento\n",
        "\n",
        "|             |VALE3   |PETR4  |ITUB4  |\n",
        "|-------------|--------|-------|-------|\n",
        "|Média        |\t 37.715| 20.073| 17.007|\n",
        "|Desvio Padrão|\t 22.508|\t9.092|\t9.070|\n",
        "|Mínimo       |\t 4.166 |\t4.200|\t1.920|\n",
        "|Máximo       |\t118.720| 52.509| 39.689|\n",
        "Fonte: Dados originais da pesquisa\n",
        "\n",
        "<p>Entre 2002 e 2022 VALE3 apresentou maior valor de fechamento de R\\$118,720 com média de R\\$37,715 e com um desvio padrão de 22,508, que indica que seus dados estão espalhados por uma gama de valores maior em torno da média em comparação a PETR4 e ITUB4. Já PETR4 fechou em média com valor de R\\$20,073 e ITUB4, R\\$17,007 com o menor valor de fechamento de R\\$1,92 durante o período avaliado, conforme descrito na tabela 1.\n"
      ],
      "metadata": {
        "id": "9jroZOLvwLYP"
      }
    },
    {
      "cell_type": "markdown",
      "source": [
        "### 3.\tAnálise exploratória dos dados\n",
        "<p>Neste estudo foi utilizado o preço de fechamento de VALE3, PETR4 e ITUB4, pois reflete todas as atividades em um dia de negociação.\n",
        "\n",
        "\n",
        "<p>As séries temporais financeiras tem como característica não possuir correlação serial, porém, serem dependentes. Os dados se dividem em duas categorias: uma em que o intervalo entre observações é constante como séries diárias, semanais, mensais, anuais e outra com observações em instantes irregulares, como séries intradiárias (Morettin, 2017). Para o presente trabalho foram consideradas séries diárias do preço de fechamento, cuja evolução pelo tempo pode ser observada na figura 1. "
      ],
      "metadata": {
        "id": "wQBhuTDZ-li0"
      }
    },
    {
      "cell_type": "markdown",
      "source": [
        "#### 3.1 Estacionariedade\n",
        "<p>Série temporal estacionária é a série que apresenta em sua medição estado estável. Trata-se de um processo estacionário se a distribuição yt,y_(t+1 ), ..., y_(t+k) não depender de t para todos os possíveis lags k(Nielsen, 2021).\n",
        "<p>Há diversas técnicas para identificação de estacionariedade, foi utilizado neste trabalho o teste estatístico “Augmented Dickey-Fuller” [ADF] da biblioteca statsmodels que considera como hipótese nula a não estacionariedade e como hipótese alternativa a estacionariedade. \n",
        "\n",
        "\n",
        "Tabela 2. “Augmented Dickey-Fuller “nas séries de fechamento\n",
        "\n",
        "|Código da Ação|Estatística ADF|p-valor|\n",
        "|--------------|---------------|-------|\n",
        "|VALE3         |-1.679         |0.442  |\n",
        "|PETR4         |-2.165         |0.219  |\n",
        "|ITUB4         |-1.668         |0.448  |\n",
        "Fonte: Dados originais da pesquisa\n",
        "\n",
        "<p> A hipótese alternativa foi rejeitada, observando os p-valores da tabela 2 e considerando o nível de significância de 0,05. Portanto, com base no método ADF, pode-se considerar a série como não estacionária. \n",
        "\n",
        "<p> Com o objetivo de testar alguns modelos com séries estacionárias, a função de diferença da biblioteca Pandas será utilizada. A função “diff” calcula a diferença de um elemento com outro elemento, neste caso, o elemento do dia anterior.\n",
        "\n",
        "\n",
        "Tabela 3.” Augmented Dickey-Fuller” aplicado na diferença das séries de fechamento\n",
        "\n",
        "|Código da Ação|Estatística ADF|p-valor|\n",
        "|--------------|---------------|-------|\n",
        "|VALE3         |-17.254        |0.0    |\n",
        "|PETR4         |-20.385        |0.0    |\n",
        "|ITUB4         |-1.668         |0.0    |\n",
        "Fonte: Dados originais da pesquisa\n",
        "\n",
        "<p>Após a aplicação da diferença, as séries de VALE3, PETR4 e ITUB4 são classificadas como estacionárias no teste ADF, apresentando o p-valor menor que 0,05 como é possível observar na tabela 2. \n",
        "\n",
        "\n"
      ],
      "metadata": {
        "id": "CPktpUDOycge"
      }
    },
    {
      "cell_type": "markdown",
      "metadata": {
        "id": "ZBtEvB1W-Ybz"
      },
      "source": [
        "- ### Entendimento do problema"
      ]
    },
    {
      "cell_type": "markdown",
      "metadata": {
        "id": "u392iGKXXOJg"
      },
      "source": [
        "### Import"
      ]
    },
    {
      "cell_type": "code",
      "execution_count": 1,
      "metadata": {
        "id": "zG0QwTb0XJuQ"
      },
      "outputs": [],
      "source": [
        "#imports\n",
        "import numpy as np\n",
        "import pandas as pd\n",
        "import statsmodels.api as sm\n",
        "import matplotlib.pyplot as plt\n",
        "import yfinance as yf\n",
        "from datetime import datetime\n",
        "%matplotlib inline\n",
        "import warnings\n",
        "warnings.filterwarnings(\"ignore\")\n"
      ]
    },
    {
      "cell_type": "markdown",
      "metadata": {
        "id": "N9AiF_mQ-a7f"
      },
      "source": [
        "- ### Coleta de dados"
      ]
    },
    {
      "cell_type": "code",
      "execution_count": 2,
      "metadata": {
        "colab": {
          "base_uri": "https://localhost:8080/",
          "height": 255
        },
        "id": "cutQYc-vIb-1",
        "outputId": "5fc1aef4-0be4-432e-eccc-20cf68ce489d"
      },
      "outputs": [
        {
          "output_type": "stream",
          "name": "stdout",
          "text": [
            "\r[*********************100%***********************]  1 of 1 completed\n"
          ]
        },
        {
          "output_type": "execute_result",
          "data": {
            "text/plain": [
              "                Open      High       Low     Close  Adj Close   Volume\n",
              "Date                                                                  \n",
              "2002-01-01  4.333333  4.333333  4.333333  4.333333   2.114040        0\n",
              "2002-01-02  4.396666  4.396666  4.233333  4.250000   2.073386  1032000\n",
              "2002-01-03  4.304166  4.316666  4.303333  4.316666   2.105910  1315200\n",
              "2002-01-04  4.291666  4.416666  4.291666  4.408333   2.150630  1128000\n",
              "2002-01-07  4.408333  4.416666  4.400000  4.408333   2.150630   724800"
            ],
            "text/html": [
              "\n",
              "  <div id=\"df-1c43d269-e191-4d2b-93ca-1ab826abdea3\">\n",
              "    <div class=\"colab-df-container\">\n",
              "      <div>\n",
              "<style scoped>\n",
              "    .dataframe tbody tr th:only-of-type {\n",
              "        vertical-align: middle;\n",
              "    }\n",
              "\n",
              "    .dataframe tbody tr th {\n",
              "        vertical-align: top;\n",
              "    }\n",
              "\n",
              "    .dataframe thead th {\n",
              "        text-align: right;\n",
              "    }\n",
              "</style>\n",
              "<table border=\"1\" class=\"dataframe\">\n",
              "  <thead>\n",
              "    <tr style=\"text-align: right;\">\n",
              "      <th></th>\n",
              "      <th>Open</th>\n",
              "      <th>High</th>\n",
              "      <th>Low</th>\n",
              "      <th>Close</th>\n",
              "      <th>Adj Close</th>\n",
              "      <th>Volume</th>\n",
              "    </tr>\n",
              "    <tr>\n",
              "      <th>Date</th>\n",
              "      <th></th>\n",
              "      <th></th>\n",
              "      <th></th>\n",
              "      <th></th>\n",
              "      <th></th>\n",
              "      <th></th>\n",
              "    </tr>\n",
              "  </thead>\n",
              "  <tbody>\n",
              "    <tr>\n",
              "      <th>2002-01-01</th>\n",
              "      <td>4.333333</td>\n",
              "      <td>4.333333</td>\n",
              "      <td>4.333333</td>\n",
              "      <td>4.333333</td>\n",
              "      <td>2.114040</td>\n",
              "      <td>0</td>\n",
              "    </tr>\n",
              "    <tr>\n",
              "      <th>2002-01-02</th>\n",
              "      <td>4.396666</td>\n",
              "      <td>4.396666</td>\n",
              "      <td>4.233333</td>\n",
              "      <td>4.250000</td>\n",
              "      <td>2.073386</td>\n",
              "      <td>1032000</td>\n",
              "    </tr>\n",
              "    <tr>\n",
              "      <th>2002-01-03</th>\n",
              "      <td>4.304166</td>\n",
              "      <td>4.316666</td>\n",
              "      <td>4.303333</td>\n",
              "      <td>4.316666</td>\n",
              "      <td>2.105910</td>\n",
              "      <td>1315200</td>\n",
              "    </tr>\n",
              "    <tr>\n",
              "      <th>2002-01-04</th>\n",
              "      <td>4.291666</td>\n",
              "      <td>4.416666</td>\n",
              "      <td>4.291666</td>\n",
              "      <td>4.408333</td>\n",
              "      <td>2.150630</td>\n",
              "      <td>1128000</td>\n",
              "    </tr>\n",
              "    <tr>\n",
              "      <th>2002-01-07</th>\n",
              "      <td>4.408333</td>\n",
              "      <td>4.416666</td>\n",
              "      <td>4.400000</td>\n",
              "      <td>4.408333</td>\n",
              "      <td>2.150630</td>\n",
              "      <td>724800</td>\n",
              "    </tr>\n",
              "  </tbody>\n",
              "</table>\n",
              "</div>\n",
              "      <button class=\"colab-df-convert\" onclick=\"convertToInteractive('df-1c43d269-e191-4d2b-93ca-1ab826abdea3')\"\n",
              "              title=\"Convert this dataframe to an interactive table.\"\n",
              "              style=\"display:none;\">\n",
              "        \n",
              "  <svg xmlns=\"http://www.w3.org/2000/svg\" height=\"24px\"viewBox=\"0 0 24 24\"\n",
              "       width=\"24px\">\n",
              "    <path d=\"M0 0h24v24H0V0z\" fill=\"none\"/>\n",
              "    <path d=\"M18.56 5.44l.94 2.06.94-2.06 2.06-.94-2.06-.94-.94-2.06-.94 2.06-2.06.94zm-11 1L8.5 8.5l.94-2.06 2.06-.94-2.06-.94L8.5 2.5l-.94 2.06-2.06.94zm10 10l.94 2.06.94-2.06 2.06-.94-2.06-.94-.94-2.06-.94 2.06-2.06.94z\"/><path d=\"M17.41 7.96l-1.37-1.37c-.4-.4-.92-.59-1.43-.59-.52 0-1.04.2-1.43.59L10.3 9.45l-7.72 7.72c-.78.78-.78 2.05 0 2.83L4 21.41c.39.39.9.59 1.41.59.51 0 1.02-.2 1.41-.59l7.78-7.78 2.81-2.81c.8-.78.8-2.07 0-2.86zM5.41 20L4 18.59l7.72-7.72 1.47 1.35L5.41 20z\"/>\n",
              "  </svg>\n",
              "      </button>\n",
              "      \n",
              "  <style>\n",
              "    .colab-df-container {\n",
              "      display:flex;\n",
              "      flex-wrap:wrap;\n",
              "      gap: 12px;\n",
              "    }\n",
              "\n",
              "    .colab-df-convert {\n",
              "      background-color: #E8F0FE;\n",
              "      border: none;\n",
              "      border-radius: 50%;\n",
              "      cursor: pointer;\n",
              "      display: none;\n",
              "      fill: #1967D2;\n",
              "      height: 32px;\n",
              "      padding: 0 0 0 0;\n",
              "      width: 32px;\n",
              "    }\n",
              "\n",
              "    .colab-df-convert:hover {\n",
              "      background-color: #E2EBFA;\n",
              "      box-shadow: 0px 1px 2px rgba(60, 64, 67, 0.3), 0px 1px 3px 1px rgba(60, 64, 67, 0.15);\n",
              "      fill: #174EA6;\n",
              "    }\n",
              "\n",
              "    [theme=dark] .colab-df-convert {\n",
              "      background-color: #3B4455;\n",
              "      fill: #D2E3FC;\n",
              "    }\n",
              "\n",
              "    [theme=dark] .colab-df-convert:hover {\n",
              "      background-color: #434B5C;\n",
              "      box-shadow: 0px 1px 3px 1px rgba(0, 0, 0, 0.15);\n",
              "      filter: drop-shadow(0px 1px 2px rgba(0, 0, 0, 0.3));\n",
              "      fill: #FFFFFF;\n",
              "    }\n",
              "  </style>\n",
              "\n",
              "      <script>\n",
              "        const buttonEl =\n",
              "          document.querySelector('#df-1c43d269-e191-4d2b-93ca-1ab826abdea3 button.colab-df-convert');\n",
              "        buttonEl.style.display =\n",
              "          google.colab.kernel.accessAllowed ? 'block' : 'none';\n",
              "\n",
              "        async function convertToInteractive(key) {\n",
              "          const element = document.querySelector('#df-1c43d269-e191-4d2b-93ca-1ab826abdea3');\n",
              "          const dataTable =\n",
              "            await google.colab.kernel.invokeFunction('convertToInteractive',\n",
              "                                                     [key], {});\n",
              "          if (!dataTable) return;\n",
              "\n",
              "          const docLinkHtml = 'Like what you see? Visit the ' +\n",
              "            '<a target=\"_blank\" href=https://colab.research.google.com/notebooks/data_table.ipynb>data table notebook</a>'\n",
              "            + ' to learn more about interactive tables.';\n",
              "          element.innerHTML = '';\n",
              "          dataTable['output_type'] = 'display_data';\n",
              "          await google.colab.output.renderOutput(dataTable, element);\n",
              "          const docLink = document.createElement('div');\n",
              "          docLink.innerHTML = docLinkHtml;\n",
              "          element.appendChild(docLink);\n",
              "        }\n",
              "      </script>\n",
              "    </div>\n",
              "  </div>\n",
              "  "
            ]
          },
          "metadata": {},
          "execution_count": 2
        }
      ],
      "source": [
        "#import vale3 para o dataframe df\n",
        "df_vale = yf.download('VALE3.SA', start='2002-01-01', end='2022-08-11')\n",
        "df_vale.index = pd.to_datetime(df_vale.index.date)\n",
        "df_vale.index.name = 'Date'\n",
        "df_vale.head()\n"
      ]
    },
    {
      "cell_type": "code",
      "execution_count": 3,
      "metadata": {
        "colab": {
          "base_uri": "https://localhost:8080/",
          "height": 255
        },
        "id": "6qRTTMzIXfnM",
        "outputId": "2f7495de-2f52-4ee1-e391-eb08575dc314"
      },
      "outputs": [
        {
          "output_type": "stream",
          "name": "stdout",
          "text": [
            "\r[*********************100%***********************]  1 of 1 completed\n"
          ]
        },
        {
          "output_type": "execute_result",
          "data": {
            "text/plain": [
              "               Open     High      Low    Close  Adj Close    Volume\n",
              "Date                                                               \n",
              "2002-01-01  6.39375  6.39375  6.39375  6.39375   2.328510         0\n",
              "2002-01-02  6.45000  6.49000  6.39375  6.40625   2.333061  23920000\n",
              "2002-01-03  6.48625  6.50000  6.42500  6.45000   2.348994  39043200\n",
              "2002-01-04  6.37500  6.45000  6.32500  6.41000   2.334427  21500800\n",
              "2002-01-07  6.37500  6.60000  6.37500  6.55000   2.385413  40406400"
            ],
            "text/html": [
              "\n",
              "  <div id=\"df-3be4dd00-3718-467c-bd55-dd05c2eadb7e\">\n",
              "    <div class=\"colab-df-container\">\n",
              "      <div>\n",
              "<style scoped>\n",
              "    .dataframe tbody tr th:only-of-type {\n",
              "        vertical-align: middle;\n",
              "    }\n",
              "\n",
              "    .dataframe tbody tr th {\n",
              "        vertical-align: top;\n",
              "    }\n",
              "\n",
              "    .dataframe thead th {\n",
              "        text-align: right;\n",
              "    }\n",
              "</style>\n",
              "<table border=\"1\" class=\"dataframe\">\n",
              "  <thead>\n",
              "    <tr style=\"text-align: right;\">\n",
              "      <th></th>\n",
              "      <th>Open</th>\n",
              "      <th>High</th>\n",
              "      <th>Low</th>\n",
              "      <th>Close</th>\n",
              "      <th>Adj Close</th>\n",
              "      <th>Volume</th>\n",
              "    </tr>\n",
              "    <tr>\n",
              "      <th>Date</th>\n",
              "      <th></th>\n",
              "      <th></th>\n",
              "      <th></th>\n",
              "      <th></th>\n",
              "      <th></th>\n",
              "      <th></th>\n",
              "    </tr>\n",
              "  </thead>\n",
              "  <tbody>\n",
              "    <tr>\n",
              "      <th>2002-01-01</th>\n",
              "      <td>6.39375</td>\n",
              "      <td>6.39375</td>\n",
              "      <td>6.39375</td>\n",
              "      <td>6.39375</td>\n",
              "      <td>2.328510</td>\n",
              "      <td>0</td>\n",
              "    </tr>\n",
              "    <tr>\n",
              "      <th>2002-01-02</th>\n",
              "      <td>6.45000</td>\n",
              "      <td>6.49000</td>\n",
              "      <td>6.39375</td>\n",
              "      <td>6.40625</td>\n",
              "      <td>2.333061</td>\n",
              "      <td>23920000</td>\n",
              "    </tr>\n",
              "    <tr>\n",
              "      <th>2002-01-03</th>\n",
              "      <td>6.48625</td>\n",
              "      <td>6.50000</td>\n",
              "      <td>6.42500</td>\n",
              "      <td>6.45000</td>\n",
              "      <td>2.348994</td>\n",
              "      <td>39043200</td>\n",
              "    </tr>\n",
              "    <tr>\n",
              "      <th>2002-01-04</th>\n",
              "      <td>6.37500</td>\n",
              "      <td>6.45000</td>\n",
              "      <td>6.32500</td>\n",
              "      <td>6.41000</td>\n",
              "      <td>2.334427</td>\n",
              "      <td>21500800</td>\n",
              "    </tr>\n",
              "    <tr>\n",
              "      <th>2002-01-07</th>\n",
              "      <td>6.37500</td>\n",
              "      <td>6.60000</td>\n",
              "      <td>6.37500</td>\n",
              "      <td>6.55000</td>\n",
              "      <td>2.385413</td>\n",
              "      <td>40406400</td>\n",
              "    </tr>\n",
              "  </tbody>\n",
              "</table>\n",
              "</div>\n",
              "      <button class=\"colab-df-convert\" onclick=\"convertToInteractive('df-3be4dd00-3718-467c-bd55-dd05c2eadb7e')\"\n",
              "              title=\"Convert this dataframe to an interactive table.\"\n",
              "              style=\"display:none;\">\n",
              "        \n",
              "  <svg xmlns=\"http://www.w3.org/2000/svg\" height=\"24px\"viewBox=\"0 0 24 24\"\n",
              "       width=\"24px\">\n",
              "    <path d=\"M0 0h24v24H0V0z\" fill=\"none\"/>\n",
              "    <path d=\"M18.56 5.44l.94 2.06.94-2.06 2.06-.94-2.06-.94-.94-2.06-.94 2.06-2.06.94zm-11 1L8.5 8.5l.94-2.06 2.06-.94-2.06-.94L8.5 2.5l-.94 2.06-2.06.94zm10 10l.94 2.06.94-2.06 2.06-.94-2.06-.94-.94-2.06-.94 2.06-2.06.94z\"/><path d=\"M17.41 7.96l-1.37-1.37c-.4-.4-.92-.59-1.43-.59-.52 0-1.04.2-1.43.59L10.3 9.45l-7.72 7.72c-.78.78-.78 2.05 0 2.83L4 21.41c.39.39.9.59 1.41.59.51 0 1.02-.2 1.41-.59l7.78-7.78 2.81-2.81c.8-.78.8-2.07 0-2.86zM5.41 20L4 18.59l7.72-7.72 1.47 1.35L5.41 20z\"/>\n",
              "  </svg>\n",
              "      </button>\n",
              "      \n",
              "  <style>\n",
              "    .colab-df-container {\n",
              "      display:flex;\n",
              "      flex-wrap:wrap;\n",
              "      gap: 12px;\n",
              "    }\n",
              "\n",
              "    .colab-df-convert {\n",
              "      background-color: #E8F0FE;\n",
              "      border: none;\n",
              "      border-radius: 50%;\n",
              "      cursor: pointer;\n",
              "      display: none;\n",
              "      fill: #1967D2;\n",
              "      height: 32px;\n",
              "      padding: 0 0 0 0;\n",
              "      width: 32px;\n",
              "    }\n",
              "\n",
              "    .colab-df-convert:hover {\n",
              "      background-color: #E2EBFA;\n",
              "      box-shadow: 0px 1px 2px rgba(60, 64, 67, 0.3), 0px 1px 3px 1px rgba(60, 64, 67, 0.15);\n",
              "      fill: #174EA6;\n",
              "    }\n",
              "\n",
              "    [theme=dark] .colab-df-convert {\n",
              "      background-color: #3B4455;\n",
              "      fill: #D2E3FC;\n",
              "    }\n",
              "\n",
              "    [theme=dark] .colab-df-convert:hover {\n",
              "      background-color: #434B5C;\n",
              "      box-shadow: 0px 1px 3px 1px rgba(0, 0, 0, 0.15);\n",
              "      filter: drop-shadow(0px 1px 2px rgba(0, 0, 0, 0.3));\n",
              "      fill: #FFFFFF;\n",
              "    }\n",
              "  </style>\n",
              "\n",
              "      <script>\n",
              "        const buttonEl =\n",
              "          document.querySelector('#df-3be4dd00-3718-467c-bd55-dd05c2eadb7e button.colab-df-convert');\n",
              "        buttonEl.style.display =\n",
              "          google.colab.kernel.accessAllowed ? 'block' : 'none';\n",
              "\n",
              "        async function convertToInteractive(key) {\n",
              "          const element = document.querySelector('#df-3be4dd00-3718-467c-bd55-dd05c2eadb7e');\n",
              "          const dataTable =\n",
              "            await google.colab.kernel.invokeFunction('convertToInteractive',\n",
              "                                                     [key], {});\n",
              "          if (!dataTable) return;\n",
              "\n",
              "          const docLinkHtml = 'Like what you see? Visit the ' +\n",
              "            '<a target=\"_blank\" href=https://colab.research.google.com/notebooks/data_table.ipynb>data table notebook</a>'\n",
              "            + ' to learn more about interactive tables.';\n",
              "          element.innerHTML = '';\n",
              "          dataTable['output_type'] = 'display_data';\n",
              "          await google.colab.output.renderOutput(dataTable, element);\n",
              "          const docLink = document.createElement('div');\n",
              "          docLink.innerHTML = docLinkHtml;\n",
              "          element.appendChild(docLink);\n",
              "        }\n",
              "      </script>\n",
              "    </div>\n",
              "  </div>\n",
              "  "
            ]
          },
          "metadata": {},
          "execution_count": 3
        }
      ],
      "source": [
        "#import PETR4 para o dataframe df\n",
        "df_petr = yf.download('PETR4.SA', start='2002-01-01', end='2022-08-11')\n",
        "df_petr.index = pd.to_datetime(df_petr.index.date)\n",
        "df_petr.index.name = 'Date'\n",
        "df_petr.head()"
      ]
    },
    {
      "cell_type": "code",
      "execution_count": 4,
      "metadata": {
        "colab": {
          "base_uri": "https://localhost:8080/",
          "height": 255
        },
        "id": "1g5NXK11HIiQ",
        "outputId": "2b4167dd-03a9-42cf-acd9-1274908e914d"
      },
      "outputs": [
        {
          "output_type": "stream",
          "name": "stdout",
          "text": [
            "\r[*********************100%***********************]  1 of 1 completed\n"
          ]
        },
        {
          "output_type": "execute_result",
          "data": {
            "text/plain": [
              "                 Open       High        Low      Close  Adj Close     Volume\n",
              "Date                                                                        \n",
              "2022-08-04  24.049999  24.570000  23.969999  24.469999  24.163214   33908800\n",
              "2022-08-05  24.490000  25.129999  24.230000  24.930000  24.617451   56500800\n",
              "2022-08-08  25.080000  25.290001  24.780001  25.240000  24.923563   40938100\n",
              "2022-08-09  26.040001  26.280001  25.290001  25.900000  25.575287  103830600\n",
              "2022-08-10  26.160000  26.500000  25.900000  26.379999  26.049269   48570000"
            ],
            "text/html": [
              "\n",
              "  <div id=\"df-a5dcb9ff-5ca3-453c-b7ac-dbe4e60577df\">\n",
              "    <div class=\"colab-df-container\">\n",
              "      <div>\n",
              "<style scoped>\n",
              "    .dataframe tbody tr th:only-of-type {\n",
              "        vertical-align: middle;\n",
              "    }\n",
              "\n",
              "    .dataframe tbody tr th {\n",
              "        vertical-align: top;\n",
              "    }\n",
              "\n",
              "    .dataframe thead th {\n",
              "        text-align: right;\n",
              "    }\n",
              "</style>\n",
              "<table border=\"1\" class=\"dataframe\">\n",
              "  <thead>\n",
              "    <tr style=\"text-align: right;\">\n",
              "      <th></th>\n",
              "      <th>Open</th>\n",
              "      <th>High</th>\n",
              "      <th>Low</th>\n",
              "      <th>Close</th>\n",
              "      <th>Adj Close</th>\n",
              "      <th>Volume</th>\n",
              "    </tr>\n",
              "    <tr>\n",
              "      <th>Date</th>\n",
              "      <th></th>\n",
              "      <th></th>\n",
              "      <th></th>\n",
              "      <th></th>\n",
              "      <th></th>\n",
              "      <th></th>\n",
              "    </tr>\n",
              "  </thead>\n",
              "  <tbody>\n",
              "    <tr>\n",
              "      <th>2022-08-04</th>\n",
              "      <td>24.049999</td>\n",
              "      <td>24.570000</td>\n",
              "      <td>23.969999</td>\n",
              "      <td>24.469999</td>\n",
              "      <td>24.163214</td>\n",
              "      <td>33908800</td>\n",
              "    </tr>\n",
              "    <tr>\n",
              "      <th>2022-08-05</th>\n",
              "      <td>24.490000</td>\n",
              "      <td>25.129999</td>\n",
              "      <td>24.230000</td>\n",
              "      <td>24.930000</td>\n",
              "      <td>24.617451</td>\n",
              "      <td>56500800</td>\n",
              "    </tr>\n",
              "    <tr>\n",
              "      <th>2022-08-08</th>\n",
              "      <td>25.080000</td>\n",
              "      <td>25.290001</td>\n",
              "      <td>24.780001</td>\n",
              "      <td>25.240000</td>\n",
              "      <td>24.923563</td>\n",
              "      <td>40938100</td>\n",
              "    </tr>\n",
              "    <tr>\n",
              "      <th>2022-08-09</th>\n",
              "      <td>26.040001</td>\n",
              "      <td>26.280001</td>\n",
              "      <td>25.290001</td>\n",
              "      <td>25.900000</td>\n",
              "      <td>25.575287</td>\n",
              "      <td>103830600</td>\n",
              "    </tr>\n",
              "    <tr>\n",
              "      <th>2022-08-10</th>\n",
              "      <td>26.160000</td>\n",
              "      <td>26.500000</td>\n",
              "      <td>25.900000</td>\n",
              "      <td>26.379999</td>\n",
              "      <td>26.049269</td>\n",
              "      <td>48570000</td>\n",
              "    </tr>\n",
              "  </tbody>\n",
              "</table>\n",
              "</div>\n",
              "      <button class=\"colab-df-convert\" onclick=\"convertToInteractive('df-a5dcb9ff-5ca3-453c-b7ac-dbe4e60577df')\"\n",
              "              title=\"Convert this dataframe to an interactive table.\"\n",
              "              style=\"display:none;\">\n",
              "        \n",
              "  <svg xmlns=\"http://www.w3.org/2000/svg\" height=\"24px\"viewBox=\"0 0 24 24\"\n",
              "       width=\"24px\">\n",
              "    <path d=\"M0 0h24v24H0V0z\" fill=\"none\"/>\n",
              "    <path d=\"M18.56 5.44l.94 2.06.94-2.06 2.06-.94-2.06-.94-.94-2.06-.94 2.06-2.06.94zm-11 1L8.5 8.5l.94-2.06 2.06-.94-2.06-.94L8.5 2.5l-.94 2.06-2.06.94zm10 10l.94 2.06.94-2.06 2.06-.94-2.06-.94-.94-2.06-.94 2.06-2.06.94z\"/><path d=\"M17.41 7.96l-1.37-1.37c-.4-.4-.92-.59-1.43-.59-.52 0-1.04.2-1.43.59L10.3 9.45l-7.72 7.72c-.78.78-.78 2.05 0 2.83L4 21.41c.39.39.9.59 1.41.59.51 0 1.02-.2 1.41-.59l7.78-7.78 2.81-2.81c.8-.78.8-2.07 0-2.86zM5.41 20L4 18.59l7.72-7.72 1.47 1.35L5.41 20z\"/>\n",
              "  </svg>\n",
              "      </button>\n",
              "      \n",
              "  <style>\n",
              "    .colab-df-container {\n",
              "      display:flex;\n",
              "      flex-wrap:wrap;\n",
              "      gap: 12px;\n",
              "    }\n",
              "\n",
              "    .colab-df-convert {\n",
              "      background-color: #E8F0FE;\n",
              "      border: none;\n",
              "      border-radius: 50%;\n",
              "      cursor: pointer;\n",
              "      display: none;\n",
              "      fill: #1967D2;\n",
              "      height: 32px;\n",
              "      padding: 0 0 0 0;\n",
              "      width: 32px;\n",
              "    }\n",
              "\n",
              "    .colab-df-convert:hover {\n",
              "      background-color: #E2EBFA;\n",
              "      box-shadow: 0px 1px 2px rgba(60, 64, 67, 0.3), 0px 1px 3px 1px rgba(60, 64, 67, 0.15);\n",
              "      fill: #174EA6;\n",
              "    }\n",
              "\n",
              "    [theme=dark] .colab-df-convert {\n",
              "      background-color: #3B4455;\n",
              "      fill: #D2E3FC;\n",
              "    }\n",
              "\n",
              "    [theme=dark] .colab-df-convert:hover {\n",
              "      background-color: #434B5C;\n",
              "      box-shadow: 0px 1px 3px 1px rgba(0, 0, 0, 0.15);\n",
              "      filter: drop-shadow(0px 1px 2px rgba(0, 0, 0, 0.3));\n",
              "      fill: #FFFFFF;\n",
              "    }\n",
              "  </style>\n",
              "\n",
              "      <script>\n",
              "        const buttonEl =\n",
              "          document.querySelector('#df-a5dcb9ff-5ca3-453c-b7ac-dbe4e60577df button.colab-df-convert');\n",
              "        buttonEl.style.display =\n",
              "          google.colab.kernel.accessAllowed ? 'block' : 'none';\n",
              "\n",
              "        async function convertToInteractive(key) {\n",
              "          const element = document.querySelector('#df-a5dcb9ff-5ca3-453c-b7ac-dbe4e60577df');\n",
              "          const dataTable =\n",
              "            await google.colab.kernel.invokeFunction('convertToInteractive',\n",
              "                                                     [key], {});\n",
              "          if (!dataTable) return;\n",
              "\n",
              "          const docLinkHtml = 'Like what you see? Visit the ' +\n",
              "            '<a target=\"_blank\" href=https://colab.research.google.com/notebooks/data_table.ipynb>data table notebook</a>'\n",
              "            + ' to learn more about interactive tables.';\n",
              "          element.innerHTML = '';\n",
              "          dataTable['output_type'] = 'display_data';\n",
              "          await google.colab.output.renderOutput(dataTable, element);\n",
              "          const docLink = document.createElement('div');\n",
              "          docLink.innerHTML = docLinkHtml;\n",
              "          element.appendChild(docLink);\n",
              "        }\n",
              "      </script>\n",
              "    </div>\n",
              "  </div>\n",
              "  "
            ]
          },
          "metadata": {},
          "execution_count": 4
        }
      ],
      "source": [
        "df_itub = yf.download('ITUB4.SA', start='2002-01-01', end='2022-08-11')\n",
        "df_itub.index = pd.to_datetime(df_itub.index.date)\n",
        "df_itub.index.name = 'Date'\n",
        "df_itub.tail()"
      ]
    },
    {
      "cell_type": "markdown",
      "metadata": {
        "id": "4IQtzARg-dFt"
      },
      "source": [
        "- ### EDA"
      ]
    },
    {
      "cell_type": "code",
      "execution_count": 5,
      "metadata": {
        "colab": {
          "base_uri": "https://localhost:8080/"
        },
        "id": "d3UFrgHB-Hfp",
        "outputId": "b1381d46-fbd3-4cf0-ccbc-658b4117d303"
      },
      "outputs": [
        {
          "output_type": "stream",
          "name": "stdout",
          "text": [
            "<class 'pandas.core.frame.DataFrame'>\n",
            "DatetimeIndex: 5160 entries, 2002-01-01 to 2022-08-10\n",
            "Data columns (total 6 columns):\n",
            " #   Column     Non-Null Count  Dtype  \n",
            "---  ------     --------------  -----  \n",
            " 0   Open       5160 non-null   float64\n",
            " 1   High       5160 non-null   float64\n",
            " 2   Low        5160 non-null   float64\n",
            " 3   Close      5160 non-null   float64\n",
            " 4   Adj Close  5160 non-null   float64\n",
            " 5   Volume     5160 non-null   int64  \n",
            "dtypes: float64(5), int64(1)\n",
            "memory usage: 282.2 KB\n"
          ]
        }
      ],
      "source": [
        "df_vale.info()"
      ]
    },
    {
      "cell_type": "code",
      "execution_count": 6,
      "metadata": {
        "colab": {
          "base_uri": "https://localhost:8080/"
        },
        "id": "L9fNlaQLMauh",
        "outputId": "f1551ea4-e1f5-4020-f1fc-e14e81104dae"
      },
      "outputs": [
        {
          "output_type": "stream",
          "name": "stdout",
          "text": [
            "<class 'pandas.core.frame.DataFrame'>\n",
            "DatetimeIndex: 5160 entries, 2002-01-01 to 2022-08-10\n",
            "Data columns (total 6 columns):\n",
            " #   Column     Non-Null Count  Dtype  \n",
            "---  ------     --------------  -----  \n",
            " 0   Open       5160 non-null   float64\n",
            " 1   High       5160 non-null   float64\n",
            " 2   Low        5160 non-null   float64\n",
            " 3   Close      5160 non-null   float64\n",
            " 4   Adj Close  5160 non-null   float64\n",
            " 5   Volume     5160 non-null   int64  \n",
            "dtypes: float64(5), int64(1)\n",
            "memory usage: 282.2 KB\n"
          ]
        }
      ],
      "source": [
        "df_petr.info()"
      ]
    },
    {
      "cell_type": "code",
      "execution_count": 7,
      "metadata": {
        "colab": {
          "base_uri": "https://localhost:8080/"
        },
        "id": "jjC8826fMe4s",
        "outputId": "9e94fb3c-e853-4451-bb75-dbc555b0f1ee"
      },
      "outputs": [
        {
          "output_type": "stream",
          "name": "stdout",
          "text": [
            "<class 'pandas.core.frame.DataFrame'>\n",
            "DatetimeIndex: 5160 entries, 2002-01-01 to 2022-08-10\n",
            "Data columns (total 6 columns):\n",
            " #   Column     Non-Null Count  Dtype  \n",
            "---  ------     --------------  -----  \n",
            " 0   Open       5160 non-null   float64\n",
            " 1   High       5160 non-null   float64\n",
            " 2   Low        5160 non-null   float64\n",
            " 3   Close      5160 non-null   float64\n",
            " 4   Adj Close  5160 non-null   float64\n",
            " 5   Volume     5160 non-null   int64  \n",
            "dtypes: float64(5), int64(1)\n",
            "memory usage: 282.2 KB\n"
          ]
        }
      ],
      "source": [
        "df_itub.info()"
      ]
    },
    {
      "cell_type": "code",
      "execution_count": 8,
      "metadata": {
        "colab": {
          "base_uri": "https://localhost:8080/"
        },
        "id": "RIuUajnpZVyJ",
        "outputId": "d6c155a0-9408-4acb-8d33-9491c75ca160"
      },
      "outputs": [
        {
          "output_type": "execute_result",
          "data": {
            "text/plain": [
              "count    5160.000000\n",
              "mean       37.715482\n",
              "std        22.508485\n",
              "min         4.166666\n",
              "25%        20.271250\n",
              "50%        35.285000\n",
              "75%        50.082501\n",
              "max       118.720001\n",
              "Name: Close, dtype: float64"
            ]
          },
          "metadata": {},
          "execution_count": 8
        }
      ],
      "source": [
        "df_vale['Close'].describe()"
      ]
    },
    {
      "cell_type": "code",
      "execution_count": 9,
      "metadata": {
        "colab": {
          "base_uri": "https://localhost:8080/"
        },
        "id": "Dt8rDKftPYxl",
        "outputId": "44ff34bf-7a33-4fe6-f30c-e3530c5c0e04"
      },
      "outputs": [
        {
          "output_type": "execute_result",
          "data": {
            "text/plain": [
              "count    5160.000000\n",
              "mean       20.073443\n",
              "std         9.092163\n",
              "min         4.200000\n",
              "25%        12.849688\n",
              "50%        20.224999\n",
              "75%        26.530001\n",
              "max        52.509998\n",
              "Name: Close, dtype: float64"
            ]
          },
          "metadata": {},
          "execution_count": 9
        }
      ],
      "source": [
        "df_petr['Close'].describe()"
      ]
    },
    {
      "cell_type": "code",
      "execution_count": 10,
      "metadata": {
        "colab": {
          "base_uri": "https://localhost:8080/"
        },
        "id": "zs9XaBVuPcLD",
        "outputId": "d01691fd-e854-4808-91b1-b70535e14927"
      },
      "outputs": [
        {
          "output_type": "execute_result",
          "data": {
            "text/plain": [
              "count    5160.000000\n",
              "mean       17.007691\n",
              "std         9.070170\n",
              "min         1.920716\n",
              "25%        11.201420\n",
              "50%        15.998087\n",
              "75%        23.405000\n",
              "max        39.689999\n",
              "Name: Close, dtype: float64"
            ]
          },
          "metadata": {},
          "execution_count": 10
        }
      ],
      "source": [
        "df_itub['Close'].describe()"
      ]
    },
    {
      "cell_type": "code",
      "execution_count": 11,
      "metadata": {
        "colab": {
          "base_uri": "https://localhost:8080/",
          "height": 295
        },
        "id": "vd0R82XXZdaD",
        "outputId": "21690980-4d34-49dd-9a0d-8f765d27e476"
      },
      "outputs": [
        {
          "output_type": "display_data",
          "data": {
            "text/plain": [
              "<Figure size 432x288 with 1 Axes>"
            ],
            "image/png": "[encoded data removed]"
          },
          "metadata": {
            "needs_background": "light"
          }
        }
      ],
      "source": [
        "plt.plot(df_vale.index, df_vale['Close'])\n",
        "plt.title('VALE3')\n",
        "plt.xlabel('Ano')\n",
        "plt.ylabel('Close em R$')\n",
        "plt.show()"
      ]
    },
    {
      "cell_type": "code",
      "execution_count": 12,
      "metadata": {
        "colab": {
          "base_uri": "https://localhost:8080/",
          "height": 295
        },
        "id": "g_IbTuNVPj4L",
        "outputId": "3f83b9ed-4d14-449d-dfc1-f26041186d4b"
      },
      "outputs": [
        {
          "output_type": "display_data",
          "data": {
            "text/plain": [
              "<Figure size 432x288 with 1 Axes>"
            ],
            "image/png": "[encoded data removed]"
          },
          "metadata": {
            "needs_background": "light"
          }
        }
      ],
      "source": [
        "plt.plot(df_petr.index, df_petr['Close'])\n",
        "plt.title('PETR4')\n",
        "plt.xlabel('Ano')\n",
        "plt.show()"
      ]
    },
    {
      "cell_type": "code",
      "execution_count": 13,
      "metadata": {
        "colab": {
          "base_uri": "https://localhost:8080/",
          "height": 295
        },
        "id": "GGOkrtM3Pn_T",
        "outputId": "8bc20154-df0e-44b5-8a06-fbeb63907896"
      },
      "outputs": [
        {
          "output_type": "display_data",
          "data": {
            "text/plain": [
              "<Figure size 432x288 with 1 Axes>"
            ],
            "image/png": "[encoded data removed]"
          },
          "metadata": {
            "needs_background": "light"
          }
        }
      ],
      "source": [
        "plt.plot(df_itub.index, df_itub['Close'])\n",
        "plt.title('ITUB4')\n",
        "plt.xlabel('Ano')\n",
        "plt.show()"
      ]
    },
    {
      "cell_type": "code",
      "execution_count": 14,
      "metadata": {
        "colab": {
          "base_uri": "https://localhost:8080/",
          "height": 237
        },
        "id": "Lx3QxoiHbsCJ",
        "outputId": "12c4ed63-d82c-431f-9a65-eae5cb967aa1"
      },
      "outputs": [
        {
          "output_type": "execute_result",
          "data": {
            "text/plain": [
              "               Close\n",
              "Date                \n",
              "2002-01-01  4.333333\n",
              "2002-01-02  4.250000\n",
              "2002-01-03  4.316666\n",
              "2002-01-04  4.408333\n",
              "2002-01-07  4.408333"
            ],
            "text/html": [
              "\n",
              "  <div id=\"df-3e2bb197-20b4-4c14-8c60-5e69522e9d55\">\n",
              "    <div class=\"colab-df-container\">\n",
              "      <div>\n",
              "<style scoped>\n",
              "    .dataframe tbody tr th:only-of-type {\n",
              "        vertical-align: middle;\n",
              "    }\n",
              "\n",
              "    .dataframe tbody tr th {\n",
              "        vertical-align: top;\n",
              "    }\n",
              "\n",
              "    .dataframe thead th {\n",
              "        text-align: right;\n",
              "    }\n",
              "</style>\n",
              "<table border=\"1\" class=\"dataframe\">\n",
              "  <thead>\n",
              "    <tr style=\"text-align: right;\">\n",
              "      <th></th>\n",
              "      <th>Close</th>\n",
              "    </tr>\n",
              "    <tr>\n",
              "      <th>Date</th>\n",
              "      <th></th>\n",
              "    </tr>\n",
              "  </thead>\n",
              "  <tbody>\n",
              "    <tr>\n",
              "      <th>2002-01-01</th>\n",
              "      <td>4.333333</td>\n",
              "    </tr>\n",
              "    <tr>\n",
              "      <th>2002-01-02</th>\n",
              "      <td>4.250000</td>\n",
              "    </tr>\n",
              "    <tr>\n",
              "      <th>2002-01-03</th>\n",
              "      <td>4.316666</td>\n",
              "    </tr>\n",
              "    <tr>\n",
              "      <th>2002-01-04</th>\n",
              "      <td>4.408333</td>\n",
              "    </tr>\n",
              "    <tr>\n",
              "      <th>2002-01-07</th>\n",
              "      <td>4.408333</td>\n",
              "    </tr>\n",
              "  </tbody>\n",
              "</table>\n",
              "</div>\n",
              "      <button class=\"colab-df-convert\" onclick=\"convertToInteractive('df-3e2bb197-20b4-4c14-8c60-5e69522e9d55')\"\n",
              "              title=\"Convert this dataframe to an interactive table.\"\n",
              "              style=\"display:none;\">\n",
              "        \n",
              "  <svg xmlns=\"http://www.w3.org/2000/svg\" height=\"24px\"viewBox=\"0 0 24 24\"\n",
              "       width=\"24px\">\n",
              "    <path d=\"M0 0h24v24H0V0z\" fill=\"none\"/>\n",
              "    <path d=\"M18.56 5.44l.94 2.06.94-2.06 2.06-.94-2.06-.94-.94-2.06-.94 2.06-2.06.94zm-11 1L8.5 8.5l.94-2.06 2.06-.94-2.06-.94L8.5 2.5l-.94 2.06-2.06.94zm10 10l.94 2.06.94-2.06 2.06-.94-2.06-.94-.94-2.06-.94 2.06-2.06.94z\"/><path d=\"M17.41 7.96l-1.37-1.37c-.4-.4-.92-.59-1.43-.59-.52 0-1.04.2-1.43.59L10.3 9.45l-7.72 7.72c-.78.78-.78 2.05 0 2.83L4 21.41c.39.39.9.59 1.41.59.51 0 1.02-.2 1.41-.59l7.78-7.78 2.81-2.81c.8-.78.8-2.07 0-2.86zM5.41 20L4 18.59l7.72-7.72 1.47 1.35L5.41 20z\"/>\n",
              "  </svg>\n",
              "      </button>\n",
              "      \n",
              "  <style>\n",
              "    .colab-df-container {\n",
              "      display:flex;\n",
              "      flex-wrap:wrap;\n",
              "      gap: 12px;\n",
              "    }\n",
              "\n",
              "    .colab-df-convert {\n",
              "      background-color: #E8F0FE;\n",
              "      border: none;\n",
              "      border-radius: 50%;\n",
              "      cursor: pointer;\n",
              "      display: none;\n",
              "      fill: #1967D2;\n",
              "      height: 32px;\n",
              "      padding: 0 0 0 0;\n",
              "      width: 32px;\n",
              "    }\n",
              "\n",
              "    .colab-df-convert:hover {\n",
              "      background-color: #E2EBFA;\n",
              "      box-shadow: 0px 1px 2px rgba(60, 64, 67, 0.3), 0px 1px 3px 1px rgba(60, 64, 67, 0.15);\n",
              "      fill: #174EA6;\n",
              "    }\n",
              "\n",
              "    [theme=dark] .colab-df-convert {\n",
              "      background-color: #3B4455;\n",
              "      fill: #D2E3FC;\n",
              "    }\n",
              "\n",
              "    [theme=dark] .colab-df-convert:hover {\n",
              "      background-color: #434B5C;\n",
              "      box-shadow: 0px 1px 3px 1px rgba(0, 0, 0, 0.15);\n",
              "      filter: drop-shadow(0px 1px 2px rgba(0, 0, 0, 0.3));\n",
              "      fill: #FFFFFF;\n",
              "    }\n",
              "  </style>\n",
              "\n",
              "      <script>\n",
              "        const buttonEl =\n",
              "          document.querySelector('#df-3e2bb197-20b4-4c14-8c60-5e69522e9d55 button.colab-df-convert');\n",
              "        buttonEl.style.display =\n",
              "          google.colab.kernel.accessAllowed ? 'block' : 'none';\n",
              "\n",
              "        async function convertToInteractive(key) {\n",
              "          const element = document.querySelector('#df-3e2bb197-20b4-4c14-8c60-5e69522e9d55');\n",
              "          const dataTable =\n",
              "            await google.colab.kernel.invokeFunction('convertToInteractive',\n",
              "                                                     [key], {});\n",
              "          if (!dataTable) return;\n",
              "\n",
              "          const docLinkHtml = 'Like what you see? Visit the ' +\n",
              "            '<a target=\"_blank\" href=https://colab.research.google.com/notebooks/data_table.ipynb>data table notebook</a>'\n",
              "            + ' to learn more about interactive tables.';\n",
              "          element.innerHTML = '';\n",
              "          dataTable['output_type'] = 'display_data';\n",
              "          await google.colab.output.renderOutput(dataTable, element);\n",
              "          const docLink = document.createElement('div');\n",
              "          docLink.innerHTML = docLinkHtml;\n",
              "          element.appendChild(docLink);\n",
              "        }\n",
              "      </script>\n",
              "    </div>\n",
              "  </div>\n",
              "  "
            ]
          },
          "metadata": {},
          "execution_count": 14
        }
      ],
      "source": [
        "df_vale = df_vale.drop(['Open', 'High', 'Low', 'Adj Close', 'Volume'], axis=1)\n",
        "df_vale.head()"
      ]
    },
    {
      "cell_type": "code",
      "execution_count": 15,
      "metadata": {
        "colab": {
          "base_uri": "https://localhost:8080/",
          "height": 237
        },
        "id": "EC3RCbH-TqEh",
        "outputId": "8c5f9dd6-6ca5-4854-8fe4-069059ad0003"
      },
      "outputs": [
        {
          "output_type": "execute_result",
          "data": {
            "text/plain": [
              "              Close\n",
              "Date               \n",
              "2002-01-01  6.39375\n",
              "2002-01-02  6.40625\n",
              "2002-01-03  6.45000\n",
              "2002-01-04  6.41000\n",
              "2002-01-07  6.55000"
            ],
            "text/html": [
              "\n",
              "  <div id=\"df-5b336550-5303-4419-a1d2-813ed3765b2d\">\n",
              "    <div class=\"colab-df-container\">\n",
              "      <div>\n",
              "<style scoped>\n",
              "    .dataframe tbody tr th:only-of-type {\n",
              "        vertical-align: middle;\n",
              "    }\n",
              "\n",
              "    .dataframe tbody tr th {\n",
              "        vertical-align: top;\n",
              "    }\n",
              "\n",
              "    .dataframe thead th {\n",
              "        text-align: right;\n",
              "    }\n",
              "</style>\n",
              "<table border=\"1\" class=\"dataframe\">\n",
              "  <thead>\n",
              "    <tr style=\"text-align: right;\">\n",
              "      <th></th>\n",
              "      <th>Close</th>\n",
              "    </tr>\n",
              "    <tr>\n",
              "      <th>Date</th>\n",
              "      <th></th>\n",
              "    </tr>\n",
              "  </thead>\n",
              "  <tbody>\n",
              "    <tr>\n",
              "      <th>2002-01-01</th>\n",
              "      <td>6.39375</td>\n",
              "    </tr>\n",
              "    <tr>\n",
              "      <th>2002-01-02</th>\n",
              "      <td>6.40625</td>\n",
              "    </tr>\n",
              "    <tr>\n",
              "      <th>2002-01-03</th>\n",
              "      <td>6.45000</td>\n",
              "    </tr>\n",
              "    <tr>\n",
              "      <th>2002-01-04</th>\n",
              "      <td>6.41000</td>\n",
              "    </tr>\n",
              "    <tr>\n",
              "      <th>2002-01-07</th>\n",
              "      <td>6.55000</td>\n",
              "    </tr>\n",
              "  </tbody>\n",
              "</table>\n",
              "</div>\n",
              "      <button class=\"colab-df-convert\" onclick=\"convertToInteractive('df-5b336550-5303-4419-a1d2-813ed3765b2d')\"\n",
              "              title=\"Convert this dataframe to an interactive table.\"\n",
              "              style=\"display:none;\">\n",
              "        \n",
              "  <svg xmlns=\"http://www.w3.org/2000/svg\" height=\"24px\"viewBox=\"0 0 24 24\"\n",
              "       width=\"24px\">\n",
              "    <path d=\"M0 0h24v24H0V0z\" fill=\"none\"/>\n",
              "    <path d=\"M18.56 5.44l.94 2.06.94-2.06 2.06-.94-2.06-.94-.94-2.06-.94 2.06-2.06.94zm-11 1L8.5 8.5l.94-2.06 2.06-.94-2.06-.94L8.5 2.5l-.94 2.06-2.06.94zm10 10l.94 2.06.94-2.06 2.06-.94-2.06-.94-.94-2.06-.94 2.06-2.06.94z\"/><path d=\"M17.41 7.96l-1.37-1.37c-.4-.4-.92-.59-1.43-.59-.52 0-1.04.2-1.43.59L10.3 9.45l-7.72 7.72c-.78.78-.78 2.05 0 2.83L4 21.41c.39.39.9.59 1.41.59.51 0 1.02-.2 1.41-.59l7.78-7.78 2.81-2.81c.8-.78.8-2.07 0-2.86zM5.41 20L4 18.59l7.72-7.72 1.47 1.35L5.41 20z\"/>\n",
              "  </svg>\n",
              "      </button>\n",
              "      \n",
              "  <style>\n",
              "    .colab-df-container {\n",
              "      display:flex;\n",
              "      flex-wrap:wrap;\n",
              "      gap: 12px;\n",
              "    }\n",
              "\n",
              "    .colab-df-convert {\n",
              "      background-color: #E8F0FE;\n",
              "      border: none;\n",
              "      border-radius: 50%;\n",
              "      cursor: pointer;\n",
              "      display: none;\n",
              "      fill: #1967D2;\n",
              "      height: 32px;\n",
              "      padding: 0 0 0 0;\n",
              "      width: 32px;\n",
              "    }\n",
              "\n",
              "    .colab-df-convert:hover {\n",
              "      background-color: #E2EBFA;\n",
              "      box-shadow: 0px 1px 2px rgba(60, 64, 67, 0.3), 0px 1px 3px 1px rgba(60, 64, 67, 0.15);\n",
              "      fill: #174EA6;\n",
              "    }\n",
              "\n",
              "    [theme=dark] .colab-df-convert {\n",
              "      background-color: #3B4455;\n",
              "      fill: #D2E3FC;\n",
              "    }\n",
              "\n",
              "    [theme=dark] .colab-df-convert:hover {\n",
              "      background-color: #434B5C;\n",
              "      box-shadow: 0px 1px 3px 1px rgba(0, 0, 0, 0.15);\n",
              "      filter: drop-shadow(0px 1px 2px rgba(0, 0, 0, 0.3));\n",
              "      fill: #FFFFFF;\n",
              "    }\n",
              "  </style>\n",
              "\n",
              "      <script>\n",
              "        const buttonEl =\n",
              "          document.querySelector('#df-5b336550-5303-4419-a1d2-813ed3765b2d button.colab-df-convert');\n",
              "        buttonEl.style.display =\n",
              "          google.colab.kernel.accessAllowed ? 'block' : 'none';\n",
              "\n",
              "        async function convertToInteractive(key) {\n",
              "          const element = document.querySelector('#df-5b336550-5303-4419-a1d2-813ed3765b2d');\n",
              "          const dataTable =\n",
              "            await google.colab.kernel.invokeFunction('convertToInteractive',\n",
              "                                                     [key], {});\n",
              "          if (!dataTable) return;\n",
              "\n",
              "          const docLinkHtml = 'Like what you see? Visit the ' +\n",
              "            '<a target=\"_blank\" href=https://colab.research.google.com/notebooks/data_table.ipynb>data table notebook</a>'\n",
              "            + ' to learn more about interactive tables.';\n",
              "          element.innerHTML = '';\n",
              "          dataTable['output_type'] = 'display_data';\n",
              "          await google.colab.output.renderOutput(dataTable, element);\n",
              "          const docLink = document.createElement('div');\n",
              "          docLink.innerHTML = docLinkHtml;\n",
              "          element.appendChild(docLink);\n",
              "        }\n",
              "      </script>\n",
              "    </div>\n",
              "  </div>\n",
              "  "
            ]
          },
          "metadata": {},
          "execution_count": 15
        }
      ],
      "source": [
        "df_petr = df_petr.drop(['Open', 'High', 'Low', 'Adj Close', 'Volume'], axis=1)\n",
        "df_petr.head()"
      ]
    },
    {
      "cell_type": "code",
      "execution_count": 16,
      "metadata": {
        "colab": {
          "base_uri": "https://localhost:8080/",
          "height": 237
        },
        "id": "NehfvxZTTqBK",
        "outputId": "ea3e137a-02e3-4af4-a8c8-87a50e810cbe"
      },
      "outputs": [
        {
          "output_type": "execute_result",
          "data": {
            "text/plain": [
              "               Close\n",
              "Date                \n",
              "2002-01-01  2.914025\n",
              "2002-01-02  3.046653\n",
              "2002-01-03  3.013372\n",
              "2002-01-04  2.963864\n",
              "2002-01-07  2.930914"
            ],
            "text/html": [
              "\n",
              "  <div id=\"df-abf657d8-d100-447b-8aef-8dd106dea559\">\n",
              "    <div class=\"colab-df-container\">\n",
              "      <div>\n",
              "<style scoped>\n",
              "    .dataframe tbody tr th:only-of-type {\n",
              "        vertical-align: middle;\n",
              "    }\n",
              "\n",
              "    .dataframe tbody tr th {\n",
              "        vertical-align: top;\n",
              "    }\n",
              "\n",
              "    .dataframe thead th {\n",
              "        text-align: right;\n",
              "    }\n",
              "</style>\n",
              "<table border=\"1\" class=\"dataframe\">\n",
              "  <thead>\n",
              "    <tr style=\"text-align: right;\">\n",
              "      <th></th>\n",
              "      <th>Close</th>\n",
              "    </tr>\n",
              "    <tr>\n",
              "      <th>Date</th>\n",
              "      <th></th>\n",
              "    </tr>\n",
              "  </thead>\n",
              "  <tbody>\n",
              "    <tr>\n",
              "      <th>2002-01-01</th>\n",
              "      <td>2.914025</td>\n",
              "    </tr>\n",
              "    <tr>\n",
              "      <th>2002-01-02</th>\n",
              "      <td>3.046653</td>\n",
              "    </tr>\n",
              "    <tr>\n",
              "      <th>2002-01-03</th>\n",
              "      <td>3.013372</td>\n",
              "    </tr>\n",
              "    <tr>\n",
              "      <th>2002-01-04</th>\n",
              "      <td>2.963864</td>\n",
              "    </tr>\n",
              "    <tr>\n",
              "      <th>2002-01-07</th>\n",
              "      <td>2.930914</td>\n",
              "    </tr>\n",
              "  </tbody>\n",
              "</table>\n",
              "</div>\n",
              "      <button class=\"colab-df-convert\" onclick=\"convertToInteractive('df-abf657d8-d100-447b-8aef-8dd106dea559')\"\n",
              "              title=\"Convert this dataframe to an interactive table.\"\n",
              "              style=\"display:none;\">\n",
              "        \n",
              "  <svg xmlns=\"http://www.w3.org/2000/svg\" height=\"24px\"viewBox=\"0 0 24 24\"\n",
              "       width=\"24px\">\n",
              "    <path d=\"M0 0h24v24H0V0z\" fill=\"none\"/>\n",
              "    <path d=\"M18.56 5.44l.94 2.06.94-2.06 2.06-.94-2.06-.94-.94-2.06-.94 2.06-2.06.94zm-11 1L8.5 8.5l.94-2.06 2.06-.94-2.06-.94L8.5 2.5l-.94 2.06-2.06.94zm10 10l.94 2.06.94-2.06 2.06-.94-2.06-.94-.94-2.06-.94 2.06-2.06.94z\"/><path d=\"M17.41 7.96l-1.37-1.37c-.4-.4-.92-.59-1.43-.59-.52 0-1.04.2-1.43.59L10.3 9.45l-7.72 7.72c-.78.78-.78 2.05 0 2.83L4 21.41c.39.39.9.59 1.41.59.51 0 1.02-.2 1.41-.59l7.78-7.78 2.81-2.81c.8-.78.8-2.07 0-2.86zM5.41 20L4 18.59l7.72-7.72 1.47 1.35L5.41 20z\"/>\n",
              "  </svg>\n",
              "      </button>\n",
              "      \n",
              "  <style>\n",
              "    .colab-df-container {\n",
              "      display:flex;\n",
              "      flex-wrap:wrap;\n",
              "      gap: 12px;\n",
              "    }\n",
              "\n",
              "    .colab-df-convert {\n",
              "      background-color: #E8F0FE;\n",
              "      border: none;\n",
              "      border-radius: 50%;\n",
              "      cursor: pointer;\n",
              "      display: none;\n",
              "      fill: #1967D2;\n",
              "      height: 32px;\n",
              "      padding: 0 0 0 0;\n",
              "      width: 32px;\n",
              "    }\n",
              "\n",
              "    .colab-df-convert:hover {\n",
              "      background-color: #E2EBFA;\n",
              "      box-shadow: 0px 1px 2px rgba(60, 64, 67, 0.3), 0px 1px 3px 1px rgba(60, 64, 67, 0.15);\n",
              "      fill: #174EA6;\n",
              "    }\n",
              "\n",
              "    [theme=dark] .colab-df-convert {\n",
              "      background-color: #3B4455;\n",
              "      fill: #D2E3FC;\n",
              "    }\n",
              "\n",
              "    [theme=dark] .colab-df-convert:hover {\n",
              "      background-color: #434B5C;\n",
              "      box-shadow: 0px 1px 3px 1px rgba(0, 0, 0, 0.15);\n",
              "      filter: drop-shadow(0px 1px 2px rgba(0, 0, 0, 0.3));\n",
              "      fill: #FFFFFF;\n",
              "    }\n",
              "  </style>\n",
              "\n",
              "      <script>\n",
              "        const buttonEl =\n",
              "          document.querySelector('#df-abf657d8-d100-447b-8aef-8dd106dea559 button.colab-df-convert');\n",
              "        buttonEl.style.display =\n",
              "          google.colab.kernel.accessAllowed ? 'block' : 'none';\n",
              "\n",
              "        async function convertToInteractive(key) {\n",
              "          const element = document.querySelector('#df-abf657d8-d100-447b-8aef-8dd106dea559');\n",
              "          const dataTable =\n",
              "            await google.colab.kernel.invokeFunction('convertToInteractive',\n",
              "                                                     [key], {});\n",
              "          if (!dataTable) return;\n",
              "\n",
              "          const docLinkHtml = 'Like what you see? Visit the ' +\n",
              "            '<a target=\"_blank\" href=https://colab.research.google.com/notebooks/data_table.ipynb>data table notebook</a>'\n",
              "            + ' to learn more about interactive tables.';\n",
              "          element.innerHTML = '';\n",
              "          dataTable['output_type'] = 'display_data';\n",
              "          await google.colab.output.renderOutput(dataTable, element);\n",
              "          const docLink = document.createElement('div');\n",
              "          docLink.innerHTML = docLinkHtml;\n",
              "          element.appendChild(docLink);\n",
              "        }\n",
              "      </script>\n",
              "    </div>\n",
              "  </div>\n",
              "  "
            ]
          },
          "metadata": {},
          "execution_count": 16
        }
      ],
      "source": [
        "df_itub = df_itub.drop(['Open', 'High', 'Low', 'Adj Close', 'Volume'], axis=1)\n",
        "df_itub.head()"
      ]
    },
    {
      "cell_type": "markdown",
      "metadata": {
        "id": "2BXIQdNOb0iB"
      },
      "source": [
        "### Estacionariedade"
      ]
    },
    {
      "cell_type": "markdown",
      "metadata": {
        "id": "UerUp_kGb39O"
      },
      "source": [
        "O teste estatístico chamado Augmented Dickey–Fuller (ADCF) considera como hipótese nula a não estacionariedade e como hipótese alternativa a estacionariedade. Para interpretar o teste podemos olhar para o p-valor que tem ser menor do que o nível de significância escolhido e o valor do teste tem que ser menor que o valor crítico para esse mesmo nível de significância."
      ]
    },
    {
      "cell_type": "code",
      "execution_count": 17,
      "metadata": {
        "colab": {
          "base_uri": "https://localhost:8080/"
        },
        "id": "7NRtmvjdbz8z",
        "outputId": "e74e3ad2-aa39-4fb3-9177-d64ec6605d8e"
      },
      "outputs": [
        {
          "output_type": "stream",
          "name": "stdout",
          "text": [
            "VALE3 - ADF Statistic: -1.679  p-value: 0.442\n",
            "PETR4 - ADF Statistic: -2.165 p-value: 0.219\n",
            "ITUB4 - ADF Statistic: -1.668   p-value: 0.448\n"
          ]
        }
      ],
      "source": [
        "# checar estacionariedade\n",
        "# Ho = Série não estacionária\n",
        "# H1 = Série estacionária\n",
        "# p-value < 0.05\n",
        "from statsmodels.tsa.stattools import adfuller\n",
        "\n",
        "result_vale = adfuller(df_vale['Close'])\n",
        "print('VALE3 - ADF Statistic: {}  p-value: {}'.format(round(result_vale[0], 3), round(result_vale[1], 3)))\n",
        "result_petr = adfuller(df_petr['Close'])\n",
        "print('PETR4 - ADF Statistic: {} p-value: {}'.format(round(result_petr[0], 3), round(result_petr[1], 3)))\n",
        "result_itub = adfuller(df_itub['Close'])\n",
        "print('ITUB4 - ADF Statistic: {}   p-value: {}'.format(round(result_itub[0], 3), round(result_itub[1], 3)))"
      ]
    },
    {
      "cell_type": "markdown",
      "metadata": {
        "id": "BtY1fKP2cEWL"
      },
      "source": [
        "p-value > 0.05, portanto, trata-se de séria não estacionária\\"
      ]
    },
    {
      "cell_type": "code",
      "execution_count": 18,
      "metadata": {
        "id": "Sad1n7N9RM-p"
      },
      "outputs": [],
      "source": [
        "# Diferença entre t e (t + 1)\n",
        "diff_vale = pd.DataFrame(df_vale['Close'].diff().dropna())\n",
        "diff_petr = pd.DataFrame(df_petr['Close'].diff().dropna())\n",
        "diff_itub = pd.DataFrame(df_itub['Close'].diff().dropna())"
      ]
    },
    {
      "cell_type": "code",
      "execution_count": 19,
      "metadata": {
        "colab": {
          "base_uri": "https://localhost:8080/"
        },
        "id": "qLYfyFooRNt9",
        "outputId": "4eeb87de-1442-41aa-c4a1-1020dd52afa0"
      },
      "outputs": [
        {
          "output_type": "stream",
          "name": "stdout",
          "text": [
            "VALE3 - ADF Statistic: -17.254  p-value: 0.0\n",
            "PETR4 - ADF Statistic: -20.385  p-value: 0.0\n",
            "ITUB4 - ADF Statistic: -14.747    p-value: 0.0\n"
          ]
        }
      ],
      "source": [
        "# checar estacionariedade\n",
        "# Ho = Série não estacionária\n",
        "# H1 = Série estacionária\n",
        "# p-value < 0.05\n",
        "from statsmodels.tsa.stattools import adfuller\n",
        "\n",
        "\n",
        "result_vale_diff = adfuller(diff_vale['Close'])\n",
        "print('VALE3 - ADF Statistic: {}  p-value: {}'.format(round(result_vale_diff[0], 3), round(result_vale_diff[1], 10)))\n",
        "result_petr_diff = adfuller(diff_petr['Close'])\n",
        "print('PETR4 - ADF Statistic: {}  p-value: {}'.format(round(result_petr_diff[0], 3), round(result_petr_diff[1], 10)))\n",
        "result_itub_diff = adfuller(diff_itub['Close'])\n",
        "print('ITUB4 - ADF Statistic: {}    p-value: {}'.format(round(result_itub_diff[0], 3), round(result_itub_diff[1], 10)))"
      ]
    },
    {
      "cell_type": "markdown",
      "metadata": {
        "id": "M_6Yevx0q47t"
      },
      "source": [
        "p-value < 0.05, hipótese nula rejeitada, trata-se de séria estacionária"
      ]
    },
    {
      "cell_type": "markdown",
      "metadata": {
        "id": "NsX_xSpScIHf"
      },
      "source": [
        "### Autocorrelation Function (ACF)\n",
        "#### AR"
      ]
    },
    {
      "cell_type": "code",
      "execution_count": 20,
      "metadata": {
        "colab": {
          "base_uri": "https://localhost:8080/",
          "height": 184
        },
        "id": "2fGxMpV5cDNR",
        "outputId": "103efa5f-2774-4981-ab37-fb056b039568"
      },
      "outputs": [
        {
          "output_type": "display_data",
          "data": {
            "text/plain": [
              "<Figure size 2304x576 with 2 Axes>"
            ],
            "image/png": "[encoded data removed]"
          },
          "metadata": {
            "needs_background": "light"
          }
        }
      ],
      "source": [
        "from statsmodels.graphics.tsaplots import plot_acf\n",
        "fig, (ax1, ax2) = plt.subplots(1, 2, figsize=(32, 8))\n",
        "\n",
        "ax1.plot(df_vale['Close'])\n",
        "ax1.set_title(\"Original\")\n",
        "plot_acf(df_vale['Close'], ax=ax2);"
      ]
    },
    {
      "cell_type": "code",
      "source": [
        "from statsmodels.graphics.tsaplots import plot_acf\n",
        "fig, (ax1, ax2) = plt.subplots(1, 2, figsize=(32, 8))\n",
        "ax1.plot(df_petr['Close'])\n",
        "ax1.set_title(\"Original\")\n",
        "plot_acf(df_petr['Close'], ax=ax2);"
      ],
      "metadata": {
        "colab": {
          "base_uri": "https://localhost:8080/",
          "height": 185
        },
        "id": "c3kSjdmqMWBq",
        "outputId": "509606fd-7f90-4f42-8512-cd94efe261e0"
      },
      "execution_count": 21,
      "outputs": [
        {
          "output_type": "display_data",
          "data": {
            "text/plain": [
              "<Figure size 2304x576 with 2 Axes>"
            ],
            "image/png": "[encoded data removed]"
          },
          "metadata": {
            "needs_background": "light"
          }
        }
      ]
    },
    {
      "cell_type": "code",
      "source": [
        "from statsmodels.graphics.tsaplots import plot_acf\n",
        "fig, (ax1, ax2) = plt.subplots(1, 2, figsize=(32, 8))\n",
        "ax1.plot(df_itub['Close'])\n",
        "ax1.set_title(\"Original\")\n",
        "plot_acf(df_itub['Close'], ax=ax2);"
      ],
      "metadata": {
        "colab": {
          "base_uri": "https://localhost:8080/",
          "height": 185
        },
        "id": "1V-aDveTMX0I",
        "outputId": "ff644a7e-f0f1-4ceb-85ea-16800a9a61d6"
      },
      "execution_count": 22,
      "outputs": [
        {
          "output_type": "display_data",
          "data": {
            "text/plain": [
              "<Figure size 2304x576 with 2 Axes>"
            ],
            "image/png": "[encoded data removed]"
          },
          "metadata": {
            "needs_background": "light"
          }
        }
      ]
    },
    {
      "cell_type": "code",
      "execution_count": 23,
      "metadata": {
        "colab": {
          "base_uri": "https://localhost:8080/",
          "height": 184
        },
        "id": "n24CFIrPcUCU",
        "outputId": "18799a5c-0512-496e-abb1-b6ffed49ab70"
      },
      "outputs": [
        {
          "output_type": "display_data",
          "data": {
            "text/plain": [
              "<Figure size 2304x576 with 2 Axes>"
            ],
            "image/png": "[encoded data removed]"
          },
          "metadata": {
            "needs_background": "light"
          }
        }
      ],
      "source": [
        "diff_vale = df_vale['Close'].diff().dropna()\n",
        "\n",
        "fig,  (ax1, ax2) = plt.subplots(1, 2, figsize=(32, 8))\n",
        "\n",
        "ax1.plot(diff_vale)\n",
        "ax1.set_title('Difference once')\n",
        "plot_acf(diff_vale, ax=ax2);\n"
      ]
    },
    {
      "cell_type": "code",
      "execution_count": 24,
      "metadata": {
        "colab": {
          "base_uri": "https://localhost:8080/",
          "height": 184
        },
        "id": "8nInctA2j2f4",
        "outputId": "6fafd5ba-9dac-4217-c317-37b3d9a8b938"
      },
      "outputs": [
        {
          "output_type": "display_data",
          "data": {
            "text/plain": [
              "<Figure size 2304x576 with 2 Axes>"
            ],
            "image/png": "[encoded data removed]"
          },
          "metadata": {
            "needs_background": "light"
          }
        }
      ],
      "source": [
        "diff_petr = df_petr['Close'].diff().dropna()\n",
        "\n",
        "fig,  (ax1, ax2) = plt.subplots(1, 2, figsize=(32, 8))\n",
        "\n",
        "ax1.plot(diff_petr)\n",
        "ax1.set_title('Difference once')\n",
        "plot_acf(diff_petr, ax=ax2);\n",
        "\n"
      ]
    },
    {
      "cell_type": "code",
      "execution_count": 25,
      "metadata": {
        "colab": {
          "base_uri": "https://localhost:8080/",
          "height": 184
        },
        "id": "LZMD-icFkCKg",
        "outputId": "58acd9d1-6201-4574-cc03-cddecbb91329"
      },
      "outputs": [
        {
          "output_type": "display_data",
          "data": {
            "text/plain": [
              "<Figure size 2304x576 with 2 Axes>"
            ],
            "image/png": "[encoded data removed]"
          },
          "metadata": {
            "needs_background": "light"
          }
        }
      ],
      "source": [
        "diff_itub = df_itub['Close'].diff().dropna()\n",
        "\n",
        "fig,  (ax1, ax2) = plt.subplots(1, 2, figsize=(32, 8))\n",
        "\n",
        "ax1.plot(diff_itub)\n",
        "ax1.set_title('Difference once')\n",
        "plot_acf(diff_itub, ax=ax2);"
      ]
    },
    {
      "cell_type": "markdown",
      "metadata": {
        "id": "Ze5-g0uO-fCq"
      },
      "source": [
        "### PyCaret ts"
      ]
    },
    {
      "cell_type": "code",
      "execution_count": 73,
      "metadata": {
        "colab": {
          "base_uri": "https://localhost:8080/",
          "height": 269
        },
        "id": "9WqNoxLGlz2C",
        "outputId": "da97ed44-9030-4364-ccad-876c52d54659"
      },
      "outputs": [
        {
          "output_type": "display_data",
          "data": {
            "text/plain": [
              "<Figure size 432x288 with 1 Axes>"
            ],
            "image/png": "[encoded data removed]"
          },
          "metadata": {
            "needs_background": "light"
          }
        }
      ],
      "source": [
        "df_vale.plot();\n",
        "diff_vale.plot();"
      ]
    },
    {
      "cell_type": "code",
      "source": [
        "df_petr.plot();\n",
        "diff_petr.plot();"
      ],
      "metadata": {
        "colab": {
          "base_uri": "https://localhost:8080/",
          "height": 269
        },
        "id": "ycxH38preMc7",
        "outputId": "41480898-3dfc-4834-a4f9-6265015641f4"
      },
      "execution_count": 74,
      "outputs": [
        {
          "output_type": "display_data",
          "data": {
            "text/plain": [
              "<Figure size 432x288 with 1 Axes>"
            ],
            "image/png": "[encoded data removed]"
          },
          "metadata": {
            "needs_background": "light"
          }
        }
      ]
    },
    {
      "cell_type": "code",
      "source": [
        "df_itub.plot();\n",
        "diff_itub.plot();"
      ],
      "metadata": {
        "colab": {
          "base_uri": "https://localhost:8080/",
          "height": 269
        },
        "id": "nlMsLNMFeOQe",
        "outputId": "0889e068-d89b-4061-9313-aff59efc6e8f"
      },
      "execution_count": 75,
      "outputs": [
        {
          "output_type": "display_data",
          "data": {
            "text/plain": [
              "<Figure size 432x288 with 1 Axes>"
            ],
            "image/png": "[encoded data removed]"
          },
          "metadata": {
            "needs_background": "light"
          }
        }
      ]
    },
    {
      "cell_type": "code",
      "execution_count": 91,
      "metadata": {
        "id": "nI5yJnZxsazv"
      },
      "outputs": [],
      "source": [
        "import datetime"
      ]
    },
    {
      "cell_type": "code",
      "source": [
        "papel = df_vale\n",
        "papel_diff = diff_petr"
      ],
      "metadata": {
        "id": "H0pVGp8tiZQz"
      },
      "execution_count": 720,
      "outputs": []
    },
    {
      "cell_type": "code",
      "execution_count": 721,
      "metadata": {
        "id": "lasXTgmeseMW"
      },
      "outputs": [],
      "source": [
        "lst = pd.date_range(start='2002-01-01', end='2022-08-10')"
      ]
    },
    {
      "cell_type": "code",
      "execution_count": 722,
      "metadata": {
        "id": "y-dWr8gqudK0"
      },
      "outputs": [],
      "source": [
        "df_dd = pd.DataFrame(lst, columns = ['Date'])\n",
        "diff_dd = pd.DataFrame(lst, columns = ['Date'])"
      ]
    },
    {
      "cell_type": "code",
      "execution_count": 723,
      "metadata": {
        "id": "imcxXu69vI1o"
      },
      "outputs": [],
      "source": [
        "df_dd = df_dd.merge(papel, how='left', on='Date' )\n",
        "diff_dd = diff_dd.merge(papel_diff, how='left', on='Date')"
      ]
    },
    {
      "cell_type": "code",
      "execution_count": 724,
      "metadata": {
        "id": "W84h0he5XlEN"
      },
      "outputs": [],
      "source": [
        "df_dd = df_dd.fillna(method='ffill').dropna()\n",
        "diff_dd = diff_dd.fillna(method='ffill').dropna()"
      ]
    },
    {
      "cell_type": "code",
      "execution_count": 725,
      "metadata": {
        "id": "YLhcU3L7wLSm"
      },
      "outputs": [],
      "source": [
        "df_dd = df_dd.set_index('Date')\n",
        "diff_dd = diff_dd.set_index('Date')"
      ]
    },
    {
      "cell_type": "code",
      "execution_count": 726,
      "metadata": {
        "id": "VaslVLSUnpcA"
      },
      "outputs": [],
      "source": [
        "def split_data(data, split_date):\n",
        "  return data[data.index <= split_date].copy(), data[data.index > split_date].copy()\n"
      ]
    },
    {
      "cell_type": "code",
      "execution_count": 727,
      "metadata": {
        "colab": {
          "base_uri": "https://localhost:8080/"
        },
        "id": "dLlhDnEbo6vb",
        "outputId": "08350dc4-a73e-490f-9b5f-81128da07863"
      },
      "outputs": [
        {
          "output_type": "execute_result",
          "data": {
            "text/plain": [
              "((7151, 1), (376, 1))"
            ]
          },
          "metadata": {},
          "execution_count": 727
        }
      ],
      "source": [
        "train, test = split_data(df_dd, '2021-07-30')\n",
        "train.shape, test.shape"
      ]
    },
    {
      "cell_type": "code",
      "execution_count": 728,
      "metadata": {
        "colab": {
          "base_uri": "https://localhost:8080/"
        },
        "id": "QcPmajMxuZQp",
        "outputId": "0fe7c6a4-9ad7-4898-d6c8-b602355eb819"
      },
      "outputs": [
        {
          "output_type": "execute_result",
          "data": {
            "text/plain": [
              "((7150, 1), (376, 1))"
            ]
          },
          "metadata": {},
          "execution_count": 728
        }
      ],
      "source": [
        "train_diff, test_diff = split_data(diff_dd, '2021-07-30')\n",
        "train_diff.shape, test_diff.shape"
      ]
    },
    {
      "cell_type": "code",
      "execution_count": 729,
      "metadata": {
        "id": "yGzqgOhel_0b"
      },
      "outputs": [],
      "source": [
        "from pycaret.time_series import *"
      ]
    },
    {
      "cell_type": "code",
      "execution_count": 730,
      "metadata": {
        "colab": {
          "base_uri": "https://localhost:8080/",
          "height": 1000
        },
        "id": "54bqfmYWmLDc",
        "outputId": "70951d92-e89a-4f62-f29a-cf6817644438"
      },
      "outputs": [
        {
          "output_type": "stream",
          "name": "stderr",
          "text": [
            "INFO:logs:PyCaret TSForecastingExperiment\n",
            "INFO:logs:Logging name: ts-default-name\n",
            "INFO:logs:ML Usecase: MLUsecase.TIME_SERIES\n",
            "INFO:logs:version 3.0.0\n",
            "INFO:logs:Initializing setup()\n",
            "INFO:logs:self.USI: 4981\n",
            "INFO:logs:self.variable_keys: {'strictly_positive', '_available_plots', 'y_test_transformed', 'X_test_transformed', 'USI', 'approach_type', 'y_transformed', '_ml_usecase', 'enforce_exogenous', 'display_container', 'index_type', 'X_transformed', 'X', '_all_models_internal', 'experiment__', 'master_model_container', 'log_plots_param', '_gpu_n_jobs_param', 'fold_groups_param_full', 'y_train_transformed', 'gpu_param', 'y_test', 'fh', 'pipeline', 'exogenous_present', 'n_jobs_param', 'exp_id', '_all_metrics', 'fold_generator', 'enforce_pi', 'memory', 'all_sp_values', 'X_train', 'X_test', 'seasonality_present', 'seasonal_period', 'seed', 'primary_sp_to_use', 'y_train', 'idx', 'y', 'fold_param', 'X_train_transformed', '_all_models', 'variable_keys', 'data', 'html_param', 'exp_name_log', 'logging_param'}\n",
            "INFO:logs:Checking environment\n",
            "INFO:logs:python_version: 3.7.14\n",
            "INFO:logs:python_build: ('default', 'Sep  8 2022 00:06:44')\n",
            "INFO:logs:machine: x86_64\n",
            "INFO:logs:platform: Linux-5.10.133+-x86_64-with-Ubuntu-18.04-bionic\n",
            "INFO:logs:Memory: svmem(total=13616353280, available=9632133120, percent=29.3, used=5355188224, free=1009610752, active=1120149504, inactive=10910052352, buffers=227278848, cached=7024275456, shared=16125952, slab=315428864)\n",
            "INFO:logs:Physical Core: 1\n",
            "INFO:logs:Logical Core: 2\n",
            "INFO:logs:Checking libraries\n",
            "INFO:logs:pd==1.3.5\n",
            "INFO:logs:numpy==1.21.6\n",
            "INFO:logs:sklearn==1.0.2\n",
            "INFO:logs:lightgbm==3.3.3\n",
            "INFO:logs:xgboost==0.90\n",
            "WARNING:logs:catboost not found\n",
            "WARNING:logs:mlflow not found\n",
            "INFO:logs:Set Forecast Horizon.\n",
            "INFO:logs:Set up Train-Test Splits.\n",
            "INFO:logs:Preparing preprocessing pipeline...\n",
            "INFO:logs:Finished creating preprocessing pipeline.\n",
            "INFO:logs:Pipeline: PyCaretForecastingPipeline(steps=[('forecaster',\n",
            "                                   TransformedTargetForecaster(steps=[('model',\n",
            "                                                                       DummyForecaster())]))])\n",
            "INFO:logs:Set up Seasonal Period.\n",
            "INFO:logs:Set up whether Multiplicative components allowed.\n",
            "INFO:logs:Creating final display dataframe.\n",
            "INFO:logs:Setup Display Container:                     Description                    Value\n",
            "0                    session_id                     7484\n",
            "1                        Target                    Close\n",
            "2                      Approach               Univariate\n",
            "3           Exogenous Variables              Not Present\n",
            "4                    Data shape                (7150, 1)\n",
            "5              Train data shape                (7149, 1)\n",
            "6               Test data shape                   (1, 1)\n",
            "7                Fold Generator  ExpandingWindowSplitter\n",
            "8                   Fold Number                        1\n",
            "9   Enforce Prediction Interval                    False\n",
            "10    Seasonal Period(s) Tested                        7\n",
            "11          Seasonality Present                    False\n",
            "12       Seasonalities Detected                      [1]\n",
            "13          Primary Seasonality                        1\n",
            "14     Target Strictly Positive                    False\n",
            "15           Target White Noise                       No\n",
            "16                Recommended d                        0\n",
            "17       Recommended Seasonal D                        0\n",
            "18               Missing Values                        0\n",
            "19                   Preprocess                     True\n",
            "20                     CPU Jobs                       -1\n",
            "21                      Use GPU                    False\n",
            "22               Log Experiment                    False\n",
            "23              Experiment Name          ts-default-name\n",
            "24                          USI                     4981\n",
            "INFO:logs:Preparing display monitor\n"
          ]
        },
        {
          "output_type": "display_data",
          "data": {
            "text/plain": [
              "                    Description                    Value\n",
              "0                    session_id                     7484\n",
              "1                        Target                    Close\n",
              "2                      Approach               Univariate\n",
              "3           Exogenous Variables              Not Present\n",
              "4                    Data shape                (7150, 1)\n",
              "5              Train data shape                (7149, 1)\n",
              "6               Test data shape                   (1, 1)\n",
              "7                Fold Generator  ExpandingWindowSplitter\n",
              "8                   Fold Number                        1\n",
              "9   Enforce Prediction Interval                    False\n",
              "10    Seasonal Period(s) Tested                        7\n",
              "11          Seasonality Present                    False\n",
              "12       Seasonalities Detected                      [1]\n",
              "13          Primary Seasonality                        1\n",
              "14     Target Strictly Positive                    False\n",
              "15           Target White Noise                       No\n",
              "16                Recommended d                        0\n",
              "17       Recommended Seasonal D                        0\n",
              "18               Missing Values                        0\n",
              "19                   Preprocess                     True\n",
              "20                     CPU Jobs                       -1\n",
              "21                      Use GPU                    False\n",
              "22               Log Experiment                    False\n",
              "23              Experiment Name          ts-default-name\n",
              "24                          USI                     4981"
            ],
            "text/html": [
              "\n",
              "  <div id=\"df-98494f22-8e5d-495d-b408-357c6c641ea2\">\n",
              "    <div class=\"colab-df-container\">\n",
              "      <div>\n",
              "<style scoped>\n",
              "    .dataframe tbody tr th:only-of-type {\n",
              "        vertical-align: middle;\n",
              "    }\n",
              "\n",
              "    .dataframe tbody tr th {\n",
              "        vertical-align: top;\n",
              "    }\n",
              "\n",
              "    .dataframe thead th {\n",
              "        text-align: right;\n",
              "    }\n",
              "</style>\n",
              "<table border=\"1\" class=\"dataframe\">\n",
              "  <thead>\n",
              "    <tr style=\"text-align: right;\">\n",
              "      <th></th>\n",
              "      <th>Description</th>\n",
              "      <th>Value</th>\n",
              "    </tr>\n",
              "  </thead>\n",
              "  <tbody>\n",
              "    <tr>\n",
              "      <th>0</th>\n",
              "      <td>session_id</td>\n",
              "      <td>7484</td>\n",
              "    </tr>\n",
              "    <tr>\n",
              "      <th>1</th>\n",
              "      <td>Target</td>\n",
              "      <td>Close</td>\n",
              "    </tr>\n",
              "    <tr>\n",
              "      <th>2</th>\n",
              "      <td>Approach</td>\n",
              "      <td>Univariate</td>\n",
              "    </tr>\n",
              "    <tr>\n",
              "      <th>3</th>\n",
              "      <td>Exogenous Variables</td>\n",
              "      <td>Not Present</td>\n",
              "    </tr>\n",
              "    <tr>\n",
              "      <th>4</th>\n",
              "      <td>Data shape</td>\n",
              "      <td>(7150, 1)</td>\n",
              "    </tr>\n",
              "    <tr>\n",
              "      <th>5</th>\n",
              "      <td>Train data shape</td>\n",
              "      <td>(7149, 1)</td>\n",
              "    </tr>\n",
              "    <tr>\n",
              "      <th>6</th>\n",
              "      <td>Test data shape</td>\n",
              "      <td>(1, 1)</td>\n",
              "    </tr>\n",
              "    <tr>\n",
              "      <th>7</th>\n",
              "      <td>Fold Generator</td>\n",
              "      <td>ExpandingWindowSplitter</td>\n",
              "    </tr>\n",
              "    <tr>\n",
              "      <th>8</th>\n",
              "      <td>Fold Number</td>\n",
              "      <td>1</td>\n",
              "    </tr>\n",
              "    <tr>\n",
              "      <th>9</th>\n",
              "      <td>Enforce Prediction Interval</td>\n",
              "      <td>False</td>\n",
              "    </tr>\n",
              "    <tr>\n",
              "      <th>10</th>\n",
              "      <td>Seasonal Period(s) Tested</td>\n",
              "      <td>7</td>\n",
              "    </tr>\n",
              "    <tr>\n",
              "      <th>11</th>\n",
              "      <td>Seasonality Present</td>\n",
              "      <td>False</td>\n",
              "    </tr>\n",
              "    <tr>\n",
              "      <th>12</th>\n",
              "      <td>Seasonalities Detected</td>\n",
              "      <td>[1]</td>\n",
              "    </tr>\n",
              "    <tr>\n",
              "      <th>13</th>\n",
              "      <td>Primary Seasonality</td>\n",
              "      <td>1</td>\n",
              "    </tr>\n",
              "    <tr>\n",
              "      <th>14</th>\n",
              "      <td>Target Strictly Positive</td>\n",
              "      <td>False</td>\n",
              "    </tr>\n",
              "    <tr>\n",
              "      <th>15</th>\n",
              "      <td>Target White Noise</td>\n",
              "      <td>No</td>\n",
              "    </tr>\n",
              "    <tr>\n",
              "      <th>16</th>\n",
              "      <td>Recommended d</td>\n",
              "      <td>0</td>\n",
              "    </tr>\n",
              "    <tr>\n",
              "      <th>17</th>\n",
              "      <td>Recommended Seasonal D</td>\n",
              "      <td>0</td>\n",
              "    </tr>\n",
              "    <tr>\n",
              "      <th>18</th>\n",
              "      <td>Missing Values</td>\n",
              "      <td>0</td>\n",
              "    </tr>\n",
              "    <tr>\n",
              "      <th>19</th>\n",
              "      <td>Preprocess</td>\n",
              "      <td>True</td>\n",
              "    </tr>\n",
              "    <tr>\n",
              "      <th>20</th>\n",
              "      <td>CPU Jobs</td>\n",
              "      <td>-1</td>\n",
              "    </tr>\n",
              "    <tr>\n",
              "      <th>21</th>\n",
              "      <td>Use GPU</td>\n",
              "      <td>False</td>\n",
              "    </tr>\n",
              "    <tr>\n",
              "      <th>22</th>\n",
              "      <td>Log Experiment</td>\n",
              "      <td>False</td>\n",
              "    </tr>\n",
              "    <tr>\n",
              "      <th>23</th>\n",
              "      <td>Experiment Name</td>\n",
              "      <td>ts-default-name</td>\n",
              "    </tr>\n",
              "    <tr>\n",
              "      <th>24</th>\n",
              "      <td>USI</td>\n",
              "      <td>4981</td>\n",
              "    </tr>\n",
              "  </tbody>\n",
              "</table>\n",
              "</div>\n",
              "      <button class=\"colab-df-convert\" onclick=\"convertToInteractive('df-98494f22-8e5d-495d-b408-357c6c641ea2')\"\n",
              "              title=\"Convert this dataframe to an interactive table.\"\n",
              "              style=\"display:none;\">\n",
              "        \n",
              "  <svg xmlns=\"http://www.w3.org/2000/svg\" height=\"24px\"viewBox=\"0 0 24 24\"\n",
              "       width=\"24px\">\n",
              "    <path d=\"M0 0h24v24H0V0z\" fill=\"none\"/>\n",
              "    <path d=\"M18.56 5.44l.94 2.06.94-2.06 2.06-.94-2.06-.94-.94-2.06-.94 2.06-2.06.94zm-11 1L8.5 8.5l.94-2.06 2.06-.94-2.06-.94L8.5 2.5l-.94 2.06-2.06.94zm10 10l.94 2.06.94-2.06 2.06-.94-2.06-.94-.94-2.06-.94 2.06-2.06.94z\"/><path d=\"M17.41 7.96l-1.37-1.37c-.4-.4-.92-.59-1.43-.59-.52 0-1.04.2-1.43.59L10.3 9.45l-7.72 7.72c-.78.78-.78 2.05 0 2.83L4 21.41c.39.39.9.59 1.41.59.51 0 1.02-.2 1.41-.59l7.78-7.78 2.81-2.81c.8-.78.8-2.07 0-2.86zM5.41 20L4 18.59l7.72-7.72 1.47 1.35L5.41 20z\"/>\n",
              "  </svg>\n",
              "      </button>\n",
              "      \n",
              "  <style>\n",
              "    .colab-df-container {\n",
              "      display:flex;\n",
              "      flex-wrap:wrap;\n",
              "      gap: 12px;\n",
              "    }\n",
              "\n",
              "    .colab-df-convert {\n",
              "      background-color: #E8F0FE;\n",
              "      border: none;\n",
              "      border-radius: 50%;\n",
              "      cursor: pointer;\n",
              "      display: none;\n",
              "      fill: #1967D2;\n",
              "      height: 32px;\n",
              "      padding: 0 0 0 0;\n",
              "      width: 32px;\n",
              "    }\n",
              "\n",
              "    .colab-df-convert:hover {\n",
              "      background-color: #E2EBFA;\n",
              "      box-shadow: 0px 1px 2px rgba(60, 64, 67, 0.3), 0px 1px 3px 1px rgba(60, 64, 67, 0.15);\n",
              "      fill: #174EA6;\n",
              "    }\n",
              "\n",
              "    [theme=dark] .colab-df-convert {\n",
              "      background-color: #3B4455;\n",
              "      fill: #D2E3FC;\n",
              "    }\n",
              "\n",
              "    [theme=dark] .colab-df-convert:hover {\n",
              "      background-color: #434B5C;\n",
              "      box-shadow: 0px 1px 3px 1px rgba(0, 0, 0, 0.15);\n",
              "      filter: drop-shadow(0px 1px 2px rgba(0, 0, 0, 0.3));\n",
              "      fill: #FFFFFF;\n",
              "    }\n",
              "  </style>\n",
              "\n",
              "      <script>\n",
              "        const buttonEl =\n",
              "          document.querySelector('#df-98494f22-8e5d-495d-b408-357c6c641ea2 button.colab-df-convert');\n",
              "        buttonEl.style.display =\n",
              "          google.colab.kernel.accessAllowed ? 'block' : 'none';\n",
              "\n",
              "        async function convertToInteractive(key) {\n",
              "          const element = document.querySelector('#df-98494f22-8e5d-495d-b408-357c6c641ea2');\n",
              "          const dataTable =\n",
              "            await google.colab.kernel.invokeFunction('convertToInteractive',\n",
              "                                                     [key], {});\n",
              "          if (!dataTable) return;\n",
              "\n",
              "          const docLinkHtml = 'Like what you see? Visit the ' +\n",
              "            '<a target=\"_blank\" href=https://colab.research.google.com/notebooks/data_table.ipynb>data table notebook</a>'\n",
              "            + ' to learn more about interactive tables.';\n",
              "          element.innerHTML = '';\n",
              "          dataTable['output_type'] = 'display_data';\n",
              "          await google.colab.output.renderOutput(dataTable, element);\n",
              "          const docLink = document.createElement('div');\n",
              "          docLink.innerHTML = docLinkHtml;\n",
              "          element.appendChild(docLink);\n",
              "        }\n",
              "      </script>\n",
              "    </div>\n",
              "  </div>\n",
              "  "
            ]
          },
          "metadata": {}
        },
        {
          "output_type": "stream",
          "name": "stderr",
          "text": [
            "WARNING:logs:Wrong xgboost version. Expected xgboost>=1.1.0, got xgboost==(0, 90)\n",
            "WARNING:logs:Wrong xgboost version. Expected xgboost>=1.1.0, got xgboost==(0, 90)\n",
            "WARNING:logs:Couldn't import catboost.CatBoostRegressor\n",
            "WARNING:logs:Couldn't import catboost.CatBoostRegressor\n",
            "WARNING:logs:Wrong xgboost version. Expected xgboost>=1.1.0, got xgboost==(0, 90)\n",
            "WARNING:logs:Wrong xgboost version. Expected xgboost>=1.1.0, got xgboost==(0, 90)\n",
            "WARNING:logs:Couldn't import catboost.CatBoostRegressor\n",
            "WARNING:logs:Couldn't import catboost.CatBoostRegressor\n",
            "INFO:logs:setup() successfully completed in 0.24s...............\n"
          ]
        }
      ],
      "source": [
        "ts = setup(train_diff, fh = 1, fold=1)"
      ]
    },
    {
      "cell_type": "code",
      "execution_count": 731,
      "metadata": {
        "colab": {
          "base_uri": "https://localhost:8080/",
          "height": 1000,
          "referenced_widgets": [
            "386f58fdec21468aa3f2cd5ee202e2e1",
            "5d892d7c10764e69b466cf044730bf85",
            "b730576438cb4906ab5f93c01b36cdfe"
          ]
        },
        "id": "NvjJ_uiRwsYJ",
        "outputId": "ece782e6-814c-4176-cb67-7cb7b553c4e0"
      },
      "outputs": [
        {
          "output_type": "display_data",
          "data": {
            "text/plain": [
              "                                                             Model     MAE  \\\n",
              "croston                                                    Croston  0.0405   \n",
              "br_cds_dt        Bayesian Ridge w/ Cond. Deseasonalize & Detren...  0.0408   \n",
              "ridge_cds_dt             Ridge w/ Cond. Deseasonalize & Detrending   0.041   \n",
              "lar_cds_dt       Least Angular Regressor w/ Cond. Deseasonalize...  0.0411   \n",
              "omp_cds_dt       Orthogonal Matching Pursuit w/ Cond. Deseasona...  0.0411   \n",
              "lr_cds_dt               Linear w/ Cond. Deseasonalize & Detrending  0.0411   \n",
              "auto_arima                                              Auto ARIMA  0.0308   \n",
              "arima                                                        ARIMA  0.0537   \n",
              "lightgbm_cds_dt  Light Gradient Boosting w/ Cond. Deseasonalize...  0.0607   \n",
              "gbr_cds_dt       Gradient Boosting w/ Cond. Deseasonalize & Det...  0.0862   \n",
              "huber_cds_dt             Huber w/ Cond. Deseasonalize & Detrending  0.0908   \n",
              "knn_cds_dt         K Neighbors w/ Cond. Deseasonalize & Detrending  0.1825   \n",
              "ada_cds_dt            AdaBoost w/ Cond. Deseasonalize & Detrending  0.0793   \n",
              "naive                                             Naive Forecaster    0.46   \n",
              "grand_means                                 Grand Means Forecaster   0.096   \n",
              "rf_cds_dt        Random Forest w/ Cond. Deseasonalize & Detrending  0.1146   \n",
              "et_cds_dt          Extra Trees w/ Cond. Deseasonalize & Detrending  0.1315   \n",
              "par_cds_dt       Passive Aggressive w/ Cond. Deseasonalize & De...  0.1706   \n",
              "dt_cds_dt        Decision Tree w/ Cond. Deseasonalize & Detrending  0.3508   \n",
              "polytrend                              Polynomial Trend Forecaster  0.1131   \n",
              "exp_smooth                                   Exponential Smoothing  0.1154   \n",
              "ets                                                            ETS  0.1172   \n",
              "theta                                             Theta Forecaster  0.1131   \n",
              "en_cds_dt          Elastic Net w/ Cond. Deseasonalize & Detrending  0.1131   \n",
              "lasso_cds_dt             Lasso w/ Cond. Deseasonalize & Detrending  0.1131   \n",
              "llar_cds_dt      Lasso Least Angular Regressor w/ Cond. Deseaso...  0.1131   \n",
              "\n",
              "                   RMSE    MAPE   SMAPE    MASE   RMSSE  TT (Sec)  \n",
              "croston          0.0405  0.4046  0.3365  0.1154  0.0626      1.14  \n",
              "br_cds_dt        0.0408  0.4083  0.3391  0.1165  0.0632      0.98  \n",
              "ridge_cds_dt      0.041  0.4103  0.3405   0.117  0.0635      0.95  \n",
              "lar_cds_dt       0.0411  0.4111   0.341  0.1172  0.0636      0.93  \n",
              "omp_cds_dt       0.0411  0.4111   0.341  0.1172  0.0636      0.98  \n",
              "lr_cds_dt        0.0411  0.4111   0.341  0.1172  0.0636      1.05  \n",
              "auto_arima       0.0308   0.308  0.3641  0.0879  0.0477     30.71  \n",
              "arima            0.0537  0.5372  0.4235  0.1532  0.0831      0.55  \n",
              "lightgbm_cds_dt  0.0607  0.6072  0.4658  0.1732  0.0939      1.52  \n",
              "gbr_cds_dt       0.0862  0.8619  0.6023  0.2458  0.1333      1.29  \n",
              "huber_cds_dt     0.0908  0.9077  0.6243  0.2589  0.1404      0.94  \n",
              "knn_cds_dt       0.1825  1.8255  0.9544  0.5207  0.2824      1.02  \n",
              "ada_cds_dt       0.0793  0.7926  1.3129  0.2261  0.1226      1.12  \n",
              "naive              0.46     4.6  1.3939   1.312  0.7116      1.60  \n",
              "grand_means       0.096  0.9601  1.8465  0.2738  0.1485      1.19  \n",
              "rf_cds_dt        0.1146  1.1459     2.0  0.3268  0.1773      1.89  \n",
              "et_cds_dt        0.1315   1.315     2.0  0.3751  0.2034      1.46  \n",
              "par_cds_dt       0.1706  1.7058     2.0  0.4865  0.2639      0.93  \n",
              "dt_cds_dt        0.3508  3.5081     2.0  1.0006  0.5427      0.95  \n",
              "polytrend        0.1131  1.1309     2.0  0.3225   0.175      0.04  \n",
              "exp_smooth       0.1154  1.1542     2.0  0.3292  0.1786      0.56  \n",
              "ets              0.1172  1.1724     2.0  0.3344  0.1814      0.28  \n",
              "theta            0.1131  1.1309     2.0  0.3226   0.175      0.13  \n",
              "en_cds_dt        0.1131  1.1308     2.0  0.3225  0.1749      1.00  \n",
              "lasso_cds_dt     0.1131  1.1308     2.0  0.3225  0.1749      1.01  \n",
              "llar_cds_dt      0.1131  1.1308     2.0  0.3225  0.1749      0.94  "
            ],
            "text/html": [
              "\n",
              "  <div id=\"df-168bfd4a-cc4e-432d-a434-62900a7c3d4a\">\n",
              "    <div class=\"colab-df-container\">\n",
              "      <div>\n",
              "<style scoped>\n",
              "    .dataframe tbody tr th:only-of-type {\n",
              "        vertical-align: middle;\n",
              "    }\n",
              "\n",
              "    .dataframe tbody tr th {\n",
              "        vertical-align: top;\n",
              "    }\n",
              "\n",
              "    .dataframe thead th {\n",
              "        text-align: right;\n",
              "    }\n",
              "</style>\n",
              "<table border=\"1\" class=\"dataframe\">\n",
              "  <thead>\n",
              "    <tr style=\"text-align: right;\">\n",
              "      <th></th>\n",
              "      <th>Model</th>\n",
              "      <th>MAE</th>\n",
              "      <th>RMSE</th>\n",
              "      <th>MAPE</th>\n",
              "      <th>SMAPE</th>\n",
              "      <th>MASE</th>\n",
              "      <th>RMSSE</th>\n",
              "      <th>TT (Sec)</th>\n",
              "    </tr>\n",
              "  </thead>\n",
              "  <tbody>\n",
              "    <tr>\n",
              "      <th>croston</th>\n",
              "      <td>Croston</td>\n",
              "      <td>0.0405</td>\n",
              "      <td>0.0405</td>\n",
              "      <td>0.4046</td>\n",
              "      <td>0.3365</td>\n",
              "      <td>0.1154</td>\n",
              "      <td>0.0626</td>\n",
              "      <td>1.14</td>\n",
              "    </tr>\n",
              "    <tr>\n",
              "      <th>br_cds_dt</th>\n",
              "      <td>Bayesian Ridge w/ Cond. Deseasonalize &amp; Detren...</td>\n",
              "      <td>0.0408</td>\n",
              "      <td>0.0408</td>\n",
              "      <td>0.4083</td>\n",
              "      <td>0.3391</td>\n",
              "      <td>0.1165</td>\n",
              "      <td>0.0632</td>\n",
              "      <td>0.98</td>\n",
              "    </tr>\n",
              "    <tr>\n",
              "      <th>ridge_cds_dt</th>\n",
              "      <td>Ridge w/ Cond. Deseasonalize &amp; Detrending</td>\n",
              "      <td>0.041</td>\n",
              "      <td>0.041</td>\n",
              "      <td>0.4103</td>\n",
              "      <td>0.3405</td>\n",
              "      <td>0.117</td>\n",
              "      <td>0.0635</td>\n",
              "      <td>0.95</td>\n",
              "    </tr>\n",
              "    <tr>\n",
              "      <th>lar_cds_dt</th>\n",
              "      <td>Least Angular Regressor w/ Cond. Deseasonalize...</td>\n",
              "      <td>0.0411</td>\n",
              "      <td>0.0411</td>\n",
              "      <td>0.4111</td>\n",
              "      <td>0.341</td>\n",
              "      <td>0.1172</td>\n",
              "      <td>0.0636</td>\n",
              "      <td>0.93</td>\n",
              "    </tr>\n",
              "    <tr>\n",
              "      <th>omp_cds_dt</th>\n",
              "      <td>Orthogonal Matching Pursuit w/ Cond. Deseasona...</td>\n",
              "      <td>0.0411</td>\n",
              "      <td>0.0411</td>\n",
              "      <td>0.4111</td>\n",
              "      <td>0.341</td>\n",
              "      <td>0.1172</td>\n",
              "      <td>0.0636</td>\n",
              "      <td>0.98</td>\n",
              "    </tr>\n",
              "    <tr>\n",
              "      <th>lr_cds_dt</th>\n",
              "      <td>Linear w/ Cond. Deseasonalize &amp; Detrending</td>\n",
              "      <td>0.0411</td>\n",
              "      <td>0.0411</td>\n",
              "      <td>0.4111</td>\n",
              "      <td>0.341</td>\n",
              "      <td>0.1172</td>\n",
              "      <td>0.0636</td>\n",
              "      <td>1.05</td>\n",
              "    </tr>\n",
              "    <tr>\n",
              "      <th>auto_arima</th>\n",
              "      <td>Auto ARIMA</td>\n",
              "      <td>0.0308</td>\n",
              "      <td>0.0308</td>\n",
              "      <td>0.308</td>\n",
              "      <td>0.3641</td>\n",
              "      <td>0.0879</td>\n",
              "      <td>0.0477</td>\n",
              "      <td>30.71</td>\n",
              "    </tr>\n",
              "    <tr>\n",
              "      <th>arima</th>\n",
              "      <td>ARIMA</td>\n",
              "      <td>0.0537</td>\n",
              "      <td>0.0537</td>\n",
              "      <td>0.5372</td>\n",
              "      <td>0.4235</td>\n",
              "      <td>0.1532</td>\n",
              "      <td>0.0831</td>\n",
              "      <td>0.55</td>\n",
              "    </tr>\n",
              "    <tr>\n",
              "      <th>lightgbm_cds_dt</th>\n",
              "      <td>Light Gradient Boosting w/ Cond. Deseasonalize...</td>\n",
              "      <td>0.0607</td>\n",
              "      <td>0.0607</td>\n",
              "      <td>0.6072</td>\n",
              "      <td>0.4658</td>\n",
              "      <td>0.1732</td>\n",
              "      <td>0.0939</td>\n",
              "      <td>1.52</td>\n",
              "    </tr>\n",
              "    <tr>\n",
              "      <th>gbr_cds_dt</th>\n",
              "      <td>Gradient Boosting w/ Cond. Deseasonalize &amp; Det...</td>\n",
              "      <td>0.0862</td>\n",
              "      <td>0.0862</td>\n",
              "      <td>0.8619</td>\n",
              "      <td>0.6023</td>\n",
              "      <td>0.2458</td>\n",
              "      <td>0.1333</td>\n",
              "      <td>1.29</td>\n",
              "    </tr>\n",
              "    <tr>\n",
              "      <th>huber_cds_dt</th>\n",
              "      <td>Huber w/ Cond. Deseasonalize &amp; Detrending</td>\n",
              "      <td>0.0908</td>\n",
              "      <td>0.0908</td>\n",
              "      <td>0.9077</td>\n",
              "      <td>0.6243</td>\n",
              "      <td>0.2589</td>\n",
              "      <td>0.1404</td>\n",
              "      <td>0.94</td>\n",
              "    </tr>\n",
              "    <tr>\n",
              "      <th>knn_cds_dt</th>\n",
              "      <td>K Neighbors w/ Cond. Deseasonalize &amp; Detrending</td>\n",
              "      <td>0.1825</td>\n",
              "      <td>0.1825</td>\n",
              "      <td>1.8255</td>\n",
              "      <td>0.9544</td>\n",
              "      <td>0.5207</td>\n",
              "      <td>0.2824</td>\n",
              "      <td>1.02</td>\n",
              "    </tr>\n",
              "    <tr>\n",
              "      <th>ada_cds_dt</th>\n",
              "      <td>AdaBoost w/ Cond. Deseasonalize &amp; Detrending</td>\n",
              "      <td>0.0793</td>\n",
              "      <td>0.0793</td>\n",
              "      <td>0.7926</td>\n",
              "      <td>1.3129</td>\n",
              "      <td>0.2261</td>\n",
              "      <td>0.1226</td>\n",
              "      <td>1.12</td>\n",
              "    </tr>\n",
              "    <tr>\n",
              "      <th>naive</th>\n",
              "      <td>Naive Forecaster</td>\n",
              "      <td>0.46</td>\n",
              "      <td>0.46</td>\n",
              "      <td>4.6</td>\n",
              "      <td>1.3939</td>\n",
              "      <td>1.312</td>\n",
              "      <td>0.7116</td>\n",
              "      <td>1.60</td>\n",
              "    </tr>\n",
              "    <tr>\n",
              "      <th>grand_means</th>\n",
              "      <td>Grand Means Forecaster</td>\n",
              "      <td>0.096</td>\n",
              "      <td>0.096</td>\n",
              "      <td>0.9601</td>\n",
              "      <td>1.8465</td>\n",
              "      <td>0.2738</td>\n",
              "      <td>0.1485</td>\n",
              "      <td>1.19</td>\n",
              "    </tr>\n",
              "    <tr>\n",
              "      <th>rf_cds_dt</th>\n",
              "      <td>Random Forest w/ Cond. Deseasonalize &amp; Detrending</td>\n",
              "      <td>0.1146</td>\n",
              "      <td>0.1146</td>\n",
              "      <td>1.1459</td>\n",
              "      <td>2.0</td>\n",
              "      <td>0.3268</td>\n",
              "      <td>0.1773</td>\n",
              "      <td>1.89</td>\n",
              "    </tr>\n",
              "    <tr>\n",
              "      <th>et_cds_dt</th>\n",
              "      <td>Extra Trees w/ Cond. Deseasonalize &amp; Detrending</td>\n",
              "      <td>0.1315</td>\n",
              "      <td>0.1315</td>\n",
              "      <td>1.315</td>\n",
              "      <td>2.0</td>\n",
              "      <td>0.3751</td>\n",
              "      <td>0.2034</td>\n",
              "      <td>1.46</td>\n",
              "    </tr>\n",
              "    <tr>\n",
              "      <th>par_cds_dt</th>\n",
              "      <td>Passive Aggressive w/ Cond. Deseasonalize &amp; De...</td>\n",
              "      <td>0.1706</td>\n",
              "      <td>0.1706</td>\n",
              "      <td>1.7058</td>\n",
              "      <td>2.0</td>\n",
              "      <td>0.4865</td>\n",
              "      <td>0.2639</td>\n",
              "      <td>0.93</td>\n",
              "    </tr>\n",
              "    <tr>\n",
              "      <th>dt_cds_dt</th>\n",
              "      <td>Decision Tree w/ Cond. Deseasonalize &amp; Detrending</td>\n",
              "      <td>0.3508</td>\n",
              "      <td>0.3508</td>\n",
              "      <td>3.5081</td>\n",
              "      <td>2.0</td>\n",
              "      <td>1.0006</td>\n",
              "      <td>0.5427</td>\n",
              "      <td>0.95</td>\n",
              "    </tr>\n",
              "    <tr>\n",
              "      <th>polytrend</th>\n",
              "      <td>Polynomial Trend Forecaster</td>\n",
              "      <td>0.1131</td>\n",
              "      <td>0.1131</td>\n",
              "      <td>1.1309</td>\n",
              "      <td>2.0</td>\n",
              "      <td>0.3225</td>\n",
              "      <td>0.175</td>\n",
              "      <td>0.04</td>\n",
              "    </tr>\n",
              "    <tr>\n",
              "      <th>exp_smooth</th>\n",
              "      <td>Exponential Smoothing</td>\n",
              "      <td>0.1154</td>\n",
              "      <td>0.1154</td>\n",
              "      <td>1.1542</td>\n",
              "      <td>2.0</td>\n",
              "      <td>0.3292</td>\n",
              "      <td>0.1786</td>\n",
              "      <td>0.56</td>\n",
              "    </tr>\n",
              "    <tr>\n",
              "      <th>ets</th>\n",
              "      <td>ETS</td>\n",
              "      <td>0.1172</td>\n",
              "      <td>0.1172</td>\n",
              "      <td>1.1724</td>\n",
              "      <td>2.0</td>\n",
              "      <td>0.3344</td>\n",
              "      <td>0.1814</td>\n",
              "      <td>0.28</td>\n",
              "    </tr>\n",
              "    <tr>\n",
              "      <th>theta</th>\n",
              "      <td>Theta Forecaster</td>\n",
              "      <td>0.1131</td>\n",
              "      <td>0.1131</td>\n",
              "      <td>1.1309</td>\n",
              "      <td>2.0</td>\n",
              "      <td>0.3226</td>\n",
              "      <td>0.175</td>\n",
              "      <td>0.13</td>\n",
              "    </tr>\n",
              "    <tr>\n",
              "      <th>en_cds_dt</th>\n",
              "      <td>Elastic Net w/ Cond. Deseasonalize &amp; Detrending</td>\n",
              "      <td>0.1131</td>\n",
              "      <td>0.1131</td>\n",
              "      <td>1.1308</td>\n",
              "      <td>2.0</td>\n",
              "      <td>0.3225</td>\n",
              "      <td>0.1749</td>\n",
              "      <td>1.00</td>\n",
              "    </tr>\n",
              "    <tr>\n",
              "      <th>lasso_cds_dt</th>\n",
              "      <td>Lasso w/ Cond. Deseasonalize &amp; Detrending</td>\n",
              "      <td>0.1131</td>\n",
              "      <td>0.1131</td>\n",
              "      <td>1.1308</td>\n",
              "      <td>2.0</td>\n",
              "      <td>0.3225</td>\n",
              "      <td>0.1749</td>\n",
              "      <td>1.01</td>\n",
              "    </tr>\n",
              "    <tr>\n",
              "      <th>llar_cds_dt</th>\n",
              "      <td>Lasso Least Angular Regressor w/ Cond. Deseaso...</td>\n",
              "      <td>0.1131</td>\n",
              "      <td>0.1131</td>\n",
              "      <td>1.1308</td>\n",
              "      <td>2.0</td>\n",
              "      <td>0.3225</td>\n",
              "      <td>0.1749</td>\n",
              "      <td>0.94</td>\n",
              "    </tr>\n",
              "  </tbody>\n",
              "</table>\n",
              "</div>\n",
              "      <button class=\"colab-df-convert\" onclick=\"convertToInteractive('df-168bfd4a-cc4e-432d-a434-62900a7c3d4a')\"\n",
              "              title=\"Convert this dataframe to an interactive table.\"\n",
              "              style=\"display:none;\">\n",
              "        \n",
              "  <svg xmlns=\"http://www.w3.org/2000/svg\" height=\"24px\"viewBox=\"0 0 24 24\"\n",
              "       width=\"24px\">\n",
              "    <path d=\"M0 0h24v24H0V0z\" fill=\"none\"/>\n",
              "    <path d=\"M18.56 5.44l.94 2.06.94-2.06 2.06-.94-2.06-.94-.94-2.06-.94 2.06-2.06.94zm-11 1L8.5 8.5l.94-2.06 2.06-.94-2.06-.94L8.5 2.5l-.94 2.06-2.06.94zm10 10l.94 2.06.94-2.06 2.06-.94-2.06-.94-.94-2.06-.94 2.06-2.06.94z\"/><path d=\"M17.41 7.96l-1.37-1.37c-.4-.4-.92-.59-1.43-.59-.52 0-1.04.2-1.43.59L10.3 9.45l-7.72 7.72c-.78.78-.78 2.05 0 2.83L4 21.41c.39.39.9.59 1.41.59.51 0 1.02-.2 1.41-.59l7.78-7.78 2.81-2.81c.8-.78.8-2.07 0-2.86zM5.41 20L4 18.59l7.72-7.72 1.47 1.35L5.41 20z\"/>\n",
              "  </svg>\n",
              "      </button>\n",
              "      \n",
              "  <style>\n",
              "    .colab-df-container {\n",
              "      display:flex;\n",
              "      flex-wrap:wrap;\n",
              "      gap: 12px;\n",
              "    }\n",
              "\n",
              "    .colab-df-convert {\n",
              "      background-color: #E8F0FE;\n",
              "      border: none;\n",
              "      border-radius: 50%;\n",
              "      cursor: pointer;\n",
              "      display: none;\n",
              "      fill: #1967D2;\n",
              "      height: 32px;\n",
              "      padding: 0 0 0 0;\n",
              "      width: 32px;\n",
              "    }\n",
              "\n",
              "    .colab-df-convert:hover {\n",
              "      background-color: #E2EBFA;\n",
              "      box-shadow: 0px 1px 2px rgba(60, 64, 67, 0.3), 0px 1px 3px 1px rgba(60, 64, 67, 0.15);\n",
              "      fill: #174EA6;\n",
              "    }\n",
              "\n",
              "    [theme=dark] .colab-df-convert {\n",
              "      background-color: #3B4455;\n",
              "      fill: #D2E3FC;\n",
              "    }\n",
              "\n",
              "    [theme=dark] .colab-df-convert:hover {\n",
              "      background-color: #434B5C;\n",
              "      box-shadow: 0px 1px 3px 1px rgba(0, 0, 0, 0.15);\n",
              "      filter: drop-shadow(0px 1px 2px rgba(0, 0, 0, 0.3));\n",
              "      fill: #FFFFFF;\n",
              "    }\n",
              "  </style>\n",
              "\n",
              "      <script>\n",
              "        const buttonEl =\n",
              "          document.querySelector('#df-168bfd4a-cc4e-432d-a434-62900a7c3d4a button.colab-df-convert');\n",
              "        buttonEl.style.display =\n",
              "          google.colab.kernel.accessAllowed ? 'block' : 'none';\n",
              "\n",
              "        async function convertToInteractive(key) {\n",
              "          const element = document.querySelector('#df-168bfd4a-cc4e-432d-a434-62900a7c3d4a');\n",
              "          const dataTable =\n",
              "            await google.colab.kernel.invokeFunction('convertToInteractive',\n",
              "                                                     [key], {});\n",
              "          if (!dataTable) return;\n",
              "\n",
              "          const docLinkHtml = 'Like what you see? Visit the ' +\n",
              "            '<a target=\"_blank\" href=https://colab.research.google.com/notebooks/data_table.ipynb>data table notebook</a>'\n",
              "            + ' to learn more about interactive tables.';\n",
              "          element.innerHTML = '';\n",
              "          dataTable['output_type'] = 'display_data';\n",
              "          await google.colab.output.renderOutput(dataTable, element);\n",
              "          const docLink = document.createElement('div');\n",
              "          docLink.innerHTML = docLinkHtml;\n",
              "          element.appendChild(docLink);\n",
              "        }\n",
              "      </script>\n",
              "    </div>\n",
              "  </div>\n",
              "  "
            ]
          },
          "metadata": {}
        },
        {
          "output_type": "stream",
          "name": "stderr",
          "text": [
            "INFO:logs:master_model_container: 26\n",
            "INFO:logs:display_container: 2\n",
            "INFO:logs:Croston()\n",
            "INFO:logs:compare_models() successfully completed......................................\n"
          ]
        }
      ],
      "source": [
        "best_model = compare_models()"
      ]
    },
    {
      "cell_type": "code",
      "execution_count": 734,
      "metadata": {
        "id": "ba1ydL8IUieq",
        "colab": {
          "base_uri": "https://localhost:8080/",
          "height": 233,
          "referenced_widgets": [
            "2889d0771e7c46ef89bb3280e8dd0233",
            "2627f4f653b54daeba07ff6df56aa1db",
            "543e9f42f5ca4fcfbb8cb070a60f42a0"
          ]
        },
        "outputId": "969d5b7f-1665-4673-f92c-12ed9d83f597"
      },
      "outputs": [
        {
          "output_type": "display_data",
          "data": {
            "text/plain": [
              "          cutoff     MAE    RMSE    MAPE   SMAPE    MASE   RMSSE\n",
              "0     2021-07-28  0.0537  0.0537  0.5372  0.4235  0.1532  0.0831\n",
              "Mean         NaT  0.0537  0.0537  0.5372  0.4235  0.1532  0.0831\n",
              "SD           NaT  0.0000  0.0000  0.0000  0.0000  0.0000  0.0000"
            ],
            "text/html": [
              "\n",
              "  <div id=\"df-e86a1f20-14f3-4e20-892e-e69c383d182f\">\n",
              "    <div class=\"colab-df-container\">\n",
              "      <div>\n",
              "<style scoped>\n",
              "    .dataframe tbody tr th:only-of-type {\n",
              "        vertical-align: middle;\n",
              "    }\n",
              "\n",
              "    .dataframe tbody tr th {\n",
              "        vertical-align: top;\n",
              "    }\n",
              "\n",
              "    .dataframe thead th {\n",
              "        text-align: right;\n",
              "    }\n",
              "</style>\n",
              "<table border=\"1\" class=\"dataframe\">\n",
              "  <thead>\n",
              "    <tr style=\"text-align: right;\">\n",
              "      <th></th>\n",
              "      <th>cutoff</th>\n",
              "      <th>MAE</th>\n",
              "      <th>RMSE</th>\n",
              "      <th>MAPE</th>\n",
              "      <th>SMAPE</th>\n",
              "      <th>MASE</th>\n",
              "      <th>RMSSE</th>\n",
              "    </tr>\n",
              "  </thead>\n",
              "  <tbody>\n",
              "    <tr>\n",
              "      <th>0</th>\n",
              "      <td>2021-07-28</td>\n",
              "      <td>0.0537</td>\n",
              "      <td>0.0537</td>\n",
              "      <td>0.5372</td>\n",
              "      <td>0.4235</td>\n",
              "      <td>0.1532</td>\n",
              "      <td>0.0831</td>\n",
              "    </tr>\n",
              "    <tr>\n",
              "      <th>Mean</th>\n",
              "      <td>NaT</td>\n",
              "      <td>0.0537</td>\n",
              "      <td>0.0537</td>\n",
              "      <td>0.5372</td>\n",
              "      <td>0.4235</td>\n",
              "      <td>0.1532</td>\n",
              "      <td>0.0831</td>\n",
              "    </tr>\n",
              "    <tr>\n",
              "      <th>SD</th>\n",
              "      <td>NaT</td>\n",
              "      <td>0.0000</td>\n",
              "      <td>0.0000</td>\n",
              "      <td>0.0000</td>\n",
              "      <td>0.0000</td>\n",
              "      <td>0.0000</td>\n",
              "      <td>0.0000</td>\n",
              "    </tr>\n",
              "  </tbody>\n",
              "</table>\n",
              "</div>\n",
              "      <button class=\"colab-df-convert\" onclick=\"convertToInteractive('df-e86a1f20-14f3-4e20-892e-e69c383d182f')\"\n",
              "              title=\"Convert this dataframe to an interactive table.\"\n",
              "              style=\"display:none;\">\n",
              "        \n",
              "  <svg xmlns=\"http://www.w3.org/2000/svg\" height=\"24px\"viewBox=\"0 0 24 24\"\n",
              "       width=\"24px\">\n",
              "    <path d=\"M0 0h24v24H0V0z\" fill=\"none\"/>\n",
              "    <path d=\"M18.56 5.44l.94 2.06.94-2.06 2.06-.94-2.06-.94-.94-2.06-.94 2.06-2.06.94zm-11 1L8.5 8.5l.94-2.06 2.06-.94-2.06-.94L8.5 2.5l-.94 2.06-2.06.94zm10 10l.94 2.06.94-2.06 2.06-.94-2.06-.94-.94-2.06-.94 2.06-2.06.94z\"/><path d=\"M17.41 7.96l-1.37-1.37c-.4-.4-.92-.59-1.43-.59-.52 0-1.04.2-1.43.59L10.3 9.45l-7.72 7.72c-.78.78-.78 2.05 0 2.83L4 21.41c.39.39.9.59 1.41.59.51 0 1.02-.2 1.41-.59l7.78-7.78 2.81-2.81c.8-.78.8-2.07 0-2.86zM5.41 20L4 18.59l7.72-7.72 1.47 1.35L5.41 20z\"/>\n",
              "  </svg>\n",
              "      </button>\n",
              "      \n",
              "  <style>\n",
              "    .colab-df-container {\n",
              "      display:flex;\n",
              "      flex-wrap:wrap;\n",
              "      gap: 12px;\n",
              "    }\n",
              "\n",
              "    .colab-df-convert {\n",
              "      background-color: #E8F0FE;\n",
              "      border: none;\n",
              "      border-radius: 50%;\n",
              "      cursor: pointer;\n",
              "      display: none;\n",
              "      fill: #1967D2;\n",
              "      height: 32px;\n",
              "      padding: 0 0 0 0;\n",
              "      width: 32px;\n",
              "    }\n",
              "\n",
              "    .colab-df-convert:hover {\n",
              "      background-color: #E2EBFA;\n",
              "      box-shadow: 0px 1px 2px rgba(60, 64, 67, 0.3), 0px 1px 3px 1px rgba(60, 64, 67, 0.15);\n",
              "      fill: #174EA6;\n",
              "    }\n",
              "\n",
              "    [theme=dark] .colab-df-convert {\n",
              "      background-color: #3B4455;\n",
              "      fill: #D2E3FC;\n",
              "    }\n",
              "\n",
              "    [theme=dark] .colab-df-convert:hover {\n",
              "      background-color: #434B5C;\n",
              "      box-shadow: 0px 1px 3px 1px rgba(0, 0, 0, 0.15);\n",
              "      filter: drop-shadow(0px 1px 2px rgba(0, 0, 0, 0.3));\n",
              "      fill: #FFFFFF;\n",
              "    }\n",
              "  </style>\n",
              "\n",
              "      <script>\n",
              "        const buttonEl =\n",
              "          document.querySelector('#df-e86a1f20-14f3-4e20-892e-e69c383d182f button.colab-df-convert');\n",
              "        buttonEl.style.display =\n",
              "          google.colab.kernel.accessAllowed ? 'block' : 'none';\n",
              "\n",
              "        async function convertToInteractive(key) {\n",
              "          const element = document.querySelector('#df-e86a1f20-14f3-4e20-892e-e69c383d182f');\n",
              "          const dataTable =\n",
              "            await google.colab.kernel.invokeFunction('convertToInteractive',\n",
              "                                                     [key], {});\n",
              "          if (!dataTable) return;\n",
              "\n",
              "          const docLinkHtml = 'Like what you see? Visit the ' +\n",
              "            '<a target=\"_blank\" href=https://colab.research.google.com/notebooks/data_table.ipynb>data table notebook</a>'\n",
              "            + ' to learn more about interactive tables.';\n",
              "          element.innerHTML = '';\n",
              "          dataTable['output_type'] = 'display_data';\n",
              "          await google.colab.output.renderOutput(dataTable, element);\n",
              "          const docLink = document.createElement('div');\n",
              "          docLink.innerHTML = docLinkHtml;\n",
              "          element.appendChild(docLink);\n",
              "        }\n",
              "      </script>\n",
              "    </div>\n",
              "  </div>\n",
              "  "
            ]
          },
          "metadata": {}
        },
        {
          "output_type": "stream",
          "name": "stderr",
          "text": [
            "INFO:logs:master_model_container: 31\n",
            "INFO:logs:display_container: 5\n",
            "INFO:logs:ARIMA()\n",
            "INFO:logs:create_model() successfully completed......................................\n"
          ]
        }
      ],
      "source": [
        "arima = create_model('arima')"
      ]
    },
    {
      "cell_type": "code",
      "execution_count": 735,
      "metadata": {
        "id": "WrQtwTGzVeDz",
        "colab": {
          "base_uri": "https://localhost:8080/",
          "height": 233,
          "referenced_widgets": [
            "abc42526a66b4b9b85797af0c22da140",
            "e9c20aefb82e4ca9925aa4bffd28db16",
            "82df8588859b4a059afefe3f47f762a6"
          ]
        },
        "outputId": "1e1b1e4f-3eb7-430c-d932-87d0290c5723"
      },
      "outputs": [
        {
          "output_type": "display_data",
          "data": {
            "text/plain": [
              "          cutoff     MAE    RMSE    MAPE   SMAPE    MASE   RMSSE\n",
              "0     2021-07-28  0.0058  0.0058  0.0575  0.0593  0.0164  0.0089\n",
              "Mean         NaT  0.0058  0.0058  0.0575  0.0593  0.0164  0.0089\n",
              "SD           NaT  0.0000  0.0000  0.0000  0.0000  0.0000  0.0000"
            ],
            "text/html": [
              "\n",
              "  <div id=\"df-e2951116-bd40-4fe2-9d23-4ed9d19a8817\">\n",
              "    <div class=\"colab-df-container\">\n",
              "      <div>\n",
              "<style scoped>\n",
              "    .dataframe tbody tr th:only-of-type {\n",
              "        vertical-align: middle;\n",
              "    }\n",
              "\n",
              "    .dataframe tbody tr th {\n",
              "        vertical-align: top;\n",
              "    }\n",
              "\n",
              "    .dataframe thead th {\n",
              "        text-align: right;\n",
              "    }\n",
              "</style>\n",
              "<table border=\"1\" class=\"dataframe\">\n",
              "  <thead>\n",
              "    <tr style=\"text-align: right;\">\n",
              "      <th></th>\n",
              "      <th>cutoff</th>\n",
              "      <th>MAE</th>\n",
              "      <th>RMSE</th>\n",
              "      <th>MAPE</th>\n",
              "      <th>SMAPE</th>\n",
              "      <th>MASE</th>\n",
              "      <th>RMSSE</th>\n",
              "    </tr>\n",
              "  </thead>\n",
              "  <tbody>\n",
              "    <tr>\n",
              "      <th>0</th>\n",
              "      <td>2021-07-28</td>\n",
              "      <td>0.0058</td>\n",
              "      <td>0.0058</td>\n",
              "      <td>0.0575</td>\n",
              "      <td>0.0593</td>\n",
              "      <td>0.0164</td>\n",
              "      <td>0.0089</td>\n",
              "    </tr>\n",
              "    <tr>\n",
              "      <th>Mean</th>\n",
              "      <td>NaT</td>\n",
              "      <td>0.0058</td>\n",
              "      <td>0.0058</td>\n",
              "      <td>0.0575</td>\n",
              "      <td>0.0593</td>\n",
              "      <td>0.0164</td>\n",
              "      <td>0.0089</td>\n",
              "    </tr>\n",
              "    <tr>\n",
              "      <th>SD</th>\n",
              "      <td>NaT</td>\n",
              "      <td>0.0000</td>\n",
              "      <td>0.0000</td>\n",
              "      <td>0.0000</td>\n",
              "      <td>0.0000</td>\n",
              "      <td>0.0000</td>\n",
              "      <td>0.0000</td>\n",
              "    </tr>\n",
              "  </tbody>\n",
              "</table>\n",
              "</div>\n",
              "      <button class=\"colab-df-convert\" onclick=\"convertToInteractive('df-e2951116-bd40-4fe2-9d23-4ed9d19a8817')\"\n",
              "              title=\"Convert this dataframe to an interactive table.\"\n",
              "              style=\"display:none;\">\n",
              "        \n",
              "  <svg xmlns=\"http://www.w3.org/2000/svg\" height=\"24px\"viewBox=\"0 0 24 24\"\n",
              "       width=\"24px\">\n",
              "    <path d=\"M0 0h24v24H0V0z\" fill=\"none\"/>\n",
              "    <path d=\"M18.56 5.44l.94 2.06.94-2.06 2.06-.94-2.06-.94-.94-2.06-.94 2.06-2.06.94zm-11 1L8.5 8.5l.94-2.06 2.06-.94-2.06-.94L8.5 2.5l-.94 2.06-2.06.94zm10 10l.94 2.06.94-2.06 2.06-.94-2.06-.94-.94-2.06-.94 2.06-2.06.94z\"/><path d=\"M17.41 7.96l-1.37-1.37c-.4-.4-.92-.59-1.43-.59-.52 0-1.04.2-1.43.59L10.3 9.45l-7.72 7.72c-.78.78-.78 2.05 0 2.83L4 21.41c.39.39.9.59 1.41.59.51 0 1.02-.2 1.41-.59l7.78-7.78 2.81-2.81c.8-.78.8-2.07 0-2.86zM5.41 20L4 18.59l7.72-7.72 1.47 1.35L5.41 20z\"/>\n",
              "  </svg>\n",
              "      </button>\n",
              "      \n",
              "  <style>\n",
              "    .colab-df-container {\n",
              "      display:flex;\n",
              "      flex-wrap:wrap;\n",
              "      gap: 12px;\n",
              "    }\n",
              "\n",
              "    .colab-df-convert {\n",
              "      background-color: #E8F0FE;\n",
              "      border: none;\n",
              "      border-radius: 50%;\n",
              "      cursor: pointer;\n",
              "      display: none;\n",
              "      fill: #1967D2;\n",
              "      height: 32px;\n",
              "      padding: 0 0 0 0;\n",
              "      width: 32px;\n",
              "    }\n",
              "\n",
              "    .colab-df-convert:hover {\n",
              "      background-color: #E2EBFA;\n",
              "      box-shadow: 0px 1px 2px rgba(60, 64, 67, 0.3), 0px 1px 3px 1px rgba(60, 64, 67, 0.15);\n",
              "      fill: #174EA6;\n",
              "    }\n",
              "\n",
              "    [theme=dark] .colab-df-convert {\n",
              "      background-color: #3B4455;\n",
              "      fill: #D2E3FC;\n",
              "    }\n",
              "\n",
              "    [theme=dark] .colab-df-convert:hover {\n",
              "      background-color: #434B5C;\n",
              "      box-shadow: 0px 1px 3px 1px rgba(0, 0, 0, 0.15);\n",
              "      filter: drop-shadow(0px 1px 2px rgba(0, 0, 0, 0.3));\n",
              "      fill: #FFFFFF;\n",
              "    }\n",
              "  </style>\n",
              "\n",
              "      <script>\n",
              "        const buttonEl =\n",
              "          document.querySelector('#df-e2951116-bd40-4fe2-9d23-4ed9d19a8817 button.colab-df-convert');\n",
              "        buttonEl.style.display =\n",
              "          google.colab.kernel.accessAllowed ? 'block' : 'none';\n",
              "\n",
              "        async function convertToInteractive(key) {\n",
              "          const element = document.querySelector('#df-e2951116-bd40-4fe2-9d23-4ed9d19a8817');\n",
              "          const dataTable =\n",
              "            await google.colab.kernel.invokeFunction('convertToInteractive',\n",
              "                                                     [key], {});\n",
              "          if (!dataTable) return;\n",
              "\n",
              "          const docLinkHtml = 'Like what you see? Visit the ' +\n",
              "            '<a target=\"_blank\" href=https://colab.research.google.com/notebooks/data_table.ipynb>data table notebook</a>'\n",
              "            + ' to learn more about interactive tables.';\n",
              "          element.innerHTML = '';\n",
              "          dataTable['output_type'] = 'display_data';\n",
              "          await google.colab.output.renderOutput(dataTable, element);\n",
              "          const docLink = document.createElement('div');\n",
              "          docLink.innerHTML = docLinkHtml;\n",
              "          element.appendChild(docLink);\n",
              "        }\n",
              "      </script>\n",
              "    </div>\n",
              "  </div>\n",
              "  "
            ]
          },
          "metadata": {}
        },
        {
          "output_type": "stream",
          "name": "stderr",
          "text": [
            "INFO:logs:master_model_container: 34\n",
            "INFO:logs:display_container: 6\n",
            "INFO:logs:ARIMA(order=(1, 0, 1), seasonal_order=(1, 0, 1, 2), with_intercept=False)\n",
            "INFO:logs:tune_model() succesfully completed......................................\n"
          ]
        }
      ],
      "source": [
        "tuned_arima = tune_model(arima)"
      ]
    },
    {
      "cell_type": "markdown",
      "metadata": {
        "id": "rXVp87kdAxuD"
      },
      "source": [
        "### Metricas"
      ]
    },
    {
      "cell_type": "code",
      "execution_count": 26,
      "metadata": {
        "id": "ILjWynpIA5y5"
      },
      "outputs": [],
      "source": [
        "import numpy as np\n",
        "from math import sqrt\n",
        "from sklearn.metrics import mean_absolute_error\n",
        "from sklearn.metrics import mean_squared_error\n",
        "from sklearn.metrics import mean_absolute_percentage_error\n",
        "from sklearn.metrics import r2_score\n",
        "\n",
        "def smape(y_true, y_pred):\n",
        "    return 100/len(y_true) * np.sum(2 * np.abs(y_pred - y_true) / (np.abs(y_true) + np.abs(y_pred)))\n",
        "\n",
        "def mean_absolute_scaled_error(y_true, y_pred, y_train):\n",
        "    e_t = y_true - y_pred\n",
        "    scale = mean_absolute_error(y_train[1:], y_train[:-1])\n",
        "    return np.mean(np.abs(e_t / scale))"
      ]
    },
    {
      "cell_type": "markdown",
      "metadata": {
        "id": "BaLAM4xJIK79"
      },
      "source": [
        "## Métodos Paramétricos"
      ]
    },
    {
      "cell_type": "markdown",
      "metadata": {
        "id": "7iPqjv9HIOaH"
      },
      "source": [
        "##### Médias Móveis\n",
        "\n",
        "\n"
      ]
    },
    {
      "cell_type": "markdown",
      "metadata": {
        "id": "_evk7tvIvhir"
      },
      "source": [
        "#### Simple Moving Average"
      ]
    },
    {
      "cell_type": "code",
      "execution_count": 766,
      "metadata": {
        "id": "GCVPlo-K3qu8"
      },
      "outputs": [],
      "source": [
        "VALE3 = df_vale.copy()\n",
        "PETR4 = df_petr.copy()\n",
        "ITUB4 = df_itub.copy()\n"
      ]
    },
    {
      "cell_type": "code",
      "source": [
        "# Diferença entre t e (t + 1)\n",
        "DVALE3 = pd.DataFrame(df_vale['Close'].diff().dropna())\n",
        "DPETR4 = pd.DataFrame(df_petr['Close'].diff().dropna())\n",
        "DITUB4 = pd.DataFrame(df_itub['Close'].diff().dropna())"
      ],
      "metadata": {
        "id": "YyhXELVBVhcf"
      },
      "execution_count": 767,
      "outputs": []
    },
    {
      "cell_type": "code",
      "execution_count": 768,
      "metadata": {
        "id": "FaVNeY0Gvyng"
      },
      "outputs": [],
      "source": [
        "def media_movel(df):\n",
        "  for i in range(1, 7):\n",
        "    df[i] = df['Close'].rolling(i).mean()\n",
        "  return df"
      ]
    },
    {
      "cell_type": "code",
      "execution_count": 769,
      "metadata": {
        "id": "M619tNAAaFU1"
      },
      "outputs": [],
      "source": [
        "def tt_split(df, data_split):\n",
        "  df = df[df.index > data_split]\n",
        "  return df"
      ]
    },
    {
      "cell_type": "code",
      "source": [
        "def metricas(y_true, y_pred):\n",
        "  result = pd.DataFrame(columns=['Algo', 'MAE', 'RMSE', 'MAPE', 'SMAPE', 'MASE', 'R2'])\n",
        "  for i in range(1):\n",
        "    y_true = y_true\n",
        "    y_pred = y_pred\n",
        "    result.loc[i] = [f'ACAO{i}', mean_absolute_error(y_true, y_pred), sqrt(mean_squared_error(y_true, y_pred)), mean_absolute_percentage_error(y_true, y_pred), smape(y_true, y_pred), 0, r2_score(y_true, y_pred)]\n",
        "  return(result)"
      ],
      "metadata": {
        "id": "EgI0DoKj_t7T"
      },
      "execution_count": 770,
      "outputs": []
    },
    {
      "cell_type": "code",
      "source": [
        "import time\n",
        "tempo_inicial = (time.time())\n",
        "mm_vale3 = media_movel(VALE3)\n",
        "tempo_final = (time.time())\n",
        "mm_vale3 = tt_split(mm_vale3, '2021-07-30')\n",
        "print(tempo_final - tempo_inicial)\n",
        "metricas(mm_vale3['Close'].values, mm_vale3[6].values)"
      ],
      "metadata": {
        "colab": {
          "base_uri": "https://localhost:8080/",
          "height": 98
        },
        "id": "6u8n2spXRuhD",
        "outputId": "62d5c398-4d3e-48b7-f840-5eb756d22045"
      },
      "execution_count": 775,
      "outputs": [
        {
          "output_type": "stream",
          "name": "stdout",
          "text": [
            "0.01152658462524414\n"
          ]
        },
        {
          "output_type": "execute_result",
          "data": {
            "text/plain": [
              "    Algo       MAE      RMSE      MAPE     SMAPE MASE       R2\n",
              "0  ACAO0  2.103204  2.773456  0.025414  2.525119    0  0.93847"
            ],
            "text/html": [
              "\n",
              "  <div id=\"df-a35f7500-7748-4940-a97b-4c57a6b37142\">\n",
              "    <div class=\"colab-df-container\">\n",
              "      <div>\n",
              "<style scoped>\n",
              "    .dataframe tbody tr th:only-of-type {\n",
              "        vertical-align: middle;\n",
              "    }\n",
              "\n",
              "    .dataframe tbody tr th {\n",
              "        vertical-align: top;\n",
              "    }\n",
              "\n",
              "    .dataframe thead th {\n",
              "        text-align: right;\n",
              "    }\n",
              "</style>\n",
              "<table border=\"1\" class=\"dataframe\">\n",
              "  <thead>\n",
              "    <tr style=\"text-align: right;\">\n",
              "      <th></th>\n",
              "      <th>Algo</th>\n",
              "      <th>MAE</th>\n",
              "      <th>RMSE</th>\n",
              "      <th>MAPE</th>\n",
              "      <th>SMAPE</th>\n",
              "      <th>MASE</th>\n",
              "      <th>R2</th>\n",
              "    </tr>\n",
              "  </thead>\n",
              "  <tbody>\n",
              "    <tr>\n",
              "      <th>0</th>\n",
              "      <td>ACAO0</td>\n",
              "      <td>2.103204</td>\n",
              "      <td>2.773456</td>\n",
              "      <td>0.025414</td>\n",
              "      <td>2.525119</td>\n",
              "      <td>0</td>\n",
              "      <td>0.93847</td>\n",
              "    </tr>\n",
              "  </tbody>\n",
              "</table>\n",
              "</div>\n",
              "      <button class=\"colab-df-convert\" onclick=\"convertToInteractive('df-a35f7500-7748-4940-a97b-4c57a6b37142')\"\n",
              "              title=\"Convert this dataframe to an interactive table.\"\n",
              "              style=\"display:none;\">\n",
              "        \n",
              "  <svg xmlns=\"http://www.w3.org/2000/svg\" height=\"24px\"viewBox=\"0 0 24 24\"\n",
              "       width=\"24px\">\n",
              "    <path d=\"M0 0h24v24H0V0z\" fill=\"none\"/>\n",
              "    <path d=\"M18.56 5.44l.94 2.06.94-2.06 2.06-.94-2.06-.94-.94-2.06-.94 2.06-2.06.94zm-11 1L8.5 8.5l.94-2.06 2.06-.94-2.06-.94L8.5 2.5l-.94 2.06-2.06.94zm10 10l.94 2.06.94-2.06 2.06-.94-2.06-.94-.94-2.06-.94 2.06-2.06.94z\"/><path d=\"M17.41 7.96l-1.37-1.37c-.4-.4-.92-.59-1.43-.59-.52 0-1.04.2-1.43.59L10.3 9.45l-7.72 7.72c-.78.78-.78 2.05 0 2.83L4 21.41c.39.39.9.59 1.41.59.51 0 1.02-.2 1.41-.59l7.78-7.78 2.81-2.81c.8-.78.8-2.07 0-2.86zM5.41 20L4 18.59l7.72-7.72 1.47 1.35L5.41 20z\"/>\n",
              "  </svg>\n",
              "      </button>\n",
              "      \n",
              "  <style>\n",
              "    .colab-df-container {\n",
              "      display:flex;\n",
              "      flex-wrap:wrap;\n",
              "      gap: 12px;\n",
              "    }\n",
              "\n",
              "    .colab-df-convert {\n",
              "      background-color: #E8F0FE;\n",
              "      border: none;\n",
              "      border-radius: 50%;\n",
              "      cursor: pointer;\n",
              "      display: none;\n",
              "      fill: #1967D2;\n",
              "      height: 32px;\n",
              "      padding: 0 0 0 0;\n",
              "      width: 32px;\n",
              "    }\n",
              "\n",
              "    .colab-df-convert:hover {\n",
              "      background-color: #E2EBFA;\n",
              "      box-shadow: 0px 1px 2px rgba(60, 64, 67, 0.3), 0px 1px 3px 1px rgba(60, 64, 67, 0.15);\n",
              "      fill: #174EA6;\n",
              "    }\n",
              "\n",
              "    [theme=dark] .colab-df-convert {\n",
              "      background-color: #3B4455;\n",
              "      fill: #D2E3FC;\n",
              "    }\n",
              "\n",
              "    [theme=dark] .colab-df-convert:hover {\n",
              "      background-color: #434B5C;\n",
              "      box-shadow: 0px 1px 3px 1px rgba(0, 0, 0, 0.15);\n",
              "      filter: drop-shadow(0px 1px 2px rgba(0, 0, 0, 0.3));\n",
              "      fill: #FFFFFF;\n",
              "    }\n",
              "  </style>\n",
              "\n",
              "      <script>\n",
              "        const buttonEl =\n",
              "          document.querySelector('#df-a35f7500-7748-4940-a97b-4c57a6b37142 button.colab-df-convert');\n",
              "        buttonEl.style.display =\n",
              "          google.colab.kernel.accessAllowed ? 'block' : 'none';\n",
              "\n",
              "        async function convertToInteractive(key) {\n",
              "          const element = document.querySelector('#df-a35f7500-7748-4940-a97b-4c57a6b37142');\n",
              "          const dataTable =\n",
              "            await google.colab.kernel.invokeFunction('convertToInteractive',\n",
              "                                                     [key], {});\n",
              "          if (!dataTable) return;\n",
              "\n",
              "          const docLinkHtml = 'Like what you see? Visit the ' +\n",
              "            '<a target=\"_blank\" href=https://colab.research.google.com/notebooks/data_table.ipynb>data table notebook</a>'\n",
              "            + ' to learn more about interactive tables.';\n",
              "          element.innerHTML = '';\n",
              "          dataTable['output_type'] = 'display_data';\n",
              "          await google.colab.output.renderOutput(dataTable, element);\n",
              "          const docLink = document.createElement('div');\n",
              "          docLink.innerHTML = docLinkHtml;\n",
              "          element.appendChild(docLink);\n",
              "        }\n",
              "      </script>\n",
              "    </div>\n",
              "  </div>\n",
              "  "
            ]
          },
          "metadata": {},
          "execution_count": 775
        }
      ]
    },
    {
      "cell_type": "code",
      "source": [
        "tempo_inicial = (time.time())\n",
        "mm_dvale3 = media_movel(DVALE3)\n",
        "tempo_final = (time.time())\n",
        "mm_dvale3 = tt_split(mm_dvale3, '2021-07-30')\n",
        "print(tempo_final - tempo_inicial)\n",
        "metricas(mm_dvale3['Close'].values, mm_dvale3[6].values)"
      ],
      "metadata": {
        "colab": {
          "base_uri": "https://localhost:8080/",
          "height": 98
        },
        "id": "zMDsddpEUxYa",
        "outputId": "9dabf196-77b8-46ae-c0da-047458ff1077"
      },
      "execution_count": 776,
      "outputs": [
        {
          "output_type": "stream",
          "name": "stdout",
          "text": [
            "0.007949590682983398\n"
          ]
        },
        {
          "output_type": "execute_result",
          "data": {
            "text/plain": [
              "    Algo       MAE      RMSE          MAPE       SMAPE MASE        R2\n",
              "0  ACAO0  1.425285  1.879302  1.241264e+13  132.525061    0  0.157175"
            ],
            "text/html": [
              "\n",
              "  <div id=\"df-32a4418a-d42e-4b7b-8686-1f5dda2950dc\">\n",
              "    <div class=\"colab-df-container\">\n",
              "      <div>\n",
              "<style scoped>\n",
              "    .dataframe tbody tr th:only-of-type {\n",
              "        vertical-align: middle;\n",
              "    }\n",
              "\n",
              "    .dataframe tbody tr th {\n",
              "        vertical-align: top;\n",
              "    }\n",
              "\n",
              "    .dataframe thead th {\n",
              "        text-align: right;\n",
              "    }\n",
              "</style>\n",
              "<table border=\"1\" class=\"dataframe\">\n",
              "  <thead>\n",
              "    <tr style=\"text-align: right;\">\n",
              "      <th></th>\n",
              "      <th>Algo</th>\n",
              "      <th>MAE</th>\n",
              "      <th>RMSE</th>\n",
              "      <th>MAPE</th>\n",
              "      <th>SMAPE</th>\n",
              "      <th>MASE</th>\n",
              "      <th>R2</th>\n",
              "    </tr>\n",
              "  </thead>\n",
              "  <tbody>\n",
              "    <tr>\n",
              "      <th>0</th>\n",
              "      <td>ACAO0</td>\n",
              "      <td>1.425285</td>\n",
              "      <td>1.879302</td>\n",
              "      <td>1.241264e+13</td>\n",
              "      <td>132.525061</td>\n",
              "      <td>0</td>\n",
              "      <td>0.157175</td>\n",
              "    </tr>\n",
              "  </tbody>\n",
              "</table>\n",
              "</div>\n",
              "      <button class=\"colab-df-convert\" onclick=\"convertToInteractive('df-32a4418a-d42e-4b7b-8686-1f5dda2950dc')\"\n",
              "              title=\"Convert this dataframe to an interactive table.\"\n",
              "              style=\"display:none;\">\n",
              "        \n",
              "  <svg xmlns=\"http://www.w3.org/2000/svg\" height=\"24px\"viewBox=\"0 0 24 24\"\n",
              "       width=\"24px\">\n",
              "    <path d=\"M0 0h24v24H0V0z\" fill=\"none\"/>\n",
              "    <path d=\"M18.56 5.44l.94 2.06.94-2.06 2.06-.94-2.06-.94-.94-2.06-.94 2.06-2.06.94zm-11 1L8.5 8.5l.94-2.06 2.06-.94-2.06-.94L8.5 2.5l-.94 2.06-2.06.94zm10 10l.94 2.06.94-2.06 2.06-.94-2.06-.94-.94-2.06-.94 2.06-2.06.94z\"/><path d=\"M17.41 7.96l-1.37-1.37c-.4-.4-.92-.59-1.43-.59-.52 0-1.04.2-1.43.59L10.3 9.45l-7.72 7.72c-.78.78-.78 2.05 0 2.83L4 21.41c.39.39.9.59 1.41.59.51 0 1.02-.2 1.41-.59l7.78-7.78 2.81-2.81c.8-.78.8-2.07 0-2.86zM5.41 20L4 18.59l7.72-7.72 1.47 1.35L5.41 20z\"/>\n",
              "  </svg>\n",
              "      </button>\n",
              "      \n",
              "  <style>\n",
              "    .colab-df-container {\n",
              "      display:flex;\n",
              "      flex-wrap:wrap;\n",
              "      gap: 12px;\n",
              "    }\n",
              "\n",
              "    .colab-df-convert {\n",
              "      background-color: #E8F0FE;\n",
              "      border: none;\n",
              "      border-radius: 50%;\n",
              "      cursor: pointer;\n",
              "      display: none;\n",
              "      fill: #1967D2;\n",
              "      height: 32px;\n",
              "      padding: 0 0 0 0;\n",
              "      width: 32px;\n",
              "    }\n",
              "\n",
              "    .colab-df-convert:hover {\n",
              "      background-color: #E2EBFA;\n",
              "      box-shadow: 0px 1px 2px rgba(60, 64, 67, 0.3), 0px 1px 3px 1px rgba(60, 64, 67, 0.15);\n",
              "      fill: #174EA6;\n",
              "    }\n",
              "\n",
              "    [theme=dark] .colab-df-convert {\n",
              "      background-color: #3B4455;\n",
              "      fill: #D2E3FC;\n",
              "    }\n",
              "\n",
              "    [theme=dark] .colab-df-convert:hover {\n",
              "      background-color: #434B5C;\n",
              "      box-shadow: 0px 1px 3px 1px rgba(0, 0, 0, 0.15);\n",
              "      filter: drop-shadow(0px 1px 2px rgba(0, 0, 0, 0.3));\n",
              "      fill: #FFFFFF;\n",
              "    }\n",
              "  </style>\n",
              "\n",
              "      <script>\n",
              "        const buttonEl =\n",
              "          document.querySelector('#df-32a4418a-d42e-4b7b-8686-1f5dda2950dc button.colab-df-convert');\n",
              "        buttonEl.style.display =\n",
              "          google.colab.kernel.accessAllowed ? 'block' : 'none';\n",
              "\n",
              "        async function convertToInteractive(key) {\n",
              "          const element = document.querySelector('#df-32a4418a-d42e-4b7b-8686-1f5dda2950dc');\n",
              "          const dataTable =\n",
              "            await google.colab.kernel.invokeFunction('convertToInteractive',\n",
              "                                                     [key], {});\n",
              "          if (!dataTable) return;\n",
              "\n",
              "          const docLinkHtml = 'Like what you see? Visit the ' +\n",
              "            '<a target=\"_blank\" href=https://colab.research.google.com/notebooks/data_table.ipynb>data table notebook</a>'\n",
              "            + ' to learn more about interactive tables.';\n",
              "          element.innerHTML = '';\n",
              "          dataTable['output_type'] = 'display_data';\n",
              "          await google.colab.output.renderOutput(dataTable, element);\n",
              "          const docLink = document.createElement('div');\n",
              "          docLink.innerHTML = docLinkHtml;\n",
              "          element.appendChild(docLink);\n",
              "        }\n",
              "      </script>\n",
              "    </div>\n",
              "  </div>\n",
              "  "
            ]
          },
          "metadata": {},
          "execution_count": 776
        }
      ]
    },
    {
      "cell_type": "code",
      "source": [
        "tempo_inicial = (time.time())\n",
        "mm_petr4 = media_movel(PETR4)\n",
        "tempo_final = (time.time())\n",
        "mm_petr4 = tt_split(mm_petr4, '2021-07-30')\n",
        "print(tempo_final - tempo_inicial)\n",
        "metricas(mm_petr4['Close'].values, mm_petr4[6].values)"
      ],
      "metadata": {
        "colab": {
          "base_uri": "https://localhost:8080/",
          "height": 98
        },
        "id": "DP5kQZq_M1vJ",
        "outputId": "7e02c657-1182-4d50-cea5-76f386d2b707"
      },
      "execution_count": 777,
      "outputs": [
        {
          "output_type": "stream",
          "name": "stdout",
          "text": [
            "0.0068590641021728516\n"
          ]
        },
        {
          "output_type": "execute_result",
          "data": {
            "text/plain": [
              "    Algo       MAE      RMSE      MAPE     SMAPE MASE        R2\n",
              "0  ACAO0  0.733178  0.904868  0.024469  2.447599    0  0.884685"
            ],
            "text/html": [
              "\n",
              "  <div id=\"df-e7d9f506-fe2c-4674-b8d7-310ec6a9a43b\">\n",
              "    <div class=\"colab-df-container\">\n",
              "      <div>\n",
              "<style scoped>\n",
              "    .dataframe tbody tr th:only-of-type {\n",
              "        vertical-align: middle;\n",
              "    }\n",
              "\n",
              "    .dataframe tbody tr th {\n",
              "        vertical-align: top;\n",
              "    }\n",
              "\n",
              "    .dataframe thead th {\n",
              "        text-align: right;\n",
              "    }\n",
              "</style>\n",
              "<table border=\"1\" class=\"dataframe\">\n",
              "  <thead>\n",
              "    <tr style=\"text-align: right;\">\n",
              "      <th></th>\n",
              "      <th>Algo</th>\n",
              "      <th>MAE</th>\n",
              "      <th>RMSE</th>\n",
              "      <th>MAPE</th>\n",
              "      <th>SMAPE</th>\n",
              "      <th>MASE</th>\n",
              "      <th>R2</th>\n",
              "    </tr>\n",
              "  </thead>\n",
              "  <tbody>\n",
              "    <tr>\n",
              "      <th>0</th>\n",
              "      <td>ACAO0</td>\n",
              "      <td>0.733178</td>\n",
              "      <td>0.904868</td>\n",
              "      <td>0.024469</td>\n",
              "      <td>2.447599</td>\n",
              "      <td>0</td>\n",
              "      <td>0.884685</td>\n",
              "    </tr>\n",
              "  </tbody>\n",
              "</table>\n",
              "</div>\n",
              "      <button class=\"colab-df-convert\" onclick=\"convertToInteractive('df-e7d9f506-fe2c-4674-b8d7-310ec6a9a43b')\"\n",
              "              title=\"Convert this dataframe to an interactive table.\"\n",
              "              style=\"display:none;\">\n",
              "        \n",
              "  <svg xmlns=\"http://www.w3.org/2000/svg\" height=\"24px\"viewBox=\"0 0 24 24\"\n",
              "       width=\"24px\">\n",
              "    <path d=\"M0 0h24v24H0V0z\" fill=\"none\"/>\n",
              "    <path d=\"M18.56 5.44l.94 2.06.94-2.06 2.06-.94-2.06-.94-.94-2.06-.94 2.06-2.06.94zm-11 1L8.5 8.5l.94-2.06 2.06-.94-2.06-.94L8.5 2.5l-.94 2.06-2.06.94zm10 10l.94 2.06.94-2.06 2.06-.94-2.06-.94-.94-2.06-.94 2.06-2.06.94z\"/><path d=\"M17.41 7.96l-1.37-1.37c-.4-.4-.92-.59-1.43-.59-.52 0-1.04.2-1.43.59L10.3 9.45l-7.72 7.72c-.78.78-.78 2.05 0 2.83L4 21.41c.39.39.9.59 1.41.59.51 0 1.02-.2 1.41-.59l7.78-7.78 2.81-2.81c.8-.78.8-2.07 0-2.86zM5.41 20L4 18.59l7.72-7.72 1.47 1.35L5.41 20z\"/>\n",
              "  </svg>\n",
              "      </button>\n",
              "      \n",
              "  <style>\n",
              "    .colab-df-container {\n",
              "      display:flex;\n",
              "      flex-wrap:wrap;\n",
              "      gap: 12px;\n",
              "    }\n",
              "\n",
              "    .colab-df-convert {\n",
              "      background-color: #E8F0FE;\n",
              "      border: none;\n",
              "      border-radius: 50%;\n",
              "      cursor: pointer;\n",
              "      display: none;\n",
              "      fill: #1967D2;\n",
              "      height: 32px;\n",
              "      padding: 0 0 0 0;\n",
              "      width: 32px;\n",
              "    }\n",
              "\n",
              "    .colab-df-convert:hover {\n",
              "      background-color: #E2EBFA;\n",
              "      box-shadow: 0px 1px 2px rgba(60, 64, 67, 0.3), 0px 1px 3px 1px rgba(60, 64, 67, 0.15);\n",
              "      fill: #174EA6;\n",
              "    }\n",
              "\n",
              "    [theme=dark] .colab-df-convert {\n",
              "      background-color: #3B4455;\n",
              "      fill: #D2E3FC;\n",
              "    }\n",
              "\n",
              "    [theme=dark] .colab-df-convert:hover {\n",
              "      background-color: #434B5C;\n",
              "      box-shadow: 0px 1px 3px 1px rgba(0, 0, 0, 0.15);\n",
              "      filter: drop-shadow(0px 1px 2px rgba(0, 0, 0, 0.3));\n",
              "      fill: #FFFFFF;\n",
              "    }\n",
              "  </style>\n",
              "\n",
              "      <script>\n",
              "        const buttonEl =\n",
              "          document.querySelector('#df-e7d9f506-fe2c-4674-b8d7-310ec6a9a43b button.colab-df-convert');\n",
              "        buttonEl.style.display =\n",
              "          google.colab.kernel.accessAllowed ? 'block' : 'none';\n",
              "\n",
              "        async function convertToInteractive(key) {\n",
              "          const element = document.querySelector('#df-e7d9f506-fe2c-4674-b8d7-310ec6a9a43b');\n",
              "          const dataTable =\n",
              "            await google.colab.kernel.invokeFunction('convertToInteractive',\n",
              "                                                     [key], {});\n",
              "          if (!dataTable) return;\n",
              "\n",
              "          const docLinkHtml = 'Like what you see? Visit the ' +\n",
              "            '<a target=\"_blank\" href=https://colab.research.google.com/notebooks/data_table.ipynb>data table notebook</a>'\n",
              "            + ' to learn more about interactive tables.';\n",
              "          element.innerHTML = '';\n",
              "          dataTable['output_type'] = 'display_data';\n",
              "          await google.colab.output.renderOutput(dataTable, element);\n",
              "          const docLink = document.createElement('div');\n",
              "          docLink.innerHTML = docLinkHtml;\n",
              "          element.appendChild(docLink);\n",
              "        }\n",
              "      </script>\n",
              "    </div>\n",
              "  </div>\n",
              "  "
            ]
          },
          "metadata": {},
          "execution_count": 777
        }
      ]
    },
    {
      "cell_type": "code",
      "source": [
        "tempo_inicial = (time.time())\n",
        "mm_dpetr4 = media_movel(DPETR4)\n",
        "tempo_final = (time.time())\n",
        "mm_dpetr4 = tt_split(mm_dpetr4, '2021-07-30')\n",
        "print(tempo_final - tempo_inicial)\n",
        "metricas(mm_dpetr4['Close'].values, mm_dpetr4[6].values)"
      ],
      "metadata": {
        "colab": {
          "base_uri": "https://localhost:8080/",
          "height": 98
        },
        "id": "viNrBsCOVw_u",
        "outputId": "f8b4fac2-7fd8-403e-914a-fe8ff50f7bae"
      },
      "execution_count": 35,
      "outputs": [
        {
          "output_type": "stream",
          "name": "stdout",
          "text": [
            "0.008227109909057617\n"
          ]
        },
        {
          "output_type": "execute_result",
          "data": {
            "text/plain": [
              "    Algo       MAE      RMSE          MAPE      SMAPE MASE        R2\n",
              "0  ACAO0  0.502017  0.701699  1.927610e+12  132.67148    0  0.169247"
            ],
            "text/html": [
              "\n",
              "  <div id=\"df-676013cf-2bdf-4bcb-99f9-352ecc9b7af6\">\n",
              "    <div class=\"colab-df-container\">\n",
              "      <div>\n",
              "<style scoped>\n",
              "    .dataframe tbody tr th:only-of-type {\n",
              "        vertical-align: middle;\n",
              "    }\n",
              "\n",
              "    .dataframe tbody tr th {\n",
              "        vertical-align: top;\n",
              "    }\n",
              "\n",
              "    .dataframe thead th {\n",
              "        text-align: right;\n",
              "    }\n",
              "</style>\n",
              "<table border=\"1\" class=\"dataframe\">\n",
              "  <thead>\n",
              "    <tr style=\"text-align: right;\">\n",
              "      <th></th>\n",
              "      <th>Algo</th>\n",
              "      <th>MAE</th>\n",
              "      <th>RMSE</th>\n",
              "      <th>MAPE</th>\n",
              "      <th>SMAPE</th>\n",
              "      <th>MASE</th>\n",
              "      <th>R2</th>\n",
              "    </tr>\n",
              "  </thead>\n",
              "  <tbody>\n",
              "    <tr>\n",
              "      <th>0</th>\n",
              "      <td>ACAO0</td>\n",
              "      <td>0.502017</td>\n",
              "      <td>0.701699</td>\n",
              "      <td>1.927610e+12</td>\n",
              "      <td>132.67148</td>\n",
              "      <td>0</td>\n",
              "      <td>0.169247</td>\n",
              "    </tr>\n",
              "  </tbody>\n",
              "</table>\n",
              "</div>\n",
              "      <button class=\"colab-df-convert\" onclick=\"convertToInteractive('df-676013cf-2bdf-4bcb-99f9-352ecc9b7af6')\"\n",
              "              title=\"Convert this dataframe to an interactive table.\"\n",
              "              style=\"display:none;\">\n",
              "        \n",
              "  <svg xmlns=\"http://www.w3.org/2000/svg\" height=\"24px\"viewBox=\"0 0 24 24\"\n",
              "       width=\"24px\">\n",
              "    <path d=\"M0 0h24v24H0V0z\" fill=\"none\"/>\n",
              "    <path d=\"M18.56 5.44l.94 2.06.94-2.06 2.06-.94-2.06-.94-.94-2.06-.94 2.06-2.06.94zm-11 1L8.5 8.5l.94-2.06 2.06-.94-2.06-.94L8.5 2.5l-.94 2.06-2.06.94zm10 10l.94 2.06.94-2.06 2.06-.94-2.06-.94-.94-2.06-.94 2.06-2.06.94z\"/><path d=\"M17.41 7.96l-1.37-1.37c-.4-.4-.92-.59-1.43-.59-.52 0-1.04.2-1.43.59L10.3 9.45l-7.72 7.72c-.78.78-.78 2.05 0 2.83L4 21.41c.39.39.9.59 1.41.59.51 0 1.02-.2 1.41-.59l7.78-7.78 2.81-2.81c.8-.78.8-2.07 0-2.86zM5.41 20L4 18.59l7.72-7.72 1.47 1.35L5.41 20z\"/>\n",
              "  </svg>\n",
              "      </button>\n",
              "      \n",
              "  <style>\n",
              "    .colab-df-container {\n",
              "      display:flex;\n",
              "      flex-wrap:wrap;\n",
              "      gap: 12px;\n",
              "    }\n",
              "\n",
              "    .colab-df-convert {\n",
              "      background-color: #E8F0FE;\n",
              "      border: none;\n",
              "      border-radius: 50%;\n",
              "      cursor: pointer;\n",
              "      display: none;\n",
              "      fill: #1967D2;\n",
              "      height: 32px;\n",
              "      padding: 0 0 0 0;\n",
              "      width: 32px;\n",
              "    }\n",
              "\n",
              "    .colab-df-convert:hover {\n",
              "      background-color: #E2EBFA;\n",
              "      box-shadow: 0px 1px 2px rgba(60, 64, 67, 0.3), 0px 1px 3px 1px rgba(60, 64, 67, 0.15);\n",
              "      fill: #174EA6;\n",
              "    }\n",
              "\n",
              "    [theme=dark] .colab-df-convert {\n",
              "      background-color: #3B4455;\n",
              "      fill: #D2E3FC;\n",
              "    }\n",
              "\n",
              "    [theme=dark] .colab-df-convert:hover {\n",
              "      background-color: #434B5C;\n",
              "      box-shadow: 0px 1px 3px 1px rgba(0, 0, 0, 0.15);\n",
              "      filter: drop-shadow(0px 1px 2px rgba(0, 0, 0, 0.3));\n",
              "      fill: #FFFFFF;\n",
              "    }\n",
              "  </style>\n",
              "\n",
              "      <script>\n",
              "        const buttonEl =\n",
              "          document.querySelector('#df-676013cf-2bdf-4bcb-99f9-352ecc9b7af6 button.colab-df-convert');\n",
              "        buttonEl.style.display =\n",
              "          google.colab.kernel.accessAllowed ? 'block' : 'none';\n",
              "\n",
              "        async function convertToInteractive(key) {\n",
              "          const element = document.querySelector('#df-676013cf-2bdf-4bcb-99f9-352ecc9b7af6');\n",
              "          const dataTable =\n",
              "            await google.colab.kernel.invokeFunction('convertToInteractive',\n",
              "                                                     [key], {});\n",
              "          if (!dataTable) return;\n",
              "\n",
              "          const docLinkHtml = 'Like what you see? Visit the ' +\n",
              "            '<a target=\"_blank\" href=https://colab.research.google.com/notebooks/data_table.ipynb>data table notebook</a>'\n",
              "            + ' to learn more about interactive tables.';\n",
              "          element.innerHTML = '';\n",
              "          dataTable['output_type'] = 'display_data';\n",
              "          await google.colab.output.renderOutput(dataTable, element);\n",
              "          const docLink = document.createElement('div');\n",
              "          docLink.innerHTML = docLinkHtml;\n",
              "          element.appendChild(docLink);\n",
              "        }\n",
              "      </script>\n",
              "    </div>\n",
              "  </div>\n",
              "  "
            ]
          },
          "metadata": {},
          "execution_count": 35
        }
      ]
    },
    {
      "cell_type": "code",
      "source": [
        "tempo_inicial = (time.time())\n",
        "mm_itub4 = media_movel(ITUB4)\n",
        "tempo_final = (time.time())\n",
        "mm_itub4 = tt_split(mm_itub4, '2021-07-30')\n",
        "print(tempo_final - tempo_inicial)\n",
        "metricas(mm_itub4['Close'].values, mm_itub4[6].values)"
      ],
      "metadata": {
        "colab": {
          "base_uri": "https://localhost:8080/",
          "height": 98
        },
        "id": "nvPIJKV6R5A9",
        "outputId": "1aaaa15e-3e86-457e-ecfc-cb6430d85492"
      },
      "execution_count": 36,
      "outputs": [
        {
          "output_type": "stream",
          "name": "stdout",
          "text": [
            "0.008665800094604492\n"
          ]
        },
        {
          "output_type": "execute_result",
          "data": {
            "text/plain": [
              "    Algo       MAE      RMSE      MAPE   SMAPE MASE        R2\n",
              "0  ACAO0  0.455065  0.609575  0.018168  1.8084    0  0.942516"
            ],
            "text/html": [
              "\n",
              "  <div id=\"df-e87ec90c-cc63-4342-9268-9c19b69a0ad8\">\n",
              "    <div class=\"colab-df-container\">\n",
              "      <div>\n",
              "<style scoped>\n",
              "    .dataframe tbody tr th:only-of-type {\n",
              "        vertical-align: middle;\n",
              "    }\n",
              "\n",
              "    .dataframe tbody tr th {\n",
              "        vertical-align: top;\n",
              "    }\n",
              "\n",
              "    .dataframe thead th {\n",
              "        text-align: right;\n",
              "    }\n",
              "</style>\n",
              "<table border=\"1\" class=\"dataframe\">\n",
              "  <thead>\n",
              "    <tr style=\"text-align: right;\">\n",
              "      <th></th>\n",
              "      <th>Algo</th>\n",
              "      <th>MAE</th>\n",
              "      <th>RMSE</th>\n",
              "      <th>MAPE</th>\n",
              "      <th>SMAPE</th>\n",
              "      <th>MASE</th>\n",
              "      <th>R2</th>\n",
              "    </tr>\n",
              "  </thead>\n",
              "  <tbody>\n",
              "    <tr>\n",
              "      <th>0</th>\n",
              "      <td>ACAO0</td>\n",
              "      <td>0.455065</td>\n",
              "      <td>0.609575</td>\n",
              "      <td>0.018168</td>\n",
              "      <td>1.8084</td>\n",
              "      <td>0</td>\n",
              "      <td>0.942516</td>\n",
              "    </tr>\n",
              "  </tbody>\n",
              "</table>\n",
              "</div>\n",
              "      <button class=\"colab-df-convert\" onclick=\"convertToInteractive('df-e87ec90c-cc63-4342-9268-9c19b69a0ad8')\"\n",
              "              title=\"Convert this dataframe to an interactive table.\"\n",
              "              style=\"display:none;\">\n",
              "        \n",
              "  <svg xmlns=\"http://www.w3.org/2000/svg\" height=\"24px\"viewBox=\"0 0 24 24\"\n",
              "       width=\"24px\">\n",
              "    <path d=\"M0 0h24v24H0V0z\" fill=\"none\"/>\n",
              "    <path d=\"M18.56 5.44l.94 2.06.94-2.06 2.06-.94-2.06-.94-.94-2.06-.94 2.06-2.06.94zm-11 1L8.5 8.5l.94-2.06 2.06-.94-2.06-.94L8.5 2.5l-.94 2.06-2.06.94zm10 10l.94 2.06.94-2.06 2.06-.94-2.06-.94-.94-2.06-.94 2.06-2.06.94z\"/><path d=\"M17.41 7.96l-1.37-1.37c-.4-.4-.92-.59-1.43-.59-.52 0-1.04.2-1.43.59L10.3 9.45l-7.72 7.72c-.78.78-.78 2.05 0 2.83L4 21.41c.39.39.9.59 1.41.59.51 0 1.02-.2 1.41-.59l7.78-7.78 2.81-2.81c.8-.78.8-2.07 0-2.86zM5.41 20L4 18.59l7.72-7.72 1.47 1.35L5.41 20z\"/>\n",
              "  </svg>\n",
              "      </button>\n",
              "      \n",
              "  <style>\n",
              "    .colab-df-container {\n",
              "      display:flex;\n",
              "      flex-wrap:wrap;\n",
              "      gap: 12px;\n",
              "    }\n",
              "\n",
              "    .colab-df-convert {\n",
              "      background-color: #E8F0FE;\n",
              "      border: none;\n",
              "      border-radius: 50%;\n",
              "      cursor: pointer;\n",
              "      display: none;\n",
              "      fill: #1967D2;\n",
              "      height: 32px;\n",
              "      padding: 0 0 0 0;\n",
              "      width: 32px;\n",
              "    }\n",
              "\n",
              "    .colab-df-convert:hover {\n",
              "      background-color: #E2EBFA;\n",
              "      box-shadow: 0px 1px 2px rgba(60, 64, 67, 0.3), 0px 1px 3px 1px rgba(60, 64, 67, 0.15);\n",
              "      fill: #174EA6;\n",
              "    }\n",
              "\n",
              "    [theme=dark] .colab-df-convert {\n",
              "      background-color: #3B4455;\n",
              "      fill: #D2E3FC;\n",
              "    }\n",
              "\n",
              "    [theme=dark] .colab-df-convert:hover {\n",
              "      background-color: #434B5C;\n",
              "      box-shadow: 0px 1px 3px 1px rgba(0, 0, 0, 0.15);\n",
              "      filter: drop-shadow(0px 1px 2px rgba(0, 0, 0, 0.3));\n",
              "      fill: #FFFFFF;\n",
              "    }\n",
              "  </style>\n",
              "\n",
              "      <script>\n",
              "        const buttonEl =\n",
              "          document.querySelector('#df-e87ec90c-cc63-4342-9268-9c19b69a0ad8 button.colab-df-convert');\n",
              "        buttonEl.style.display =\n",
              "          google.colab.kernel.accessAllowed ? 'block' : 'none';\n",
              "\n",
              "        async function convertToInteractive(key) {\n",
              "          const element = document.querySelector('#df-e87ec90c-cc63-4342-9268-9c19b69a0ad8');\n",
              "          const dataTable =\n",
              "            await google.colab.kernel.invokeFunction('convertToInteractive',\n",
              "                                                     [key], {});\n",
              "          if (!dataTable) return;\n",
              "\n",
              "          const docLinkHtml = 'Like what you see? Visit the ' +\n",
              "            '<a target=\"_blank\" href=https://colab.research.google.com/notebooks/data_table.ipynb>data table notebook</a>'\n",
              "            + ' to learn more about interactive tables.';\n",
              "          element.innerHTML = '';\n",
              "          dataTable['output_type'] = 'display_data';\n",
              "          await google.colab.output.renderOutput(dataTable, element);\n",
              "          const docLink = document.createElement('div');\n",
              "          docLink.innerHTML = docLinkHtml;\n",
              "          element.appendChild(docLink);\n",
              "        }\n",
              "      </script>\n",
              "    </div>\n",
              "  </div>\n",
              "  "
            ]
          },
          "metadata": {},
          "execution_count": 36
        }
      ]
    },
    {
      "cell_type": "code",
      "source": [
        "tempo_inicial = (time.time())\n",
        "mm_ditub4 = media_movel(DITUB4)\n",
        "tempo_final = (time.time())\n",
        "mm_ditub4 = tt_split(mm_ditub4, '2021-07-30')\n",
        "print(tempo_final - tempo_inicial)\n",
        "metricas(mm_ditub4['Close'].values, mm_ditub4[6].values)"
      ],
      "metadata": {
        "colab": {
          "base_uri": "https://localhost:8080/",
          "height": 98
        },
        "id": "Olw_UmaxV0SP",
        "outputId": "5c56e4d7-262b-4d9c-d7c9-5620d470127b"
      },
      "execution_count": 37,
      "outputs": [
        {
          "output_type": "stream",
          "name": "stdout",
          "text": [
            "0.0071375370025634766\n"
          ]
        },
        {
          "output_type": "execute_result",
          "data": {
            "text/plain": [
              "    Algo       MAE      RMSE          MAPE       SMAPE MASE        R2\n",
              "0  ACAO0  0.314942  0.490236  3.592370e+12  124.873507    0  0.174846"
            ],
            "text/html": [
              "\n",
              "  <div id=\"df-a1431df0-2ac6-4477-96c4-5f291c7c6cee\">\n",
              "    <div class=\"colab-df-container\">\n",
              "      <div>\n",
              "<style scoped>\n",
              "    .dataframe tbody tr th:only-of-type {\n",
              "        vertical-align: middle;\n",
              "    }\n",
              "\n",
              "    .dataframe tbody tr th {\n",
              "        vertical-align: top;\n",
              "    }\n",
              "\n",
              "    .dataframe thead th {\n",
              "        text-align: right;\n",
              "    }\n",
              "</style>\n",
              "<table border=\"1\" class=\"dataframe\">\n",
              "  <thead>\n",
              "    <tr style=\"text-align: right;\">\n",
              "      <th></th>\n",
              "      <th>Algo</th>\n",
              "      <th>MAE</th>\n",
              "      <th>RMSE</th>\n",
              "      <th>MAPE</th>\n",
              "      <th>SMAPE</th>\n",
              "      <th>MASE</th>\n",
              "      <th>R2</th>\n",
              "    </tr>\n",
              "  </thead>\n",
              "  <tbody>\n",
              "    <tr>\n",
              "      <th>0</th>\n",
              "      <td>ACAO0</td>\n",
              "      <td>0.314942</td>\n",
              "      <td>0.490236</td>\n",
              "      <td>3.592370e+12</td>\n",
              "      <td>124.873507</td>\n",
              "      <td>0</td>\n",
              "      <td>0.174846</td>\n",
              "    </tr>\n",
              "  </tbody>\n",
              "</table>\n",
              "</div>\n",
              "      <button class=\"colab-df-convert\" onclick=\"convertToInteractive('df-a1431df0-2ac6-4477-96c4-5f291c7c6cee')\"\n",
              "              title=\"Convert this dataframe to an interactive table.\"\n",
              "              style=\"display:none;\">\n",
              "        \n",
              "  <svg xmlns=\"http://www.w3.org/2000/svg\" height=\"24px\"viewBox=\"0 0 24 24\"\n",
              "       width=\"24px\">\n",
              "    <path d=\"M0 0h24v24H0V0z\" fill=\"none\"/>\n",
              "    <path d=\"M18.56 5.44l.94 2.06.94-2.06 2.06-.94-2.06-.94-.94-2.06-.94 2.06-2.06.94zm-11 1L8.5 8.5l.94-2.06 2.06-.94-2.06-.94L8.5 2.5l-.94 2.06-2.06.94zm10 10l.94 2.06.94-2.06 2.06-.94-2.06-.94-.94-2.06-.94 2.06-2.06.94z\"/><path d=\"M17.41 7.96l-1.37-1.37c-.4-.4-.92-.59-1.43-.59-.52 0-1.04.2-1.43.59L10.3 9.45l-7.72 7.72c-.78.78-.78 2.05 0 2.83L4 21.41c.39.39.9.59 1.41.59.51 0 1.02-.2 1.41-.59l7.78-7.78 2.81-2.81c.8-.78.8-2.07 0-2.86zM5.41 20L4 18.59l7.72-7.72 1.47 1.35L5.41 20z\"/>\n",
              "  </svg>\n",
              "      </button>\n",
              "      \n",
              "  <style>\n",
              "    .colab-df-container {\n",
              "      display:flex;\n",
              "      flex-wrap:wrap;\n",
              "      gap: 12px;\n",
              "    }\n",
              "\n",
              "    .colab-df-convert {\n",
              "      background-color: #E8F0FE;\n",
              "      border: none;\n",
              "      border-radius: 50%;\n",
              "      cursor: pointer;\n",
              "      display: none;\n",
              "      fill: #1967D2;\n",
              "      height: 32px;\n",
              "      padding: 0 0 0 0;\n",
              "      width: 32px;\n",
              "    }\n",
              "\n",
              "    .colab-df-convert:hover {\n",
              "      background-color: #E2EBFA;\n",
              "      box-shadow: 0px 1px 2px rgba(60, 64, 67, 0.3), 0px 1px 3px 1px rgba(60, 64, 67, 0.15);\n",
              "      fill: #174EA6;\n",
              "    }\n",
              "\n",
              "    [theme=dark] .colab-df-convert {\n",
              "      background-color: #3B4455;\n",
              "      fill: #D2E3FC;\n",
              "    }\n",
              "\n",
              "    [theme=dark] .colab-df-convert:hover {\n",
              "      background-color: #434B5C;\n",
              "      box-shadow: 0px 1px 3px 1px rgba(0, 0, 0, 0.15);\n",
              "      filter: drop-shadow(0px 1px 2px rgba(0, 0, 0, 0.3));\n",
              "      fill: #FFFFFF;\n",
              "    }\n",
              "  </style>\n",
              "\n",
              "      <script>\n",
              "        const buttonEl =\n",
              "          document.querySelector('#df-a1431df0-2ac6-4477-96c4-5f291c7c6cee button.colab-df-convert');\n",
              "        buttonEl.style.display =\n",
              "          google.colab.kernel.accessAllowed ? 'block' : 'none';\n",
              "\n",
              "        async function convertToInteractive(key) {\n",
              "          const element = document.querySelector('#df-a1431df0-2ac6-4477-96c4-5f291c7c6cee');\n",
              "          const dataTable =\n",
              "            await google.colab.kernel.invokeFunction('convertToInteractive',\n",
              "                                                     [key], {});\n",
              "          if (!dataTable) return;\n",
              "\n",
              "          const docLinkHtml = 'Like what you see? Visit the ' +\n",
              "            '<a target=\"_blank\" href=https://colab.research.google.com/notebooks/data_table.ipynb>data table notebook</a>'\n",
              "            + ' to learn more about interactive tables.';\n",
              "          element.innerHTML = '';\n",
              "          dataTable['output_type'] = 'display_data';\n",
              "          await google.colab.output.renderOutput(dataTable, element);\n",
              "          const docLink = document.createElement('div');\n",
              "          docLink.innerHTML = docLinkHtml;\n",
              "          element.appendChild(docLink);\n",
              "        }\n",
              "      </script>\n",
              "    </div>\n",
              "  </div>\n",
              "  "
            ]
          },
          "metadata": {},
          "execution_count": 37
        }
      ]
    },
    {
      "cell_type": "markdown",
      "metadata": {
        "id": "MdhxkwvnvlNz"
      },
      "source": [
        "- EMA - Exponencial Moving Average"
      ]
    },
    {
      "cell_type": "code",
      "execution_count": 38,
      "metadata": {
        "id": "XdJhxtQ-v0sx"
      },
      "outputs": [],
      "source": [
        "def ema(df):\n",
        "  for i in range(1, 7):\n",
        "    df[i] = df['Close'].ewm(span=i, adjust=False).mean()\n",
        "  return(df)"
      ]
    },
    {
      "cell_type": "code",
      "source": [
        "tempo_inicial = (time.time())\n",
        "ema_vale3 = ema(VALE3)\n",
        "tempo_final = (time.time())\n",
        "ema_vale3 = tt_split(ema_vale3, '2021-07-30')\n",
        "print(tempo_final - tempo_inicial)\n",
        "metricas(ema_vale3['Close'].values, ema_vale3[6].values)"
      ],
      "metadata": {
        "colab": {
          "base_uri": "https://localhost:8080/",
          "height": 98
        },
        "id": "q9RPLA8OT03A",
        "outputId": "6dfd7d2f-e5c4-464f-fff7-1a9db8b0dc14"
      },
      "execution_count": 39,
      "outputs": [
        {
          "output_type": "stream",
          "name": "stdout",
          "text": [
            "0.00505375862121582\n"
          ]
        },
        {
          "output_type": "execute_result",
          "data": {
            "text/plain": [
              "    Algo       MAE      RMSE      MAPE     SMAPE MASE        R2\n",
              "0  ACAO0  1.736246  2.276036  0.021059  2.091701    0  0.958562"
            ],
            "text/html": [
              "\n",
              "  <div id=\"df-5d919d2d-a525-471d-a0fd-f37e1f57952b\">\n",
              "    <div class=\"colab-df-container\">\n",
              "      <div>\n",
              "<style scoped>\n",
              "    .dataframe tbody tr th:only-of-type {\n",
              "        vertical-align: middle;\n",
              "    }\n",
              "\n",
              "    .dataframe tbody tr th {\n",
              "        vertical-align: top;\n",
              "    }\n",
              "\n",
              "    .dataframe thead th {\n",
              "        text-align: right;\n",
              "    }\n",
              "</style>\n",
              "<table border=\"1\" class=\"dataframe\">\n",
              "  <thead>\n",
              "    <tr style=\"text-align: right;\">\n",
              "      <th></th>\n",
              "      <th>Algo</th>\n",
              "      <th>MAE</th>\n",
              "      <th>RMSE</th>\n",
              "      <th>MAPE</th>\n",
              "      <th>SMAPE</th>\n",
              "      <th>MASE</th>\n",
              "      <th>R2</th>\n",
              "    </tr>\n",
              "  </thead>\n",
              "  <tbody>\n",
              "    <tr>\n",
              "      <th>0</th>\n",
              "      <td>ACAO0</td>\n",
              "      <td>1.736246</td>\n",
              "      <td>2.276036</td>\n",
              "      <td>0.021059</td>\n",
              "      <td>2.091701</td>\n",
              "      <td>0</td>\n",
              "      <td>0.958562</td>\n",
              "    </tr>\n",
              "  </tbody>\n",
              "</table>\n",
              "</div>\n",
              "      <button class=\"colab-df-convert\" onclick=\"convertToInteractive('df-5d919d2d-a525-471d-a0fd-f37e1f57952b')\"\n",
              "              title=\"Convert this dataframe to an interactive table.\"\n",
              "              style=\"display:none;\">\n",
              "        \n",
              "  <svg xmlns=\"http://www.w3.org/2000/svg\" height=\"24px\"viewBox=\"0 0 24 24\"\n",
              "       width=\"24px\">\n",
              "    <path d=\"M0 0h24v24H0V0z\" fill=\"none\"/>\n",
              "    <path d=\"M18.56 5.44l.94 2.06.94-2.06 2.06-.94-2.06-.94-.94-2.06-.94 2.06-2.06.94zm-11 1L8.5 8.5l.94-2.06 2.06-.94-2.06-.94L8.5 2.5l-.94 2.06-2.06.94zm10 10l.94 2.06.94-2.06 2.06-.94-2.06-.94-.94-2.06-.94 2.06-2.06.94z\"/><path d=\"M17.41 7.96l-1.37-1.37c-.4-.4-.92-.59-1.43-.59-.52 0-1.04.2-1.43.59L10.3 9.45l-7.72 7.72c-.78.78-.78 2.05 0 2.83L4 21.41c.39.39.9.59 1.41.59.51 0 1.02-.2 1.41-.59l7.78-7.78 2.81-2.81c.8-.78.8-2.07 0-2.86zM5.41 20L4 18.59l7.72-7.72 1.47 1.35L5.41 20z\"/>\n",
              "  </svg>\n",
              "      </button>\n",
              "      \n",
              "  <style>\n",
              "    .colab-df-container {\n",
              "      display:flex;\n",
              "      flex-wrap:wrap;\n",
              "      gap: 12px;\n",
              "    }\n",
              "\n",
              "    .colab-df-convert {\n",
              "      background-color: #E8F0FE;\n",
              "      border: none;\n",
              "      border-radius: 50%;\n",
              "      cursor: pointer;\n",
              "      display: none;\n",
              "      fill: #1967D2;\n",
              "      height: 32px;\n",
              "      padding: 0 0 0 0;\n",
              "      width: 32px;\n",
              "    }\n",
              "\n",
              "    .colab-df-convert:hover {\n",
              "      background-color: #E2EBFA;\n",
              "      box-shadow: 0px 1px 2px rgba(60, 64, 67, 0.3), 0px 1px 3px 1px rgba(60, 64, 67, 0.15);\n",
              "      fill: #174EA6;\n",
              "    }\n",
              "\n",
              "    [theme=dark] .colab-df-convert {\n",
              "      background-color: #3B4455;\n",
              "      fill: #D2E3FC;\n",
              "    }\n",
              "\n",
              "    [theme=dark] .colab-df-convert:hover {\n",
              "      background-color: #434B5C;\n",
              "      box-shadow: 0px 1px 3px 1px rgba(0, 0, 0, 0.15);\n",
              "      filter: drop-shadow(0px 1px 2px rgba(0, 0, 0, 0.3));\n",
              "      fill: #FFFFFF;\n",
              "    }\n",
              "  </style>\n",
              "\n",
              "      <script>\n",
              "        const buttonEl =\n",
              "          document.querySelector('#df-5d919d2d-a525-471d-a0fd-f37e1f57952b button.colab-df-convert');\n",
              "        buttonEl.style.display =\n",
              "          google.colab.kernel.accessAllowed ? 'block' : 'none';\n",
              "\n",
              "        async function convertToInteractive(key) {\n",
              "          const element = document.querySelector('#df-5d919d2d-a525-471d-a0fd-f37e1f57952b');\n",
              "          const dataTable =\n",
              "            await google.colab.kernel.invokeFunction('convertToInteractive',\n",
              "                                                     [key], {});\n",
              "          if (!dataTable) return;\n",
              "\n",
              "          const docLinkHtml = 'Like what you see? Visit the ' +\n",
              "            '<a target=\"_blank\" href=https://colab.research.google.com/notebooks/data_table.ipynb>data table notebook</a>'\n",
              "            + ' to learn more about interactive tables.';\n",
              "          element.innerHTML = '';\n",
              "          dataTable['output_type'] = 'display_data';\n",
              "          await google.colab.output.renderOutput(dataTable, element);\n",
              "          const docLink = document.createElement('div');\n",
              "          docLink.innerHTML = docLinkHtml;\n",
              "          element.appendChild(docLink);\n",
              "        }\n",
              "      </script>\n",
              "    </div>\n",
              "  </div>\n",
              "  "
            ]
          },
          "metadata": {},
          "execution_count": 39
        }
      ]
    },
    {
      "cell_type": "code",
      "source": [
        "tempo_inicial = (time.time())\n",
        "ema_dvale3 = ema(DVALE3)\n",
        "tempo_final = (time.time())\n",
        "ema_dvale3 = tt_split(ema_dvale3, '2021-07-30')\n",
        "print(tempo_final - tempo_inicial)\n",
        "metricas(ema_dvale3['Close'].values, ema_dvale3[6].values)"
      ],
      "metadata": {
        "colab": {
          "base_uri": "https://localhost:8080/",
          "height": 98
        },
        "id": "J_dFQJGAWG7i",
        "outputId": "9cf5f9b9-06a5-4937-b71a-18fe281d6932"
      },
      "execution_count": 40,
      "outputs": [
        {
          "output_type": "stream",
          "name": "stdout",
          "text": [
            "0.003909111022949219\n"
          ]
        },
        {
          "output_type": "execute_result",
          "data": {
            "text/plain": [
              "    Algo       MAE      RMSE          MAPE       SMAPE MASE        R2\n",
              "0  ACAO0  1.183481  1.562644  4.451565e+11  120.413314    0  0.417274"
            ],
            "text/html": [
              "\n",
              "  <div id=\"df-bbbacb34-9c1b-49ab-9da1-3e0e69c8657c\">\n",
              "    <div class=\"colab-df-container\">\n",
              "      <div>\n",
              "<style scoped>\n",
              "    .dataframe tbody tr th:only-of-type {\n",
              "        vertical-align: middle;\n",
              "    }\n",
              "\n",
              "    .dataframe tbody tr th {\n",
              "        vertical-align: top;\n",
              "    }\n",
              "\n",
              "    .dataframe thead th {\n",
              "        text-align: right;\n",
              "    }\n",
              "</style>\n",
              "<table border=\"1\" class=\"dataframe\">\n",
              "  <thead>\n",
              "    <tr style=\"text-align: right;\">\n",
              "      <th></th>\n",
              "      <th>Algo</th>\n",
              "      <th>MAE</th>\n",
              "      <th>RMSE</th>\n",
              "      <th>MAPE</th>\n",
              "      <th>SMAPE</th>\n",
              "      <th>MASE</th>\n",
              "      <th>R2</th>\n",
              "    </tr>\n",
              "  </thead>\n",
              "  <tbody>\n",
              "    <tr>\n",
              "      <th>0</th>\n",
              "      <td>ACAO0</td>\n",
              "      <td>1.183481</td>\n",
              "      <td>1.562644</td>\n",
              "      <td>4.451565e+11</td>\n",
              "      <td>120.413314</td>\n",
              "      <td>0</td>\n",
              "      <td>0.417274</td>\n",
              "    </tr>\n",
              "  </tbody>\n",
              "</table>\n",
              "</div>\n",
              "      <button class=\"colab-df-convert\" onclick=\"convertToInteractive('df-bbbacb34-9c1b-49ab-9da1-3e0e69c8657c')\"\n",
              "              title=\"Convert this dataframe to an interactive table.\"\n",
              "              style=\"display:none;\">\n",
              "        \n",
              "  <svg xmlns=\"http://www.w3.org/2000/svg\" height=\"24px\"viewBox=\"0 0 24 24\"\n",
              "       width=\"24px\">\n",
              "    <path d=\"M0 0h24v24H0V0z\" fill=\"none\"/>\n",
              "    <path d=\"M18.56 5.44l.94 2.06.94-2.06 2.06-.94-2.06-.94-.94-2.06-.94 2.06-2.06.94zm-11 1L8.5 8.5l.94-2.06 2.06-.94-2.06-.94L8.5 2.5l-.94 2.06-2.06.94zm10 10l.94 2.06.94-2.06 2.06-.94-2.06-.94-.94-2.06-.94 2.06-2.06.94z\"/><path d=\"M17.41 7.96l-1.37-1.37c-.4-.4-.92-.59-1.43-.59-.52 0-1.04.2-1.43.59L10.3 9.45l-7.72 7.72c-.78.78-.78 2.05 0 2.83L4 21.41c.39.39.9.59 1.41.59.51 0 1.02-.2 1.41-.59l7.78-7.78 2.81-2.81c.8-.78.8-2.07 0-2.86zM5.41 20L4 18.59l7.72-7.72 1.47 1.35L5.41 20z\"/>\n",
              "  </svg>\n",
              "      </button>\n",
              "      \n",
              "  <style>\n",
              "    .colab-df-container {\n",
              "      display:flex;\n",
              "      flex-wrap:wrap;\n",
              "      gap: 12px;\n",
              "    }\n",
              "\n",
              "    .colab-df-convert {\n",
              "      background-color: #E8F0FE;\n",
              "      border: none;\n",
              "      border-radius: 50%;\n",
              "      cursor: pointer;\n",
              "      display: none;\n",
              "      fill: #1967D2;\n",
              "      height: 32px;\n",
              "      padding: 0 0 0 0;\n",
              "      width: 32px;\n",
              "    }\n",
              "\n",
              "    .colab-df-convert:hover {\n",
              "      background-color: #E2EBFA;\n",
              "      box-shadow: 0px 1px 2px rgba(60, 64, 67, 0.3), 0px 1px 3px 1px rgba(60, 64, 67, 0.15);\n",
              "      fill: #174EA6;\n",
              "    }\n",
              "\n",
              "    [theme=dark] .colab-df-convert {\n",
              "      background-color: #3B4455;\n",
              "      fill: #D2E3FC;\n",
              "    }\n",
              "\n",
              "    [theme=dark] .colab-df-convert:hover {\n",
              "      background-color: #434B5C;\n",
              "      box-shadow: 0px 1px 3px 1px rgba(0, 0, 0, 0.15);\n",
              "      filter: drop-shadow(0px 1px 2px rgba(0, 0, 0, 0.3));\n",
              "      fill: #FFFFFF;\n",
              "    }\n",
              "  </style>\n",
              "\n",
              "      <script>\n",
              "        const buttonEl =\n",
              "          document.querySelector('#df-bbbacb34-9c1b-49ab-9da1-3e0e69c8657c button.colab-df-convert');\n",
              "        buttonEl.style.display =\n",
              "          google.colab.kernel.accessAllowed ? 'block' : 'none';\n",
              "\n",
              "        async function convertToInteractive(key) {\n",
              "          const element = document.querySelector('#df-bbbacb34-9c1b-49ab-9da1-3e0e69c8657c');\n",
              "          const dataTable =\n",
              "            await google.colab.kernel.invokeFunction('convertToInteractive',\n",
              "                                                     [key], {});\n",
              "          if (!dataTable) return;\n",
              "\n",
              "          const docLinkHtml = 'Like what you see? Visit the ' +\n",
              "            '<a target=\"_blank\" href=https://colab.research.google.com/notebooks/data_table.ipynb>data table notebook</a>'\n",
              "            + ' to learn more about interactive tables.';\n",
              "          element.innerHTML = '';\n",
              "          dataTable['output_type'] = 'display_data';\n",
              "          await google.colab.output.renderOutput(dataTable, element);\n",
              "          const docLink = document.createElement('div');\n",
              "          docLink.innerHTML = docLinkHtml;\n",
              "          element.appendChild(docLink);\n",
              "        }\n",
              "      </script>\n",
              "    </div>\n",
              "  </div>\n",
              "  "
            ]
          },
          "metadata": {},
          "execution_count": 40
        }
      ]
    },
    {
      "cell_type": "code",
      "source": [
        "tempo_inicial = (time.time())\n",
        "ema_petr4 = ema(PETR4)\n",
        "tempo_final = (time.time())\n",
        "ema_petr4 = tt_split(ema_petr4, '2021-07-30')\n",
        "print(tempo_final - tempo_inicial)\n",
        "metricas(ema_petr4['Close'].values, ema_petr4[6].values)"
      ],
      "metadata": {
        "colab": {
          "base_uri": "https://localhost:8080/",
          "height": 98
        },
        "id": "RMFmLCNkT42Y",
        "outputId": "d7aad29c-402d-40e8-a4f0-553f6cdc732b"
      },
      "execution_count": 41,
      "outputs": [
        {
          "output_type": "stream",
          "name": "stdout",
          "text": [
            "0.004733562469482422\n"
          ]
        },
        {
          "output_type": "execute_result",
          "data": {
            "text/plain": [
              "    Algo       MAE      RMSE      MAPE    SMAPE MASE        R2\n",
              "0  ACAO0  0.603372  0.751268  0.020035  2.00482    0  0.920511"
            ],
            "text/html": [
              "\n",
              "  <div id=\"df-b8c8b6ac-23c2-4e1d-bc75-52cdeebcfed4\">\n",
              "    <div class=\"colab-df-container\">\n",
              "      <div>\n",
              "<style scoped>\n",
              "    .dataframe tbody tr th:only-of-type {\n",
              "        vertical-align: middle;\n",
              "    }\n",
              "\n",
              "    .dataframe tbody tr th {\n",
              "        vertical-align: top;\n",
              "    }\n",
              "\n",
              "    .dataframe thead th {\n",
              "        text-align: right;\n",
              "    }\n",
              "</style>\n",
              "<table border=\"1\" class=\"dataframe\">\n",
              "  <thead>\n",
              "    <tr style=\"text-align: right;\">\n",
              "      <th></th>\n",
              "      <th>Algo</th>\n",
              "      <th>MAE</th>\n",
              "      <th>RMSE</th>\n",
              "      <th>MAPE</th>\n",
              "      <th>SMAPE</th>\n",
              "      <th>MASE</th>\n",
              "      <th>R2</th>\n",
              "    </tr>\n",
              "  </thead>\n",
              "  <tbody>\n",
              "    <tr>\n",
              "      <th>0</th>\n",
              "      <td>ACAO0</td>\n",
              "      <td>0.603372</td>\n",
              "      <td>0.751268</td>\n",
              "      <td>0.020035</td>\n",
              "      <td>2.00482</td>\n",
              "      <td>0</td>\n",
              "      <td>0.920511</td>\n",
              "    </tr>\n",
              "  </tbody>\n",
              "</table>\n",
              "</div>\n",
              "      <button class=\"colab-df-convert\" onclick=\"convertToInteractive('df-b8c8b6ac-23c2-4e1d-bc75-52cdeebcfed4')\"\n",
              "              title=\"Convert this dataframe to an interactive table.\"\n",
              "              style=\"display:none;\">\n",
              "        \n",
              "  <svg xmlns=\"http://www.w3.org/2000/svg\" height=\"24px\"viewBox=\"0 0 24 24\"\n",
              "       width=\"24px\">\n",
              "    <path d=\"M0 0h24v24H0V0z\" fill=\"none\"/>\n",
              "    <path d=\"M18.56 5.44l.94 2.06.94-2.06 2.06-.94-2.06-.94-.94-2.06-.94 2.06-2.06.94zm-11 1L8.5 8.5l.94-2.06 2.06-.94-2.06-.94L8.5 2.5l-.94 2.06-2.06.94zm10 10l.94 2.06.94-2.06 2.06-.94-2.06-.94-.94-2.06-.94 2.06-2.06.94z\"/><path d=\"M17.41 7.96l-1.37-1.37c-.4-.4-.92-.59-1.43-.59-.52 0-1.04.2-1.43.59L10.3 9.45l-7.72 7.72c-.78.78-.78 2.05 0 2.83L4 21.41c.39.39.9.59 1.41.59.51 0 1.02-.2 1.41-.59l7.78-7.78 2.81-2.81c.8-.78.8-2.07 0-2.86zM5.41 20L4 18.59l7.72-7.72 1.47 1.35L5.41 20z\"/>\n",
              "  </svg>\n",
              "      </button>\n",
              "      \n",
              "  <style>\n",
              "    .colab-df-container {\n",
              "      display:flex;\n",
              "      flex-wrap:wrap;\n",
              "      gap: 12px;\n",
              "    }\n",
              "\n",
              "    .colab-df-convert {\n",
              "      background-color: #E8F0FE;\n",
              "      border: none;\n",
              "      border-radius: 50%;\n",
              "      cursor: pointer;\n",
              "      display: none;\n",
              "      fill: #1967D2;\n",
              "      height: 32px;\n",
              "      padding: 0 0 0 0;\n",
              "      width: 32px;\n",
              "    }\n",
              "\n",
              "    .colab-df-convert:hover {\n",
              "      background-color: #E2EBFA;\n",
              "      box-shadow: 0px 1px 2px rgba(60, 64, 67, 0.3), 0px 1px 3px 1px rgba(60, 64, 67, 0.15);\n",
              "      fill: #174EA6;\n",
              "    }\n",
              "\n",
              "    [theme=dark] .colab-df-convert {\n",
              "      background-color: #3B4455;\n",
              "      fill: #D2E3FC;\n",
              "    }\n",
              "\n",
              "    [theme=dark] .colab-df-convert:hover {\n",
              "      background-color: #434B5C;\n",
              "      box-shadow: 0px 1px 3px 1px rgba(0, 0, 0, 0.15);\n",
              "      filter: drop-shadow(0px 1px 2px rgba(0, 0, 0, 0.3));\n",
              "      fill: #FFFFFF;\n",
              "    }\n",
              "  </style>\n",
              "\n",
              "      <script>\n",
              "        const buttonEl =\n",
              "          document.querySelector('#df-b8c8b6ac-23c2-4e1d-bc75-52cdeebcfed4 button.colab-df-convert');\n",
              "        buttonEl.style.display =\n",
              "          google.colab.kernel.accessAllowed ? 'block' : 'none';\n",
              "\n",
              "        async function convertToInteractive(key) {\n",
              "          const element = document.querySelector('#df-b8c8b6ac-23c2-4e1d-bc75-52cdeebcfed4');\n",
              "          const dataTable =\n",
              "            await google.colab.kernel.invokeFunction('convertToInteractive',\n",
              "                                                     [key], {});\n",
              "          if (!dataTable) return;\n",
              "\n",
              "          const docLinkHtml = 'Like what you see? Visit the ' +\n",
              "            '<a target=\"_blank\" href=https://colab.research.google.com/notebooks/data_table.ipynb>data table notebook</a>'\n",
              "            + ' to learn more about interactive tables.';\n",
              "          element.innerHTML = '';\n",
              "          dataTable['output_type'] = 'display_data';\n",
              "          await google.colab.output.renderOutput(dataTable, element);\n",
              "          const docLink = document.createElement('div');\n",
              "          docLink.innerHTML = docLinkHtml;\n",
              "          element.appendChild(docLink);\n",
              "        }\n",
              "      </script>\n",
              "    </div>\n",
              "  </div>\n",
              "  "
            ]
          },
          "metadata": {},
          "execution_count": 41
        }
      ]
    },
    {
      "cell_type": "code",
      "source": [
        "tempo_inicial = (time.time())\n",
        "ema_dpetr4 = ema(DPETR4)\n",
        "tempo_final = (time.time())\n",
        "ema_dpetr4 = tt_split(ema_dpetr4, '2021-07-30')\n",
        "print(tempo_final - tempo_inicial)\n",
        "metricas(ema_dpetr4['Close'].values, ema_dpetr4[6].values)"
      ],
      "metadata": {
        "colab": {
          "base_uri": "https://localhost:8080/",
          "height": 98
        },
        "id": "EmzyinW0WKhb",
        "outputId": "d8fddcf8-073d-4f13-bfda-ccafdd96cfb8"
      },
      "execution_count": 42,
      "outputs": [
        {
          "output_type": "stream",
          "name": "stdout",
          "text": [
            "0.004137754440307617\n"
          ]
        },
        {
          "output_type": "execute_result",
          "data": {
            "text/plain": [
              "    Algo       MAE      RMSE          MAPE       SMAPE MASE        R2\n",
              "0  ACAO0  0.429017  0.598663  4.134871e+12  121.258067    0  0.395307"
            ],
            "text/html": [
              "\n",
              "  <div id=\"df-6901de28-ee52-4207-ab8d-c17190441286\">\n",
              "    <div class=\"colab-df-container\">\n",
              "      <div>\n",
              "<style scoped>\n",
              "    .dataframe tbody tr th:only-of-type {\n",
              "        vertical-align: middle;\n",
              "    }\n",
              "\n",
              "    .dataframe tbody tr th {\n",
              "        vertical-align: top;\n",
              "    }\n",
              "\n",
              "    .dataframe thead th {\n",
              "        text-align: right;\n",
              "    }\n",
              "</style>\n",
              "<table border=\"1\" class=\"dataframe\">\n",
              "  <thead>\n",
              "    <tr style=\"text-align: right;\">\n",
              "      <th></th>\n",
              "      <th>Algo</th>\n",
              "      <th>MAE</th>\n",
              "      <th>RMSE</th>\n",
              "      <th>MAPE</th>\n",
              "      <th>SMAPE</th>\n",
              "      <th>MASE</th>\n",
              "      <th>R2</th>\n",
              "    </tr>\n",
              "  </thead>\n",
              "  <tbody>\n",
              "    <tr>\n",
              "      <th>0</th>\n",
              "      <td>ACAO0</td>\n",
              "      <td>0.429017</td>\n",
              "      <td>0.598663</td>\n",
              "      <td>4.134871e+12</td>\n",
              "      <td>121.258067</td>\n",
              "      <td>0</td>\n",
              "      <td>0.395307</td>\n",
              "    </tr>\n",
              "  </tbody>\n",
              "</table>\n",
              "</div>\n",
              "      <button class=\"colab-df-convert\" onclick=\"convertToInteractive('df-6901de28-ee52-4207-ab8d-c17190441286')\"\n",
              "              title=\"Convert this dataframe to an interactive table.\"\n",
              "              style=\"display:none;\">\n",
              "        \n",
              "  <svg xmlns=\"http://www.w3.org/2000/svg\" height=\"24px\"viewBox=\"0 0 24 24\"\n",
              "       width=\"24px\">\n",
              "    <path d=\"M0 0h24v24H0V0z\" fill=\"none\"/>\n",
              "    <path d=\"M18.56 5.44l.94 2.06.94-2.06 2.06-.94-2.06-.94-.94-2.06-.94 2.06-2.06.94zm-11 1L8.5 8.5l.94-2.06 2.06-.94-2.06-.94L8.5 2.5l-.94 2.06-2.06.94zm10 10l.94 2.06.94-2.06 2.06-.94-2.06-.94-.94-2.06-.94 2.06-2.06.94z\"/><path d=\"M17.41 7.96l-1.37-1.37c-.4-.4-.92-.59-1.43-.59-.52 0-1.04.2-1.43.59L10.3 9.45l-7.72 7.72c-.78.78-.78 2.05 0 2.83L4 21.41c.39.39.9.59 1.41.59.51 0 1.02-.2 1.41-.59l7.78-7.78 2.81-2.81c.8-.78.8-2.07 0-2.86zM5.41 20L4 18.59l7.72-7.72 1.47 1.35L5.41 20z\"/>\n",
              "  </svg>\n",
              "      </button>\n",
              "      \n",
              "  <style>\n",
              "    .colab-df-container {\n",
              "      display:flex;\n",
              "      flex-wrap:wrap;\n",
              "      gap: 12px;\n",
              "    }\n",
              "\n",
              "    .colab-df-convert {\n",
              "      background-color: #E8F0FE;\n",
              "      border: none;\n",
              "      border-radius: 50%;\n",
              "      cursor: pointer;\n",
              "      display: none;\n",
              "      fill: #1967D2;\n",
              "      height: 32px;\n",
              "      padding: 0 0 0 0;\n",
              "      width: 32px;\n",
              "    }\n",
              "\n",
              "    .colab-df-convert:hover {\n",
              "      background-color: #E2EBFA;\n",
              "      box-shadow: 0px 1px 2px rgba(60, 64, 67, 0.3), 0px 1px 3px 1px rgba(60, 64, 67, 0.15);\n",
              "      fill: #174EA6;\n",
              "    }\n",
              "\n",
              "    [theme=dark] .colab-df-convert {\n",
              "      background-color: #3B4455;\n",
              "      fill: #D2E3FC;\n",
              "    }\n",
              "\n",
              "    [theme=dark] .colab-df-convert:hover {\n",
              "      background-color: #434B5C;\n",
              "      box-shadow: 0px 1px 3px 1px rgba(0, 0, 0, 0.15);\n",
              "      filter: drop-shadow(0px 1px 2px rgba(0, 0, 0, 0.3));\n",
              "      fill: #FFFFFF;\n",
              "    }\n",
              "  </style>\n",
              "\n",
              "      <script>\n",
              "        const buttonEl =\n",
              "          document.querySelector('#df-6901de28-ee52-4207-ab8d-c17190441286 button.colab-df-convert');\n",
              "        buttonEl.style.display =\n",
              "          google.colab.kernel.accessAllowed ? 'block' : 'none';\n",
              "\n",
              "        async function convertToInteractive(key) {\n",
              "          const element = document.querySelector('#df-6901de28-ee52-4207-ab8d-c17190441286');\n",
              "          const dataTable =\n",
              "            await google.colab.kernel.invokeFunction('convertToInteractive',\n",
              "                                                     [key], {});\n",
              "          if (!dataTable) return;\n",
              "\n",
              "          const docLinkHtml = 'Like what you see? Visit the ' +\n",
              "            '<a target=\"_blank\" href=https://colab.research.google.com/notebooks/data_table.ipynb>data table notebook</a>'\n",
              "            + ' to learn more about interactive tables.';\n",
              "          element.innerHTML = '';\n",
              "          dataTable['output_type'] = 'display_data';\n",
              "          await google.colab.output.renderOutput(dataTable, element);\n",
              "          const docLink = document.createElement('div');\n",
              "          docLink.innerHTML = docLinkHtml;\n",
              "          element.appendChild(docLink);\n",
              "        }\n",
              "      </script>\n",
              "    </div>\n",
              "  </div>\n",
              "  "
            ]
          },
          "metadata": {},
          "execution_count": 42
        }
      ]
    },
    {
      "cell_type": "code",
      "source": [
        "tempo_inicial = (time.time())\n",
        "ema_itub4 = ema(ITUB4)\n",
        "tempo_final = (time.time())\n",
        "ema_itub4 = tt_split(ema_itub4, '2021-07-30')\n",
        "print(tempo_final - tempo_inicial)\n",
        "metricas(ema_itub4['Close'].values, ema_itub4[6].values)"
      ],
      "metadata": {
        "colab": {
          "base_uri": "https://localhost:8080/",
          "height": 98
        },
        "id": "nc9YEpHwT7nm",
        "outputId": "047e68ae-4b51-431e-aec3-c300870114ac"
      },
      "execution_count": 43,
      "outputs": [
        {
          "output_type": "stream",
          "name": "stdout",
          "text": [
            "0.0049343109130859375\n"
          ]
        },
        {
          "output_type": "execute_result",
          "data": {
            "text/plain": [
              "    Algo       MAE      RMSE      MAPE     SMAPE MASE        R2\n",
              "0  ACAO0  0.385773  0.508655  0.015408  1.534502    0  0.959974"
            ],
            "text/html": [
              "\n",
              "  <div id=\"df-c9d54109-b4db-4afc-9dbe-893742a9b326\">\n",
              "    <div class=\"colab-df-container\">\n",
              "      <div>\n",
              "<style scoped>\n",
              "    .dataframe tbody tr th:only-of-type {\n",
              "        vertical-align: middle;\n",
              "    }\n",
              "\n",
              "    .dataframe tbody tr th {\n",
              "        vertical-align: top;\n",
              "    }\n",
              "\n",
              "    .dataframe thead th {\n",
              "        text-align: right;\n",
              "    }\n",
              "</style>\n",
              "<table border=\"1\" class=\"dataframe\">\n",
              "  <thead>\n",
              "    <tr style=\"text-align: right;\">\n",
              "      <th></th>\n",
              "      <th>Algo</th>\n",
              "      <th>MAE</th>\n",
              "      <th>RMSE</th>\n",
              "      <th>MAPE</th>\n",
              "      <th>SMAPE</th>\n",
              "      <th>MASE</th>\n",
              "      <th>R2</th>\n",
              "    </tr>\n",
              "  </thead>\n",
              "  <tbody>\n",
              "    <tr>\n",
              "      <th>0</th>\n",
              "      <td>ACAO0</td>\n",
              "      <td>0.385773</td>\n",
              "      <td>0.508655</td>\n",
              "      <td>0.015408</td>\n",
              "      <td>1.534502</td>\n",
              "      <td>0</td>\n",
              "      <td>0.959974</td>\n",
              "    </tr>\n",
              "  </tbody>\n",
              "</table>\n",
              "</div>\n",
              "      <button class=\"colab-df-convert\" onclick=\"convertToInteractive('df-c9d54109-b4db-4afc-9dbe-893742a9b326')\"\n",
              "              title=\"Convert this dataframe to an interactive table.\"\n",
              "              style=\"display:none;\">\n",
              "        \n",
              "  <svg xmlns=\"http://www.w3.org/2000/svg\" height=\"24px\"viewBox=\"0 0 24 24\"\n",
              "       width=\"24px\">\n",
              "    <path d=\"M0 0h24v24H0V0z\" fill=\"none\"/>\n",
              "    <path d=\"M18.56 5.44l.94 2.06.94-2.06 2.06-.94-2.06-.94-.94-2.06-.94 2.06-2.06.94zm-11 1L8.5 8.5l.94-2.06 2.06-.94-2.06-.94L8.5 2.5l-.94 2.06-2.06.94zm10 10l.94 2.06.94-2.06 2.06-.94-2.06-.94-.94-2.06-.94 2.06-2.06.94z\"/><path d=\"M17.41 7.96l-1.37-1.37c-.4-.4-.92-.59-1.43-.59-.52 0-1.04.2-1.43.59L10.3 9.45l-7.72 7.72c-.78.78-.78 2.05 0 2.83L4 21.41c.39.39.9.59 1.41.59.51 0 1.02-.2 1.41-.59l7.78-7.78 2.81-2.81c.8-.78.8-2.07 0-2.86zM5.41 20L4 18.59l7.72-7.72 1.47 1.35L5.41 20z\"/>\n",
              "  </svg>\n",
              "      </button>\n",
              "      \n",
              "  <style>\n",
              "    .colab-df-container {\n",
              "      display:flex;\n",
              "      flex-wrap:wrap;\n",
              "      gap: 12px;\n",
              "    }\n",
              "\n",
              "    .colab-df-convert {\n",
              "      background-color: #E8F0FE;\n",
              "      border: none;\n",
              "      border-radius: 50%;\n",
              "      cursor: pointer;\n",
              "      display: none;\n",
              "      fill: #1967D2;\n",
              "      height: 32px;\n",
              "      padding: 0 0 0 0;\n",
              "      width: 32px;\n",
              "    }\n",
              "\n",
              "    .colab-df-convert:hover {\n",
              "      background-color: #E2EBFA;\n",
              "      box-shadow: 0px 1px 2px rgba(60, 64, 67, 0.3), 0px 1px 3px 1px rgba(60, 64, 67, 0.15);\n",
              "      fill: #174EA6;\n",
              "    }\n",
              "\n",
              "    [theme=dark] .colab-df-convert {\n",
              "      background-color: #3B4455;\n",
              "      fill: #D2E3FC;\n",
              "    }\n",
              "\n",
              "    [theme=dark] .colab-df-convert:hover {\n",
              "      background-color: #434B5C;\n",
              "      box-shadow: 0px 1px 3px 1px rgba(0, 0, 0, 0.15);\n",
              "      filter: drop-shadow(0px 1px 2px rgba(0, 0, 0, 0.3));\n",
              "      fill: #FFFFFF;\n",
              "    }\n",
              "  </style>\n",
              "\n",
              "      <script>\n",
              "        const buttonEl =\n",
              "          document.querySelector('#df-c9d54109-b4db-4afc-9dbe-893742a9b326 button.colab-df-convert');\n",
              "        buttonEl.style.display =\n",
              "          google.colab.kernel.accessAllowed ? 'block' : 'none';\n",
              "\n",
              "        async function convertToInteractive(key) {\n",
              "          const element = document.querySelector('#df-c9d54109-b4db-4afc-9dbe-893742a9b326');\n",
              "          const dataTable =\n",
              "            await google.colab.kernel.invokeFunction('convertToInteractive',\n",
              "                                                     [key], {});\n",
              "          if (!dataTable) return;\n",
              "\n",
              "          const docLinkHtml = 'Like what you see? Visit the ' +\n",
              "            '<a target=\"_blank\" href=https://colab.research.google.com/notebooks/data_table.ipynb>data table notebook</a>'\n",
              "            + ' to learn more about interactive tables.';\n",
              "          element.innerHTML = '';\n",
              "          dataTable['output_type'] = 'display_data';\n",
              "          await google.colab.output.renderOutput(dataTable, element);\n",
              "          const docLink = document.createElement('div');\n",
              "          docLink.innerHTML = docLinkHtml;\n",
              "          element.appendChild(docLink);\n",
              "        }\n",
              "      </script>\n",
              "    </div>\n",
              "  </div>\n",
              "  "
            ]
          },
          "metadata": {},
          "execution_count": 43
        }
      ]
    },
    {
      "cell_type": "code",
      "source": [
        "tempo_inicial = (time.time())\n",
        "ema_ditub4 = ema(DITUB4)\n",
        "tempo_final = (time.time())\n",
        "ema_ditub4 = tt_split(ema_ditub4, '2021-07-30')\n",
        "print(tempo_final - tempo_inicial)\n",
        "metricas(ema_ditub4['Close'].values, ema_ditub4[6].values)"
      ],
      "metadata": {
        "colab": {
          "base_uri": "https://localhost:8080/",
          "height": 98
        },
        "id": "bXCFl5oAWOaF",
        "outputId": "4d178c6f-c01b-4178-9d48-e5533d2e2879"
      },
      "execution_count": 44,
      "outputs": [
        {
          "output_type": "stream",
          "name": "stdout",
          "text": [
            "0.0049970149993896484\n"
          ]
        },
        {
          "output_type": "execute_result",
          "data": {
            "text/plain": [
              "    Algo       MAE      RMSE          MAPE       SMAPE MASE        R2\n",
              "0  ACAO0  0.269337  0.421206  2.636957e+12  112.268887    0  0.390863"
            ],
            "text/html": [
              "\n",
              "  <div id=\"df-fd796ef0-dfb1-48d7-b6b1-3c6916ba181a\">\n",
              "    <div class=\"colab-df-container\">\n",
              "      <div>\n",
              "<style scoped>\n",
              "    .dataframe tbody tr th:only-of-type {\n",
              "        vertical-align: middle;\n",
              "    }\n",
              "\n",
              "    .dataframe tbody tr th {\n",
              "        vertical-align: top;\n",
              "    }\n",
              "\n",
              "    .dataframe thead th {\n",
              "        text-align: right;\n",
              "    }\n",
              "</style>\n",
              "<table border=\"1\" class=\"dataframe\">\n",
              "  <thead>\n",
              "    <tr style=\"text-align: right;\">\n",
              "      <th></th>\n",
              "      <th>Algo</th>\n",
              "      <th>MAE</th>\n",
              "      <th>RMSE</th>\n",
              "      <th>MAPE</th>\n",
              "      <th>SMAPE</th>\n",
              "      <th>MASE</th>\n",
              "      <th>R2</th>\n",
              "    </tr>\n",
              "  </thead>\n",
              "  <tbody>\n",
              "    <tr>\n",
              "      <th>0</th>\n",
              "      <td>ACAO0</td>\n",
              "      <td>0.269337</td>\n",
              "      <td>0.421206</td>\n",
              "      <td>2.636957e+12</td>\n",
              "      <td>112.268887</td>\n",
              "      <td>0</td>\n",
              "      <td>0.390863</td>\n",
              "    </tr>\n",
              "  </tbody>\n",
              "</table>\n",
              "</div>\n",
              "      <button class=\"colab-df-convert\" onclick=\"convertToInteractive('df-fd796ef0-dfb1-48d7-b6b1-3c6916ba181a')\"\n",
              "              title=\"Convert this dataframe to an interactive table.\"\n",
              "              style=\"display:none;\">\n",
              "        \n",
              "  <svg xmlns=\"http://www.w3.org/2000/svg\" height=\"24px\"viewBox=\"0 0 24 24\"\n",
              "       width=\"24px\">\n",
              "    <path d=\"M0 0h24v24H0V0z\" fill=\"none\"/>\n",
              "    <path d=\"M18.56 5.44l.94 2.06.94-2.06 2.06-.94-2.06-.94-.94-2.06-.94 2.06-2.06.94zm-11 1L8.5 8.5l.94-2.06 2.06-.94-2.06-.94L8.5 2.5l-.94 2.06-2.06.94zm10 10l.94 2.06.94-2.06 2.06-.94-2.06-.94-.94-2.06-.94 2.06-2.06.94z\"/><path d=\"M17.41 7.96l-1.37-1.37c-.4-.4-.92-.59-1.43-.59-.52 0-1.04.2-1.43.59L10.3 9.45l-7.72 7.72c-.78.78-.78 2.05 0 2.83L4 21.41c.39.39.9.59 1.41.59.51 0 1.02-.2 1.41-.59l7.78-7.78 2.81-2.81c.8-.78.8-2.07 0-2.86zM5.41 20L4 18.59l7.72-7.72 1.47 1.35L5.41 20z\"/>\n",
              "  </svg>\n",
              "      </button>\n",
              "      \n",
              "  <style>\n",
              "    .colab-df-container {\n",
              "      display:flex;\n",
              "      flex-wrap:wrap;\n",
              "      gap: 12px;\n",
              "    }\n",
              "\n",
              "    .colab-df-convert {\n",
              "      background-color: #E8F0FE;\n",
              "      border: none;\n",
              "      border-radius: 50%;\n",
              "      cursor: pointer;\n",
              "      display: none;\n",
              "      fill: #1967D2;\n",
              "      height: 32px;\n",
              "      padding: 0 0 0 0;\n",
              "      width: 32px;\n",
              "    }\n",
              "\n",
              "    .colab-df-convert:hover {\n",
              "      background-color: #E2EBFA;\n",
              "      box-shadow: 0px 1px 2px rgba(60, 64, 67, 0.3), 0px 1px 3px 1px rgba(60, 64, 67, 0.15);\n",
              "      fill: #174EA6;\n",
              "    }\n",
              "\n",
              "    [theme=dark] .colab-df-convert {\n",
              "      background-color: #3B4455;\n",
              "      fill: #D2E3FC;\n",
              "    }\n",
              "\n",
              "    [theme=dark] .colab-df-convert:hover {\n",
              "      background-color: #434B5C;\n",
              "      box-shadow: 0px 1px 3px 1px rgba(0, 0, 0, 0.15);\n",
              "      filter: drop-shadow(0px 1px 2px rgba(0, 0, 0, 0.3));\n",
              "      fill: #FFFFFF;\n",
              "    }\n",
              "  </style>\n",
              "\n",
              "      <script>\n",
              "        const buttonEl =\n",
              "          document.querySelector('#df-fd796ef0-dfb1-48d7-b6b1-3c6916ba181a button.colab-df-convert');\n",
              "        buttonEl.style.display =\n",
              "          google.colab.kernel.accessAllowed ? 'block' : 'none';\n",
              "\n",
              "        async function convertToInteractive(key) {\n",
              "          const element = document.querySelector('#df-fd796ef0-dfb1-48d7-b6b1-3c6916ba181a');\n",
              "          const dataTable =\n",
              "            await google.colab.kernel.invokeFunction('convertToInteractive',\n",
              "                                                     [key], {});\n",
              "          if (!dataTable) return;\n",
              "\n",
              "          const docLinkHtml = 'Like what you see? Visit the ' +\n",
              "            '<a target=\"_blank\" href=https://colab.research.google.com/notebooks/data_table.ipynb>data table notebook</a>'\n",
              "            + ' to learn more about interactive tables.';\n",
              "          element.innerHTML = '';\n",
              "          dataTable['output_type'] = 'display_data';\n",
              "          await google.colab.output.renderOutput(dataTable, element);\n",
              "          const docLink = document.createElement('div');\n",
              "          docLink.innerHTML = docLinkHtml;\n",
              "          element.appendChild(docLink);\n",
              "        }\n",
              "      </script>\n",
              "    </div>\n",
              "  </div>\n",
              "  "
            ]
          },
          "metadata": {},
          "execution_count": 44
        }
      ]
    },
    {
      "cell_type": "markdown",
      "metadata": {
        "id": "y5g-ktmQI4P-"
      },
      "source": [
        "- ### Modelos ARIMA e SARIMA\n"
      ]
    },
    {
      "cell_type": "markdown",
      "metadata": {
        "id": "zRT2q_EnIfap"
      },
      "source": [
        "ARIMA - Auto Regressive Integrated Moving Average\n",
        "AR: Autoregressão. \n",
        "I : Integração\n",
        "MA: Média Móvel\n",
        "\n",
        "Parâmetros:\n",
        "p:  número de lags das observação\n",
        "d: número de v\n",
        "q: tamanho da janela da média móvel"
      ]
    },
    {
      "cell_type": "code",
      "execution_count": 45,
      "metadata": {
        "id": "iS0obfceDdvM"
      },
      "outputs": [],
      "source": [
        "import pandas as pd\n",
        "import numpy as np\n",
        "from matplotlib import pyplot as plt\n",
        "\n",
        "from pmdarima import auto_arima\n",
        "from statsmodels.tsa.arima.model import ARIMA"
      ]
    },
    {
      "cell_type": "code",
      "execution_count": 691,
      "metadata": {
        "id": "QRal_a74IPp_"
      },
      "outputs": [],
      "source": [
        "import numpy as np\n",
        "from math import sqrt\n",
        "from sklearn.metrics import mean_absolute_error\n",
        "from sklearn.metrics import mean_squared_error\n",
        "from sklearn.metrics import mean_absolute_percentage_error\n",
        "from sklearn.metrics import r2_score"
      ]
    },
    {
      "cell_type": "code",
      "execution_count": 46,
      "metadata": {
        "id": "n1RG4v-3E17f"
      },
      "outputs": [],
      "source": [
        "vale_arima = df_vale.copy()\n",
        "petr_arima = df_petr.copy()\n",
        "itub_arima = df_itub.copy()\n",
        "dvale_arima = diff_vale.copy() \n",
        "dpetr_arima = diff_petr.copy() \n",
        "ditub_arima = diff_itub.copy()"
      ]
    },
    {
      "cell_type": "code",
      "source": [
        "papel = ditub_arima"
      ],
      "metadata": {
        "id": "k6l4vBHidTL4"
      },
      "execution_count": 755,
      "outputs": []
    },
    {
      "cell_type": "code",
      "execution_count": 756,
      "metadata": {
        "id": "rlSG0WkgBooN",
        "colab": {
          "base_uri": "https://localhost:8080/"
        },
        "outputId": "813d6462-02a4-4272-cd16-b7c06f44a935"
      },
      "outputs": [
        {
          "output_type": "stream",
          "name": "stdout",
          "text": [
            "Performing stepwise search to minimize aic\n",
            " ARIMA(2,0,2)(0,0,0)[0] intercept   : AIC=5002.901, Time=4.90 sec\n",
            " ARIMA(0,0,0)(0,0,0)[0] intercept   : AIC=5008.267, Time=0.47 sec\n",
            " ARIMA(1,0,0)(0,0,0)[0] intercept   : AIC=5005.573, Time=0.32 sec\n",
            " ARIMA(0,0,1)(0,0,0)[0] intercept   : AIC=5005.497, Time=0.47 sec\n",
            " ARIMA(0,0,0)(0,0,0)[0]             : AIC=5006.958, Time=0.19 sec\n",
            " ARIMA(1,0,2)(0,0,0)[0] intercept   : AIC=5002.393, Time=2.94 sec\n",
            " ARIMA(0,0,2)(0,0,0)[0] intercept   : AIC=5007.080, Time=0.88 sec\n",
            " ARIMA(1,0,1)(0,0,0)[0] intercept   : AIC=5000.514, Time=2.24 sec\n",
            " ARIMA(2,0,1)(0,0,0)[0] intercept   : AIC=5002.381, Time=3.17 sec\n",
            " ARIMA(2,0,0)(0,0,0)[0] intercept   : AIC=5007.315, Time=0.58 sec\n",
            " ARIMA(1,0,1)(0,0,0)[0]             : AIC=4999.374, Time=0.69 sec\n",
            " ARIMA(0,0,1)(0,0,0)[0]             : AIC=5004.232, Time=0.21 sec\n",
            " ARIMA(1,0,0)(0,0,0)[0]             : AIC=5004.305, Time=0.50 sec\n",
            " ARIMA(2,0,1)(0,0,0)[0]             : AIC=5001.244, Time=1.23 sec\n",
            " ARIMA(1,0,2)(0,0,0)[0]             : AIC=5001.256, Time=1.00 sec\n",
            " ARIMA(0,0,2)(0,0,0)[0]             : AIC=5005.829, Time=0.40 sec\n",
            " ARIMA(2,0,0)(0,0,0)[0]             : AIC=5006.057, Time=0.29 sec\n",
            " ARIMA(2,0,2)(0,0,0)[0]             : AIC=5001.718, Time=2.01 sec\n",
            "\n",
            "Best model:  ARIMA(1,0,1)(0,0,0)[0]          \n",
            "Total fit time: 22.543 seconds\n"
          ]
        }
      ],
      "source": [
        "fit_arima = auto_arima(papel,\n",
        "                       seasonal = True, \n",
        "                       information_criterion = 'aic', \n",
        "                       trace = True, \n",
        "                       error_action = 'ignore',\n",
        "                       stepwise = True)"
      ]
    },
    {
      "cell_type": "code",
      "execution_count": 759,
      "metadata": {
        "id": "Ol6lfwhuBoQJ",
        "colab": {
          "base_uri": "https://localhost:8080/"
        },
        "outputId": "f57223df-41c0-40fd-ef47-ef36edc5fef5"
      },
      "outputs": [
        {
          "output_type": "stream",
          "name": "stdout",
          "text": [
            "1.1539876461029053\n"
          ]
        }
      ],
      "source": [
        "from statsmodels.tsa.statespace.sarimax import SARIMAX\n",
        "tempo_inicial = (time.time()) \n",
        "model = SARIMAX(papel, order=(1,0,1), seasonal_order=(0,0,0,0))\n",
        "resultado_sarimax = model.fit()\n",
        "tempo_final = (time.time())\n",
        "print(tempo_final - tempo_inicial)"
      ]
    },
    {
      "cell_type": "code",
      "execution_count": 760,
      "metadata": {
        "id": "zEcPab5oIBCE",
        "colab": {
          "base_uri": "https://localhost:8080/",
          "height": 423
        },
        "outputId": "c64cb1f6-14d2-4be4-9d8c-78e191b7b2a6"
      },
      "outputs": [
        {
          "output_type": "execute_result",
          "data": {
            "text/plain": [
              "<class 'statsmodels.iolib.summary.Summary'>\n",
              "\"\"\"\n",
              "                               SARIMAX Results                                \n",
              "==============================================================================\n",
              "Dep. Variable:                  Close   No. Observations:                 5159\n",
              "Model:               SARIMAX(1, 0, 1)   Log Likelihood               -2496.687\n",
              "Date:                Sun, 16 Oct 2022   AIC                           4999.374\n",
              "Time:                        00:53:58   BIC                           5019.020\n",
              "Sample:                             0   HQIC                          5006.249\n",
              "                               - 5159                                         \n",
              "Covariance Type:                  opg                                         \n",
              "==============================================================================\n",
              "                 coef    std err          z      P>|z|      [0.025      0.975]\n",
              "------------------------------------------------------------------------------\n",
              "ar.L1          0.6798      0.091      7.449      0.000       0.501       0.859\n",
              "ma.L1         -0.7146      0.086     -8.290      0.000      -0.884      -0.546\n",
              "sigma2         0.1541      0.001    127.738      0.000       0.152       0.156\n",
              "===================================================================================\n",
              "Ljung-Box (L1) (Q):                   0.04   Jarque-Bera (JB):             26288.41\n",
              "Prob(Q):                              0.84   Prob(JB):                         0.00\n",
              "Heteroskedasticity (H):               7.20   Skew:                            -0.53\n",
              "Prob(H) (two-sided):                  0.00   Kurtosis:                        14.01\n",
              "===================================================================================\n",
              "\n",
              "Warnings:\n",
              "[1] Covariance matrix calculated using the outer product of gradients (complex-step).\n",
              "\"\"\""
            ],
            "text/html": [
              "<table class=\"simpletable\">\n",
              "<caption>SARIMAX Results</caption>\n",
              "<tr>\n",
              "  <th>Dep. Variable:</th>         <td>Close</td>      <th>  No. Observations:  </th>   <td>5159</td>   \n",
              "</tr>\n",
              "<tr>\n",
              "  <th>Model:</th>           <td>SARIMAX(1, 0, 1)</td> <th>  Log Likelihood     </th> <td>-2496.687</td>\n",
              "</tr>\n",
              "<tr>\n",
              "  <th>Date:</th>            <td>Sun, 16 Oct 2022</td> <th>  AIC                </th> <td>4999.374</td> \n",
              "</tr>\n",
              "<tr>\n",
              "  <th>Time:</th>                <td>00:53:58</td>     <th>  BIC                </th> <td>5019.020</td> \n",
              "</tr>\n",
              "<tr>\n",
              "  <th>Sample:</th>                  <td>0</td>        <th>  HQIC               </th> <td>5006.249</td> \n",
              "</tr>\n",
              "<tr>\n",
              "  <th></th>                      <td> - 5159</td>     <th>                     </th>     <td> </td>    \n",
              "</tr>\n",
              "<tr>\n",
              "  <th>Covariance Type:</th>        <td>opg</td>       <th>                     </th>     <td> </td>    \n",
              "</tr>\n",
              "</table>\n",
              "<table class=\"simpletable\">\n",
              "<tr>\n",
              "     <td></td>       <th>coef</th>     <th>std err</th>      <th>z</th>      <th>P>|z|</th>  <th>[0.025</th>    <th>0.975]</th>  \n",
              "</tr>\n",
              "<tr>\n",
              "  <th>ar.L1</th>  <td>    0.6798</td> <td>    0.091</td> <td>    7.449</td> <td> 0.000</td> <td>    0.501</td> <td>    0.859</td>\n",
              "</tr>\n",
              "<tr>\n",
              "  <th>ma.L1</th>  <td>   -0.7146</td> <td>    0.086</td> <td>   -8.290</td> <td> 0.000</td> <td>   -0.884</td> <td>   -0.546</td>\n",
              "</tr>\n",
              "<tr>\n",
              "  <th>sigma2</th> <td>    0.1541</td> <td>    0.001</td> <td>  127.738</td> <td> 0.000</td> <td>    0.152</td> <td>    0.156</td>\n",
              "</tr>\n",
              "</table>\n",
              "<table class=\"simpletable\">\n",
              "<tr>\n",
              "  <th>Ljung-Box (L1) (Q):</th>     <td>0.04</td> <th>  Jarque-Bera (JB):  </th> <td>26288.41</td>\n",
              "</tr>\n",
              "<tr>\n",
              "  <th>Prob(Q):</th>                <td>0.84</td> <th>  Prob(JB):          </th>   <td>0.00</td>  \n",
              "</tr>\n",
              "<tr>\n",
              "  <th>Heteroskedasticity (H):</th> <td>7.20</td> <th>  Skew:              </th>   <td>-0.53</td> \n",
              "</tr>\n",
              "<tr>\n",
              "  <th>Prob(H) (two-sided):</th>    <td>0.00</td> <th>  Kurtosis:          </th>   <td>14.01</td> \n",
              "</tr>\n",
              "</table><br/><br/>Warnings:<br/>[1] Covariance matrix calculated using the outer product of gradients (complex-step)."
            ]
          },
          "metadata": {},
          "execution_count": 760
        }
      ],
      "source": [
        "resultado_sarimax.summary()"
      ]
    },
    {
      "cell_type": "code",
      "execution_count": 761,
      "metadata": {
        "id": "udpJ3TL6IEmR"
      },
      "outputs": [],
      "source": [
        "predicoes = resultado_sarimax.get_prediction(start=-1)\n",
        "predicoes_media = predicoes.predicted_mean"
      ]
    },
    {
      "cell_type": "code",
      "source": [
        "y_pred_aux = []\n",
        "for i in range(1):\n",
        "  y_pred_aux.append((resultado_sarimax.get_prediction(start=-i).predicted_mean))"
      ],
      "metadata": {
        "id": "xKkUyTZxD-9G"
      },
      "execution_count": 762,
      "outputs": []
    },
    {
      "cell_type": "code",
      "source": [
        "aux_pred = pd.DataFrame(y_pred_aux).T\n",
        "aux_pred = aux_pred.values\n",
        "y_pred = aux_pred[-257:]\n"
      ],
      "metadata": {
        "id": "kX6B7Z0VHICU"
      },
      "execution_count": 763,
      "outputs": []
    },
    {
      "cell_type": "code",
      "source": [
        "aux_true = papel.values\n",
        "y_true = aux_true[-257:]"
      ],
      "metadata": {
        "id": "zNTKMpQ7KART"
      },
      "execution_count": 764,
      "outputs": []
    },
    {
      "cell_type": "code",
      "execution_count": 765,
      "metadata": {
        "id": "hnoatLqXITJx",
        "colab": {
          "base_uri": "https://localhost:8080/"
        },
        "outputId": "6a2fed11-10f7-4aea-eaef-3e59151ac559"
      },
      "outputs": [
        {
          "output_type": "stream",
          "name": "stdout",
          "text": [
            "['ARIMA', 0.35611194460900486, 0.5387039379475671, 450300615617.88293, 46887.530502413545, 0, 0.0036193274199964875]\n"
          ]
        }
      ],
      "source": [
        "result = pd.DataFrame(columns=['Algo', 'MAE', 'RMSE', 'MAPE', 'SMAPE', 'MASE', 'R2'])\n",
        "\n",
        "result = [f'ARIMA', mean_absolute_error(y_true, y_pred), sqrt(mean_squared_error(y_true, y_pred)), mean_absolute_percentage_error(y_true, y_pred), smape(y_true, y_pred), 0 , r2_score(y_true, y_pred)]\n",
        "print(result)"
      ]
    },
    {
      "cell_type": "markdown",
      "source": [
        "### Import DATA"
      ],
      "metadata": {
        "id": "1CgBx5XjVmgd"
      }
    },
    {
      "cell_type": "code",
      "source": [
        "df_vale = yf.download('VALE3.SA', start='2002-01-01', end='2022-08-11')\n",
        "df_vale.index = pd.to_datetime(df_vale.index.date)\n",
        "df_vale.index.name = 'Date'\n",
        "df_vale = df_vale.drop(['Open', 'High', 'Low', 'Adj Close', 'Volume'], axis=1)\n",
        "df_vale.head()"
      ],
      "metadata": {
        "colab": {
          "base_uri": "https://localhost:8080/",
          "height": 255
        },
        "id": "TkX-gvpoVj7C",
        "outputId": "53a0ca56-d845-4f64-dec3-7095a821330b"
      },
      "execution_count": 149,
      "outputs": [
        {
          "output_type": "stream",
          "name": "stdout",
          "text": [
            "\r[*********************100%***********************]  1 of 1 completed\n"
          ]
        },
        {
          "output_type": "execute_result",
          "data": {
            "text/plain": [
              "               Close\n",
              "Date                \n",
              "2002-01-01  4.333333\n",
              "2002-01-02  4.250000\n",
              "2002-01-03  4.316666\n",
              "2002-01-04  4.408333\n",
              "2002-01-07  4.408333"
            ],
            "text/html": [
              "\n",
              "  <div id=\"df-438aed61-1c6c-4e26-86a7-aadcdcaea420\">\n",
              "    <div class=\"colab-df-container\">\n",
              "      <div>\n",
              "<style scoped>\n",
              "    .dataframe tbody tr th:only-of-type {\n",
              "        vertical-align: middle;\n",
              "    }\n",
              "\n",
              "    .dataframe tbody tr th {\n",
              "        vertical-align: top;\n",
              "    }\n",
              "\n",
              "    .dataframe thead th {\n",
              "        text-align: right;\n",
              "    }\n",
              "</style>\n",
              "<table border=\"1\" class=\"dataframe\">\n",
              "  <thead>\n",
              "    <tr style=\"text-align: right;\">\n",
              "      <th></th>\n",
              "      <th>Close</th>\n",
              "    </tr>\n",
              "    <tr>\n",
              "      <th>Date</th>\n",
              "      <th></th>\n",
              "    </tr>\n",
              "  </thead>\n",
              "  <tbody>\n",
              "    <tr>\n",
              "      <th>2002-01-01</th>\n",
              "      <td>4.333333</td>\n",
              "    </tr>\n",
              "    <tr>\n",
              "      <th>2002-01-02</th>\n",
              "      <td>4.250000</td>\n",
              "    </tr>\n",
              "    <tr>\n",
              "      <th>2002-01-03</th>\n",
              "      <td>4.316666</td>\n",
              "    </tr>\n",
              "    <tr>\n",
              "      <th>2002-01-04</th>\n",
              "      <td>4.408333</td>\n",
              "    </tr>\n",
              "    <tr>\n",
              "      <th>2002-01-07</th>\n",
              "      <td>4.408333</td>\n",
              "    </tr>\n",
              "  </tbody>\n",
              "</table>\n",
              "</div>\n",
              "      <button class=\"colab-df-convert\" onclick=\"convertToInteractive('df-438aed61-1c6c-4e26-86a7-aadcdcaea420')\"\n",
              "              title=\"Convert this dataframe to an interactive table.\"\n",
              "              style=\"display:none;\">\n",
              "        \n",
              "  <svg xmlns=\"http://www.w3.org/2000/svg\" height=\"24px\"viewBox=\"0 0 24 24\"\n",
              "       width=\"24px\">\n",
              "    <path d=\"M0 0h24v24H0V0z\" fill=\"none\"/>\n",
              "    <path d=\"M18.56 5.44l.94 2.06.94-2.06 2.06-.94-2.06-.94-.94-2.06-.94 2.06-2.06.94zm-11 1L8.5 8.5l.94-2.06 2.06-.94-2.06-.94L8.5 2.5l-.94 2.06-2.06.94zm10 10l.94 2.06.94-2.06 2.06-.94-2.06-.94-.94-2.06-.94 2.06-2.06.94z\"/><path d=\"M17.41 7.96l-1.37-1.37c-.4-.4-.92-.59-1.43-.59-.52 0-1.04.2-1.43.59L10.3 9.45l-7.72 7.72c-.78.78-.78 2.05 0 2.83L4 21.41c.39.39.9.59 1.41.59.51 0 1.02-.2 1.41-.59l7.78-7.78 2.81-2.81c.8-.78.8-2.07 0-2.86zM5.41 20L4 18.59l7.72-7.72 1.47 1.35L5.41 20z\"/>\n",
              "  </svg>\n",
              "      </button>\n",
              "      \n",
              "  <style>\n",
              "    .colab-df-container {\n",
              "      display:flex;\n",
              "      flex-wrap:wrap;\n",
              "      gap: 12px;\n",
              "    }\n",
              "\n",
              "    .colab-df-convert {\n",
              "      background-color: #E8F0FE;\n",
              "      border: none;\n",
              "      border-radius: 50%;\n",
              "      cursor: pointer;\n",
              "      display: none;\n",
              "      fill: #1967D2;\n",
              "      height: 32px;\n",
              "      padding: 0 0 0 0;\n",
              "      width: 32px;\n",
              "    }\n",
              "\n",
              "    .colab-df-convert:hover {\n",
              "      background-color: #E2EBFA;\n",
              "      box-shadow: 0px 1px 2px rgba(60, 64, 67, 0.3), 0px 1px 3px 1px rgba(60, 64, 67, 0.15);\n",
              "      fill: #174EA6;\n",
              "    }\n",
              "\n",
              "    [theme=dark] .colab-df-convert {\n",
              "      background-color: #3B4455;\n",
              "      fill: #D2E3FC;\n",
              "    }\n",
              "\n",
              "    [theme=dark] .colab-df-convert:hover {\n",
              "      background-color: #434B5C;\n",
              "      box-shadow: 0px 1px 3px 1px rgba(0, 0, 0, 0.15);\n",
              "      filter: drop-shadow(0px 1px 2px rgba(0, 0, 0, 0.3));\n",
              "      fill: #FFFFFF;\n",
              "    }\n",
              "  </style>\n",
              "\n",
              "      <script>\n",
              "        const buttonEl =\n",
              "          document.querySelector('#df-438aed61-1c6c-4e26-86a7-aadcdcaea420 button.colab-df-convert');\n",
              "        buttonEl.style.display =\n",
              "          google.colab.kernel.accessAllowed ? 'block' : 'none';\n",
              "\n",
              "        async function convertToInteractive(key) {\n",
              "          const element = document.querySelector('#df-438aed61-1c6c-4e26-86a7-aadcdcaea420');\n",
              "          const dataTable =\n",
              "            await google.colab.kernel.invokeFunction('convertToInteractive',\n",
              "                                                     [key], {});\n",
              "          if (!dataTable) return;\n",
              "\n",
              "          const docLinkHtml = 'Like what you see? Visit the ' +\n",
              "            '<a target=\"_blank\" href=https://colab.research.google.com/notebooks/data_table.ipynb>data table notebook</a>'\n",
              "            + ' to learn more about interactive tables.';\n",
              "          element.innerHTML = '';\n",
              "          dataTable['output_type'] = 'display_data';\n",
              "          await google.colab.output.renderOutput(dataTable, element);\n",
              "          const docLink = document.createElement('div');\n",
              "          docLink.innerHTML = docLinkHtml;\n",
              "          element.appendChild(docLink);\n",
              "        }\n",
              "      </script>\n",
              "    </div>\n",
              "  </div>\n",
              "  "
            ]
          },
          "metadata": {},
          "execution_count": 149
        }
      ]
    },
    {
      "cell_type": "code",
      "source": [
        "df_petr = yf.download('PETR4.SA', start='2002-01-01', end='2022-08-11')\n",
        "df_petr.index = pd.to_datetime(df_petr.index.date)\n",
        "df_petr.index.name = 'Date'\n",
        "df_petr = df_petr.drop(['Open', 'High', 'Low', 'Adj Close', 'Volume'], axis=1)\n",
        "df_petr.head()"
      ],
      "metadata": {
        "colab": {
          "base_uri": "https://localhost:8080/",
          "height": 255
        },
        "id": "h-dk1uX0WBBC",
        "outputId": "99343f30-d00c-434d-b67d-40072373b820"
      },
      "execution_count": 150,
      "outputs": [
        {
          "output_type": "stream",
          "name": "stdout",
          "text": [
            "\r[*********************100%***********************]  1 of 1 completed\n"
          ]
        },
        {
          "output_type": "execute_result",
          "data": {
            "text/plain": [
              "              Close\n",
              "Date               \n",
              "2002-01-01  6.39375\n",
              "2002-01-02  6.40625\n",
              "2002-01-03  6.45000\n",
              "2002-01-04  6.41000\n",
              "2002-01-07  6.55000"
            ],
            "text/html": [
              "\n",
              "  <div id=\"df-ed8b8a3f-424d-4494-bcd3-a64342a8ca1f\">\n",
              "    <div class=\"colab-df-container\">\n",
              "      <div>\n",
              "<style scoped>\n",
              "    .dataframe tbody tr th:only-of-type {\n",
              "        vertical-align: middle;\n",
              "    }\n",
              "\n",
              "    .dataframe tbody tr th {\n",
              "        vertical-align: top;\n",
              "    }\n",
              "\n",
              "    .dataframe thead th {\n",
              "        text-align: right;\n",
              "    }\n",
              "</style>\n",
              "<table border=\"1\" class=\"dataframe\">\n",
              "  <thead>\n",
              "    <tr style=\"text-align: right;\">\n",
              "      <th></th>\n",
              "      <th>Close</th>\n",
              "    </tr>\n",
              "    <tr>\n",
              "      <th>Date</th>\n",
              "      <th></th>\n",
              "    </tr>\n",
              "  </thead>\n",
              "  <tbody>\n",
              "    <tr>\n",
              "      <th>2002-01-01</th>\n",
              "      <td>6.39375</td>\n",
              "    </tr>\n",
              "    <tr>\n",
              "      <th>2002-01-02</th>\n",
              "      <td>6.40625</td>\n",
              "    </tr>\n",
              "    <tr>\n",
              "      <th>2002-01-03</th>\n",
              "      <td>6.45000</td>\n",
              "    </tr>\n",
              "    <tr>\n",
              "      <th>2002-01-04</th>\n",
              "      <td>6.41000</td>\n",
              "    </tr>\n",
              "    <tr>\n",
              "      <th>2002-01-07</th>\n",
              "      <td>6.55000</td>\n",
              "    </tr>\n",
              "  </tbody>\n",
              "</table>\n",
              "</div>\n",
              "      <button class=\"colab-df-convert\" onclick=\"convertToInteractive('df-ed8b8a3f-424d-4494-bcd3-a64342a8ca1f')\"\n",
              "              title=\"Convert this dataframe to an interactive table.\"\n",
              "              style=\"display:none;\">\n",
              "        \n",
              "  <svg xmlns=\"http://www.w3.org/2000/svg\" height=\"24px\"viewBox=\"0 0 24 24\"\n",
              "       width=\"24px\">\n",
              "    <path d=\"M0 0h24v24H0V0z\" fill=\"none\"/>\n",
              "    <path d=\"M18.56 5.44l.94 2.06.94-2.06 2.06-.94-2.06-.94-.94-2.06-.94 2.06-2.06.94zm-11 1L8.5 8.5l.94-2.06 2.06-.94-2.06-.94L8.5 2.5l-.94 2.06-2.06.94zm10 10l.94 2.06.94-2.06 2.06-.94-2.06-.94-.94-2.06-.94 2.06-2.06.94z\"/><path d=\"M17.41 7.96l-1.37-1.37c-.4-.4-.92-.59-1.43-.59-.52 0-1.04.2-1.43.59L10.3 9.45l-7.72 7.72c-.78.78-.78 2.05 0 2.83L4 21.41c.39.39.9.59 1.41.59.51 0 1.02-.2 1.41-.59l7.78-7.78 2.81-2.81c.8-.78.8-2.07 0-2.86zM5.41 20L4 18.59l7.72-7.72 1.47 1.35L5.41 20z\"/>\n",
              "  </svg>\n",
              "      </button>\n",
              "      \n",
              "  <style>\n",
              "    .colab-df-container {\n",
              "      display:flex;\n",
              "      flex-wrap:wrap;\n",
              "      gap: 12px;\n",
              "    }\n",
              "\n",
              "    .colab-df-convert {\n",
              "      background-color: #E8F0FE;\n",
              "      border: none;\n",
              "      border-radius: 50%;\n",
              "      cursor: pointer;\n",
              "      display: none;\n",
              "      fill: #1967D2;\n",
              "      height: 32px;\n",
              "      padding: 0 0 0 0;\n",
              "      width: 32px;\n",
              "    }\n",
              "\n",
              "    .colab-df-convert:hover {\n",
              "      background-color: #E2EBFA;\n",
              "      box-shadow: 0px 1px 2px rgba(60, 64, 67, 0.3), 0px 1px 3px 1px rgba(60, 64, 67, 0.15);\n",
              "      fill: #174EA6;\n",
              "    }\n",
              "\n",
              "    [theme=dark] .colab-df-convert {\n",
              "      background-color: #3B4455;\n",
              "      fill: #D2E3FC;\n",
              "    }\n",
              "\n",
              "    [theme=dark] .colab-df-convert:hover {\n",
              "      background-color: #434B5C;\n",
              "      box-shadow: 0px 1px 3px 1px rgba(0, 0, 0, 0.15);\n",
              "      filter: drop-shadow(0px 1px 2px rgba(0, 0, 0, 0.3));\n",
              "      fill: #FFFFFF;\n",
              "    }\n",
              "  </style>\n",
              "\n",
              "      <script>\n",
              "        const buttonEl =\n",
              "          document.querySelector('#df-ed8b8a3f-424d-4494-bcd3-a64342a8ca1f button.colab-df-convert');\n",
              "        buttonEl.style.display =\n",
              "          google.colab.kernel.accessAllowed ? 'block' : 'none';\n",
              "\n",
              "        async function convertToInteractive(key) {\n",
              "          const element = document.querySelector('#df-ed8b8a3f-424d-4494-bcd3-a64342a8ca1f');\n",
              "          const dataTable =\n",
              "            await google.colab.kernel.invokeFunction('convertToInteractive',\n",
              "                                                     [key], {});\n",
              "          if (!dataTable) return;\n",
              "\n",
              "          const docLinkHtml = 'Like what you see? Visit the ' +\n",
              "            '<a target=\"_blank\" href=https://colab.research.google.com/notebooks/data_table.ipynb>data table notebook</a>'\n",
              "            + ' to learn more about interactive tables.';\n",
              "          element.innerHTML = '';\n",
              "          dataTable['output_type'] = 'display_data';\n",
              "          await google.colab.output.renderOutput(dataTable, element);\n",
              "          const docLink = document.createElement('div');\n",
              "          docLink.innerHTML = docLinkHtml;\n",
              "          element.appendChild(docLink);\n",
              "        }\n",
              "      </script>\n",
              "    </div>\n",
              "  </div>\n",
              "  "
            ]
          },
          "metadata": {},
          "execution_count": 150
        }
      ]
    },
    {
      "cell_type": "code",
      "source": [
        "df_itub = yf.download('ITUB4.SA', start='2002-01-01', end='2022-08-11')\n",
        "df_itub.index = pd.to_datetime(df_itub.index.date)\n",
        "df_itub.index.name = 'Date'\n",
        "df_itub = df_itub.drop(['Open', 'High', 'Low', 'Adj Close', 'Volume'], axis=1)\n",
        "df_itub.head()"
      ],
      "metadata": {
        "colab": {
          "base_uri": "https://localhost:8080/",
          "height": 255
        },
        "id": "djc6na_9WTqQ",
        "outputId": "12d2ef98-2a9e-4959-a77c-3d4387ed7525"
      },
      "execution_count": 151,
      "outputs": [
        {
          "output_type": "stream",
          "name": "stdout",
          "text": [
            "\r[*********************100%***********************]  1 of 1 completed\n"
          ]
        },
        {
          "output_type": "execute_result",
          "data": {
            "text/plain": [
              "               Close\n",
              "Date                \n",
              "2002-01-01  2.914025\n",
              "2002-01-02  3.046653\n",
              "2002-01-03  3.013372\n",
              "2002-01-04  2.963864\n",
              "2002-01-07  2.930914"
            ],
            "text/html": [
              "\n",
              "  <div id=\"df-2de8c2ee-5113-449e-a22d-f6e60ba2f4f9\">\n",
              "    <div class=\"colab-df-container\">\n",
              "      <div>\n",
              "<style scoped>\n",
              "    .dataframe tbody tr th:only-of-type {\n",
              "        vertical-align: middle;\n",
              "    }\n",
              "\n",
              "    .dataframe tbody tr th {\n",
              "        vertical-align: top;\n",
              "    }\n",
              "\n",
              "    .dataframe thead th {\n",
              "        text-align: right;\n",
              "    }\n",
              "</style>\n",
              "<table border=\"1\" class=\"dataframe\">\n",
              "  <thead>\n",
              "    <tr style=\"text-align: right;\">\n",
              "      <th></th>\n",
              "      <th>Close</th>\n",
              "    </tr>\n",
              "    <tr>\n",
              "      <th>Date</th>\n",
              "      <th></th>\n",
              "    </tr>\n",
              "  </thead>\n",
              "  <tbody>\n",
              "    <tr>\n",
              "      <th>2002-01-01</th>\n",
              "      <td>2.914025</td>\n",
              "    </tr>\n",
              "    <tr>\n",
              "      <th>2002-01-02</th>\n",
              "      <td>3.046653</td>\n",
              "    </tr>\n",
              "    <tr>\n",
              "      <th>2002-01-03</th>\n",
              "      <td>3.013372</td>\n",
              "    </tr>\n",
              "    <tr>\n",
              "      <th>2002-01-04</th>\n",
              "      <td>2.963864</td>\n",
              "    </tr>\n",
              "    <tr>\n",
              "      <th>2002-01-07</th>\n",
              "      <td>2.930914</td>\n",
              "    </tr>\n",
              "  </tbody>\n",
              "</table>\n",
              "</div>\n",
              "      <button class=\"colab-df-convert\" onclick=\"convertToInteractive('df-2de8c2ee-5113-449e-a22d-f6e60ba2f4f9')\"\n",
              "              title=\"Convert this dataframe to an interactive table.\"\n",
              "              style=\"display:none;\">\n",
              "        \n",
              "  <svg xmlns=\"http://www.w3.org/2000/svg\" height=\"24px\"viewBox=\"0 0 24 24\"\n",
              "       width=\"24px\">\n",
              "    <path d=\"M0 0h24v24H0V0z\" fill=\"none\"/>\n",
              "    <path d=\"M18.56 5.44l.94 2.06.94-2.06 2.06-.94-2.06-.94-.94-2.06-.94 2.06-2.06.94zm-11 1L8.5 8.5l.94-2.06 2.06-.94-2.06-.94L8.5 2.5l-.94 2.06-2.06.94zm10 10l.94 2.06.94-2.06 2.06-.94-2.06-.94-.94-2.06-.94 2.06-2.06.94z\"/><path d=\"M17.41 7.96l-1.37-1.37c-.4-.4-.92-.59-1.43-.59-.52 0-1.04.2-1.43.59L10.3 9.45l-7.72 7.72c-.78.78-.78 2.05 0 2.83L4 21.41c.39.39.9.59 1.41.59.51 0 1.02-.2 1.41-.59l7.78-7.78 2.81-2.81c.8-.78.8-2.07 0-2.86zM5.41 20L4 18.59l7.72-7.72 1.47 1.35L5.41 20z\"/>\n",
              "  </svg>\n",
              "      </button>\n",
              "      \n",
              "  <style>\n",
              "    .colab-df-container {\n",
              "      display:flex;\n",
              "      flex-wrap:wrap;\n",
              "      gap: 12px;\n",
              "    }\n",
              "\n",
              "    .colab-df-convert {\n",
              "      background-color: #E8F0FE;\n",
              "      border: none;\n",
              "      border-radius: 50%;\n",
              "      cursor: pointer;\n",
              "      display: none;\n",
              "      fill: #1967D2;\n",
              "      height: 32px;\n",
              "      padding: 0 0 0 0;\n",
              "      width: 32px;\n",
              "    }\n",
              "\n",
              "    .colab-df-convert:hover {\n",
              "      background-color: #E2EBFA;\n",
              "      box-shadow: 0px 1px 2px rgba(60, 64, 67, 0.3), 0px 1px 3px 1px rgba(60, 64, 67, 0.15);\n",
              "      fill: #174EA6;\n",
              "    }\n",
              "\n",
              "    [theme=dark] .colab-df-convert {\n",
              "      background-color: #3B4455;\n",
              "      fill: #D2E3FC;\n",
              "    }\n",
              "\n",
              "    [theme=dark] .colab-df-convert:hover {\n",
              "      background-color: #434B5C;\n",
              "      box-shadow: 0px 1px 3px 1px rgba(0, 0, 0, 0.15);\n",
              "      filter: drop-shadow(0px 1px 2px rgba(0, 0, 0, 0.3));\n",
              "      fill: #FFFFFF;\n",
              "    }\n",
              "  </style>\n",
              "\n",
              "      <script>\n",
              "        const buttonEl =\n",
              "          document.querySelector('#df-2de8c2ee-5113-449e-a22d-f6e60ba2f4f9 button.colab-df-convert');\n",
              "        buttonEl.style.display =\n",
              "          google.colab.kernel.accessAllowed ? 'block' : 'none';\n",
              "\n",
              "        async function convertToInteractive(key) {\n",
              "          const element = document.querySelector('#df-2de8c2ee-5113-449e-a22d-f6e60ba2f4f9');\n",
              "          const dataTable =\n",
              "            await google.colab.kernel.invokeFunction('convertToInteractive',\n",
              "                                                     [key], {});\n",
              "          if (!dataTable) return;\n",
              "\n",
              "          const docLinkHtml = 'Like what you see? Visit the ' +\n",
              "            '<a target=\"_blank\" href=https://colab.research.google.com/notebooks/data_table.ipynb>data table notebook</a>'\n",
              "            + ' to learn more about interactive tables.';\n",
              "          element.innerHTML = '';\n",
              "          dataTable['output_type'] = 'display_data';\n",
              "          await google.colab.output.renderOutput(dataTable, element);\n",
              "          const docLink = document.createElement('div');\n",
              "          docLink.innerHTML = docLinkHtml;\n",
              "          element.appendChild(docLink);\n",
              "        }\n",
              "      </script>\n",
              "    </div>\n",
              "  </div>\n",
              "  "
            ]
          },
          "metadata": {},
          "execution_count": 151
        }
      ]
    },
    {
      "cell_type": "markdown",
      "metadata": {
        "id": "kUuSgzHtJmsH"
      },
      "source": [
        "### Regressão\n"
      ]
    },
    {
      "cell_type": "code",
      "execution_count": 152,
      "metadata": {
        "id": "dYSRvm6gVAPg"
      },
      "outputs": [],
      "source": [
        "from sklearn.linear_model import LinearRegression\n",
        "from warnings import simplefilter\n",
        "from sklearn.metrics import mean_squared_error\n",
        "from sklearn.model_selection import train_test_split\n",
        "from xgboost import XGBRegressor\n",
        "import matplotlib.pyplot as plt\n",
        "import numpy as np\n",
        "import pandas as pd\n"
      ]
    },
    {
      "cell_type": "code",
      "execution_count": 228,
      "metadata": {
        "id": "QfmCOCMeJrSP"
      },
      "outputs": [],
      "source": [
        "#df_vale\n",
        "#diff_vale = pd.DataFrame(df_vale['Close'].diff().dropna())\n",
        "#df_petr\n",
        "#diff_petr = pd.DataFrame(df_petr['Close'].diff().dropna())\n",
        "#df_itub\n",
        "#diff_itub = pd.DataFrame(df_itub['Close'].diff().dropna())\n",
        "\n",
        "data =  pd.DataFrame(df_itub['Close'].diff().dropna())"
      ]
    },
    {
      "cell_type": "code",
      "source": [
        "def split_data(data, split_date):\n",
        "  return data[data.index <= split_date].copy(), data[data.index > split_date].copy()\n"
      ],
      "metadata": {
        "id": "jmUAjAC_S6vH"
      },
      "execution_count": 229,
      "outputs": []
    },
    {
      "cell_type": "code",
      "execution_count": 230,
      "metadata": {
        "id": "APOas9kne1ku"
      },
      "outputs": [],
      "source": [
        "data['Time'] = np.arange(len(data.index))\n",
        "\n",
        "data['Lag_1'] = data['Close'].shift(1)\n",
        "\n",
        "X = data.loc[:, ['Lag_1']]\n",
        "X.dropna(inplace = True)\n",
        "y = data.loc[:, 'Close']\n",
        "y, X = y.align(X, join = 'inner')\n",
        "\n",
        "X_train, X_test = split_data(X, '2021-07-30')\n",
        "y_train, y_test = split_data(y, '2021-07-30')"
      ]
    },
    {
      "cell_type": "code",
      "source": [
        "len(y_test)"
      ],
      "metadata": {
        "colab": {
          "base_uri": "https://localhost:8080/"
        },
        "id": "iEZqZc3MDMYL",
        "outputId": "621c690c-c4a4-488f-a4c1-ed48a43ebc2a"
      },
      "execution_count": 553,
      "outputs": [
        {
          "output_type": "execute_result",
          "data": {
            "text/plain": [
              "257"
            ]
          },
          "metadata": {},
          "execution_count": 553
        }
      ]
    },
    {
      "cell_type": "code",
      "source": [
        "#%%time\n",
        "tempo_inicial = (time.time()) \n",
        "model = LinearRegression()\n",
        "model.fit(X_train, y_train)\n",
        "tempo_final = (time.time())\n",
        "print(tempo_final - tempo_inicial)"
      ],
      "metadata": {
        "colab": {
          "base_uri": "https://localhost:8080/"
        },
        "id": "YCFVzA1Woqzq",
        "outputId": "6edbc526-eb4e-4bc3-fb8d-cf8cc9d7b72f"
      },
      "execution_count": 231,
      "outputs": [
        {
          "output_type": "stream",
          "name": "stdout",
          "text": [
            "0.00289154052734375\n"
          ]
        }
      ]
    },
    {
      "cell_type": "code",
      "source": [
        "y_pred = pd.Series(model.predict(X_test), index = X_test.index)"
      ],
      "metadata": {
        "id": "6_NnvBXDoxgF"
      },
      "execution_count": 232,
      "outputs": []
    },
    {
      "cell_type": "code",
      "execution_count": 233,
      "metadata": {
        "id": "nxAwatHrUEUK",
        "colab": {
          "base_uri": "https://localhost:8080/",
          "height": 81
        },
        "outputId": "3878aac4-88f6-4643-b55a-9f34892e384c"
      },
      "outputs": [
        {
          "output_type": "execute_result",
          "data": {
            "text/plain": [
              "  Algo       MAE      RMSE          MAPE       SMAPE MASE        R2\n",
              "0   RL  0.354331  0.538794  2.920202e+11  190.146154    0  0.003285"
            ],
            "text/html": [
              "\n",
              "  <div id=\"df-e38dcf8a-d67c-4a7d-a96d-65dc8ada9587\">\n",
              "    <div class=\"colab-df-container\">\n",
              "      <div>\n",
              "<style scoped>\n",
              "    .dataframe tbody tr th:only-of-type {\n",
              "        vertical-align: middle;\n",
              "    }\n",
              "\n",
              "    .dataframe tbody tr th {\n",
              "        vertical-align: top;\n",
              "    }\n",
              "\n",
              "    .dataframe thead th {\n",
              "        text-align: right;\n",
              "    }\n",
              "</style>\n",
              "<table border=\"1\" class=\"dataframe\">\n",
              "  <thead>\n",
              "    <tr style=\"text-align: right;\">\n",
              "      <th></th>\n",
              "      <th>Algo</th>\n",
              "      <th>MAE</th>\n",
              "      <th>RMSE</th>\n",
              "      <th>MAPE</th>\n",
              "      <th>SMAPE</th>\n",
              "      <th>MASE</th>\n",
              "      <th>R2</th>\n",
              "    </tr>\n",
              "  </thead>\n",
              "  <tbody>\n",
              "    <tr>\n",
              "      <th>0</th>\n",
              "      <td>RL</td>\n",
              "      <td>0.354331</td>\n",
              "      <td>0.538794</td>\n",
              "      <td>2.920202e+11</td>\n",
              "      <td>190.146154</td>\n",
              "      <td>0</td>\n",
              "      <td>0.003285</td>\n",
              "    </tr>\n",
              "  </tbody>\n",
              "</table>\n",
              "</div>\n",
              "      <button class=\"colab-df-convert\" onclick=\"convertToInteractive('df-e38dcf8a-d67c-4a7d-a96d-65dc8ada9587')\"\n",
              "              title=\"Convert this dataframe to an interactive table.\"\n",
              "              style=\"display:none;\">\n",
              "        \n",
              "  <svg xmlns=\"http://www.w3.org/2000/svg\" height=\"24px\"viewBox=\"0 0 24 24\"\n",
              "       width=\"24px\">\n",
              "    <path d=\"M0 0h24v24H0V0z\" fill=\"none\"/>\n",
              "    <path d=\"M18.56 5.44l.94 2.06.94-2.06 2.06-.94-2.06-.94-.94-2.06-.94 2.06-2.06.94zm-11 1L8.5 8.5l.94-2.06 2.06-.94-2.06-.94L8.5 2.5l-.94 2.06-2.06.94zm10 10l.94 2.06.94-2.06 2.06-.94-2.06-.94-.94-2.06-.94 2.06-2.06.94z\"/><path d=\"M17.41 7.96l-1.37-1.37c-.4-.4-.92-.59-1.43-.59-.52 0-1.04.2-1.43.59L10.3 9.45l-7.72 7.72c-.78.78-.78 2.05 0 2.83L4 21.41c.39.39.9.59 1.41.59.51 0 1.02-.2 1.41-.59l7.78-7.78 2.81-2.81c.8-.78.8-2.07 0-2.86zM5.41 20L4 18.59l7.72-7.72 1.47 1.35L5.41 20z\"/>\n",
              "  </svg>\n",
              "      </button>\n",
              "      \n",
              "  <style>\n",
              "    .colab-df-container {\n",
              "      display:flex;\n",
              "      flex-wrap:wrap;\n",
              "      gap: 12px;\n",
              "    }\n",
              "\n",
              "    .colab-df-convert {\n",
              "      background-color: #E8F0FE;\n",
              "      border: none;\n",
              "      border-radius: 50%;\n",
              "      cursor: pointer;\n",
              "      display: none;\n",
              "      fill: #1967D2;\n",
              "      height: 32px;\n",
              "      padding: 0 0 0 0;\n",
              "      width: 32px;\n",
              "    }\n",
              "\n",
              "    .colab-df-convert:hover {\n",
              "      background-color: #E2EBFA;\n",
              "      box-shadow: 0px 1px 2px rgba(60, 64, 67, 0.3), 0px 1px 3px 1px rgba(60, 64, 67, 0.15);\n",
              "      fill: #174EA6;\n",
              "    }\n",
              "\n",
              "    [theme=dark] .colab-df-convert {\n",
              "      background-color: #3B4455;\n",
              "      fill: #D2E3FC;\n",
              "    }\n",
              "\n",
              "    [theme=dark] .colab-df-convert:hover {\n",
              "      background-color: #434B5C;\n",
              "      box-shadow: 0px 1px 3px 1px rgba(0, 0, 0, 0.15);\n",
              "      filter: drop-shadow(0px 1px 2px rgba(0, 0, 0, 0.3));\n",
              "      fill: #FFFFFF;\n",
              "    }\n",
              "  </style>\n",
              "\n",
              "      <script>\n",
              "        const buttonEl =\n",
              "          document.querySelector('#df-e38dcf8a-d67c-4a7d-a96d-65dc8ada9587 button.colab-df-convert');\n",
              "        buttonEl.style.display =\n",
              "          google.colab.kernel.accessAllowed ? 'block' : 'none';\n",
              "\n",
              "        async function convertToInteractive(key) {\n",
              "          const element = document.querySelector('#df-e38dcf8a-d67c-4a7d-a96d-65dc8ada9587');\n",
              "          const dataTable =\n",
              "            await google.colab.kernel.invokeFunction('convertToInteractive',\n",
              "                                                     [key], {});\n",
              "          if (!dataTable) return;\n",
              "\n",
              "          const docLinkHtml = 'Like what you see? Visit the ' +\n",
              "            '<a target=\"_blank\" href=https://colab.research.google.com/notebooks/data_table.ipynb>data table notebook</a>'\n",
              "            + ' to learn more about interactive tables.';\n",
              "          element.innerHTML = '';\n",
              "          dataTable['output_type'] = 'display_data';\n",
              "          await google.colab.output.renderOutput(dataTable, element);\n",
              "          const docLink = document.createElement('div');\n",
              "          docLink.innerHTML = docLinkHtml;\n",
              "          element.appendChild(docLink);\n",
              "        }\n",
              "      </script>\n",
              "    </div>\n",
              "  </div>\n",
              "  "
            ]
          },
          "metadata": {},
          "execution_count": 233
        }
      ],
      "source": [
        "result = pd.DataFrame(columns=['Algo', 'MAE', 'RMSE', 'MAPE', 'SMAPE', 'MASE', 'R2'])\n",
        "for i in range(1):\n",
        "  y_true = y_test\n",
        "  y_pred = y_pred\n",
        "  result.loc[i] = [f'RL', mean_absolute_error(y_true, y_pred), sqrt(mean_squared_error(y_true, y_pred)), mean_absolute_percentage_error(y_true, y_pred), smape(y_true, y_pred), 0, r2_score(y_true, y_pred)]\n",
        "result"
      ]
    },
    {
      "cell_type": "markdown",
      "metadata": {
        "id": "OZk9gvX6-Oqw"
      },
      "source": [
        "### Random Forest\n"
      ]
    },
    {
      "cell_type": "code",
      "source": [
        "df_vale = yf.download('VALE3.SA', start='2002-01-01', end='2022-08-11')\n",
        "df_vale.index = pd.to_datetime(df_vale.index.date)\n",
        "df_vale.index.name = 'Date'\n",
        "df_vale = df_vale.drop(['Open', 'High', 'Low', 'Adj Close', 'Volume'], axis=1)\n",
        "\n",
        "df_petr = yf.download('PETR4.SA', start='2002-01-01', end='2022-08-11')\n",
        "df_petr.index = pd.to_datetime(df_petr.index.date)\n",
        "df_petr.index.name = 'Date'\n",
        "df_petr = df_petr.drop(['Open', 'High', 'Low', 'Adj Close', 'Volume'], axis=1)\n",
        "\n",
        "df_itub = yf.download('ITUB4.SA', start='2002-01-01', end='2022-08-11')\n",
        "df_itub.index = pd.to_datetime(df_itub.index.date)\n",
        "df_itub.index.name = 'Date'\n",
        "df_itub = df_itub.drop(['Open', 'High', 'Low', 'Adj Close', 'Volume'], axis=1)\n",
        "\n",
        "# Diferença entre t e (t + 1)\n",
        "diff_vale = pd.DataFrame(df_vale['Close'].diff().dropna())\n",
        "diff_petr = pd.DataFrame(df_petr['Close'].diff().dropna())\n",
        "diff_itub = pd.DataFrame(df_itub['Close'].diff().dropna())"
      ],
      "metadata": {
        "colab": {
          "base_uri": "https://localhost:8080/"
        },
        "id": "bMF1q1cnXAsY",
        "outputId": "7d66c4c3-6d96-4162-f257-47af116b5e08"
      },
      "execution_count": 234,
      "outputs": [
        {
          "output_type": "stream",
          "name": "stdout",
          "text": [
            "[*********************100%***********************]  1 of 1 completed\n",
            "[*********************100%***********************]  1 of 1 completed\n",
            "[*********************100%***********************]  1 of 1 completed\n"
          ]
        }
      ]
    },
    {
      "cell_type": "code",
      "source": [
        "data = pd.DataFrame(df_itub['Close'].diff().dropna())"
      ],
      "metadata": {
        "id": "7VdYvi0wXHsZ"
      },
      "execution_count": 243,
      "outputs": []
    },
    {
      "cell_type": "code",
      "source": [
        "def split_data(data, split_date):\n",
        "  return data[data.index <= split_date].copy(), data[data.index > split_date].copy()\n"
      ],
      "metadata": {
        "id": "HHS2ATjwXOIW"
      },
      "execution_count": 244,
      "outputs": []
    },
    {
      "cell_type": "code",
      "source": [
        "data['Time'] = np.arange(len(data.index))\n",
        "data['Lag_1'] = data['Close'].shift(1)"
      ],
      "metadata": {
        "id": "Gz9YgUYxXTe7"
      },
      "execution_count": 245,
      "outputs": []
    },
    {
      "cell_type": "code",
      "source": [
        "data.dropna(inplace = True)"
      ],
      "metadata": {
        "id": "uHESvgFbYcrz"
      },
      "execution_count": 246,
      "outputs": []
    },
    {
      "cell_type": "code",
      "source": [
        "X = data.drop(['Close', 'Time'], axis=1)\n",
        "y = data.drop(['Lag_1', 'Time'], axis=1)"
      ],
      "metadata": {
        "id": "RQoygeeoZfPq"
      },
      "execution_count": 247,
      "outputs": []
    },
    {
      "cell_type": "code",
      "source": [
        "X_train, X_test = split_data(X, '2021-07-30')\n",
        "y_train, y_test = split_data(y, '2021-07-30')"
      ],
      "metadata": {
        "id": "d_WyusCAYJO0"
      },
      "execution_count": 248,
      "outputs": []
    },
    {
      "cell_type": "code",
      "execution_count": 249,
      "metadata": {
        "id": "jhnsoWYcViF2",
        "colab": {
          "base_uri": "https://localhost:8080/"
        },
        "outputId": "c55b362d-97d2-4ab1-9388-9c1a4323cc5e"
      },
      "outputs": [
        {
          "output_type": "stream",
          "name": "stdout",
          "text": [
            "0.9397633075714111\n"
          ]
        }
      ],
      "source": [
        "from sklearn.ensemble import RandomForestRegressor\n",
        "\n",
        "tempo_inicial = (time.time()) \n",
        "model = model = RandomForestRegressor()\n",
        "model.fit(X_train, y_train)\n",
        "tempo_final = (time.time())\n",
        "print(tempo_final - tempo_inicial)\n",
        "\n",
        "y_fit = pd.DataFrame(model.predict(X_train), index=X_train.index, columns=y.columns)\n",
        "y_pred = pd.DataFrame(model.predict(X_test), index=X_test.index, columns=y.columns)"
      ]
    },
    {
      "cell_type": "code",
      "execution_count": 250,
      "metadata": {
        "id": "SBS8b1yrWOtb",
        "colab": {
          "base_uri": "https://localhost:8080/",
          "height": 142
        },
        "outputId": "cea9df41-78a2-4158-b3dd-6b296141b863"
      },
      "outputs": [
        {
          "output_type": "execute_result",
          "data": {
            "text/plain": [
              "  Algo       MAE      RMSE          MAPE                               SMAPE  \\\n",
              "0  RFR  0.472868  0.642121  1.602523e+13  Close    160.339389\n",
              "dtype: float64   \n",
              "\n",
              "                               MASE        R2  \n",
              "0  Close    1.285921\n",
              "dtype: float64 -0.415661  "
            ],
            "text/html": [
              "\n",
              "  <div id=\"df-1df2943d-3597-42b2-9090-a6c14c1c6c53\">\n",
              "    <div class=\"colab-df-container\">\n",
              "      <div>\n",
              "<style scoped>\n",
              "    .dataframe tbody tr th:only-of-type {\n",
              "        vertical-align: middle;\n",
              "    }\n",
              "\n",
              "    .dataframe tbody tr th {\n",
              "        vertical-align: top;\n",
              "    }\n",
              "\n",
              "    .dataframe thead th {\n",
              "        text-align: right;\n",
              "    }\n",
              "</style>\n",
              "<table border=\"1\" class=\"dataframe\">\n",
              "  <thead>\n",
              "    <tr style=\"text-align: right;\">\n",
              "      <th></th>\n",
              "      <th>Algo</th>\n",
              "      <th>MAE</th>\n",
              "      <th>RMSE</th>\n",
              "      <th>MAPE</th>\n",
              "      <th>SMAPE</th>\n",
              "      <th>MASE</th>\n",
              "      <th>R2</th>\n",
              "    </tr>\n",
              "  </thead>\n",
              "  <tbody>\n",
              "    <tr>\n",
              "      <th>0</th>\n",
              "      <td>RFR</td>\n",
              "      <td>0.472868</td>\n",
              "      <td>0.642121</td>\n",
              "      <td>1.602523e+13</td>\n",
              "      <td>Close    160.339389\n",
              "dtype: float64</td>\n",
              "      <td>Close    1.285921\n",
              "dtype: float64</td>\n",
              "      <td>-0.415661</td>\n",
              "    </tr>\n",
              "  </tbody>\n",
              "</table>\n",
              "</div>\n",
              "      <button class=\"colab-df-convert\" onclick=\"convertToInteractive('df-1df2943d-3597-42b2-9090-a6c14c1c6c53')\"\n",
              "              title=\"Convert this dataframe to an interactive table.\"\n",
              "              style=\"display:none;\">\n",
              "        \n",
              "  <svg xmlns=\"http://www.w3.org/2000/svg\" height=\"24px\"viewBox=\"0 0 24 24\"\n",
              "       width=\"24px\">\n",
              "    <path d=\"M0 0h24v24H0V0z\" fill=\"none\"/>\n",
              "    <path d=\"M18.56 5.44l.94 2.06.94-2.06 2.06-.94-2.06-.94-.94-2.06-.94 2.06-2.06.94zm-11 1L8.5 8.5l.94-2.06 2.06-.94-2.06-.94L8.5 2.5l-.94 2.06-2.06.94zm10 10l.94 2.06.94-2.06 2.06-.94-2.06-.94-.94-2.06-.94 2.06-2.06.94z\"/><path d=\"M17.41 7.96l-1.37-1.37c-.4-.4-.92-.59-1.43-.59-.52 0-1.04.2-1.43.59L10.3 9.45l-7.72 7.72c-.78.78-.78 2.05 0 2.83L4 21.41c.39.39.9.59 1.41.59.51 0 1.02-.2 1.41-.59l7.78-7.78 2.81-2.81c.8-.78.8-2.07 0-2.86zM5.41 20L4 18.59l7.72-7.72 1.47 1.35L5.41 20z\"/>\n",
              "  </svg>\n",
              "      </button>\n",
              "      \n",
              "  <style>\n",
              "    .colab-df-container {\n",
              "      display:flex;\n",
              "      flex-wrap:wrap;\n",
              "      gap: 12px;\n",
              "    }\n",
              "\n",
              "    .colab-df-convert {\n",
              "      background-color: #E8F0FE;\n",
              "      border: none;\n",
              "      border-radius: 50%;\n",
              "      cursor: pointer;\n",
              "      display: none;\n",
              "      fill: #1967D2;\n",
              "      height: 32px;\n",
              "      padding: 0 0 0 0;\n",
              "      width: 32px;\n",
              "    }\n",
              "\n",
              "    .colab-df-convert:hover {\n",
              "      background-color: #E2EBFA;\n",
              "      box-shadow: 0px 1px 2px rgba(60, 64, 67, 0.3), 0px 1px 3px 1px rgba(60, 64, 67, 0.15);\n",
              "      fill: #174EA6;\n",
              "    }\n",
              "\n",
              "    [theme=dark] .colab-df-convert {\n",
              "      background-color: #3B4455;\n",
              "      fill: #D2E3FC;\n",
              "    }\n",
              "\n",
              "    [theme=dark] .colab-df-convert:hover {\n",
              "      background-color: #434B5C;\n",
              "      box-shadow: 0px 1px 3px 1px rgba(0, 0, 0, 0.15);\n",
              "      filter: drop-shadow(0px 1px 2px rgba(0, 0, 0, 0.3));\n",
              "      fill: #FFFFFF;\n",
              "    }\n",
              "  </style>\n",
              "\n",
              "      <script>\n",
              "        const buttonEl =\n",
              "          document.querySelector('#df-1df2943d-3597-42b2-9090-a6c14c1c6c53 button.colab-df-convert');\n",
              "        buttonEl.style.display =\n",
              "          google.colab.kernel.accessAllowed ? 'block' : 'none';\n",
              "\n",
              "        async function convertToInteractive(key) {\n",
              "          const element = document.querySelector('#df-1df2943d-3597-42b2-9090-a6c14c1c6c53');\n",
              "          const dataTable =\n",
              "            await google.colab.kernel.invokeFunction('convertToInteractive',\n",
              "                                                     [key], {});\n",
              "          if (!dataTable) return;\n",
              "\n",
              "          const docLinkHtml = 'Like what you see? Visit the ' +\n",
              "            '<a target=\"_blank\" href=https://colab.research.google.com/notebooks/data_table.ipynb>data table notebook</a>'\n",
              "            + ' to learn more about interactive tables.';\n",
              "          element.innerHTML = '';\n",
              "          dataTable['output_type'] = 'display_data';\n",
              "          await google.colab.output.renderOutput(dataTable, element);\n",
              "          const docLink = document.createElement('div');\n",
              "          docLink.innerHTML = docLinkHtml;\n",
              "          element.appendChild(docLink);\n",
              "        }\n",
              "      </script>\n",
              "    </div>\n",
              "  </div>\n",
              "  "
            ]
          },
          "metadata": {},
          "execution_count": 250
        }
      ],
      "source": [
        "result = pd.DataFrame(columns=['Algo', 'MAE', 'RMSE', 'MAPE', 'SMAPE', 'MASE', 'R2'])\n",
        "for i in range(1):\n",
        "  y_true = y_test\n",
        "  y_pred = y_pred\n",
        "  result.loc[i] = [f'RFR', mean_absolute_error(y_true, y_pred), sqrt(mean_squared_error(y_true, y_pred)), mean_absolute_percentage_error(y_true, y_pred), smape(y_true, y_pred), mean_absolute_scaled_error(y_true, y_pred, y_train), r2_score(y_true, y_pred)]\n",
        "result"
      ]
    },
    {
      "cell_type": "markdown",
      "metadata": {
        "id": "SihrnoS_PeXs"
      },
      "source": [
        "## SVM Regressor\n"
      ]
    },
    {
      "cell_type": "code",
      "source": [
        "df_vale = yf.download('VALE3.SA', start='2002-01-01', end='2022-08-11')\n",
        "df_vale.index = pd.to_datetime(df_vale.index.date)\n",
        "df_vale.index.name = 'Date'\n",
        "df_vale = df_vale.drop(['Open', 'High', 'Low', 'Adj Close', 'Volume'], axis=1)\n",
        "\n",
        "df_petr = yf.download('PETR4.SA', start='2002-01-01', end='2022-08-11')\n",
        "df_petr.index = pd.to_datetime(df_petr.index.date)\n",
        "df_petr.index.name = 'Date'\n",
        "df_petr = df_petr.drop(['Open', 'High', 'Low', 'Adj Close', 'Volume'], axis=1)\n",
        "\n",
        "df_itub = yf.download('ITUB4.SA', start='2002-01-01', end='2022-08-11')\n",
        "df_itub.index = pd.to_datetime(df_itub.index.date)\n",
        "df_itub.index.name = 'Date'\n",
        "df_itub = df_itub.drop(['Open', 'High', 'Low', 'Adj Close', 'Volume'], axis=1)\n",
        "\n",
        "# Diferença entre t e (t + 1)\n",
        "diff_vale = pd.DataFrame(df_vale['Close'].diff().dropna())\n",
        "diff_petr = pd.DataFrame(df_petr['Close'].diff().dropna())\n",
        "diff_itub = pd.DataFrame(df_itub['Close'].diff().dropna())"
      ],
      "metadata": {
        "colab": {
          "base_uri": "https://localhost:8080/"
        },
        "id": "143JO9PpypoI",
        "outputId": "421213fc-c0ab-40d5-dbe8-9550eafdb9ec"
      },
      "execution_count": 251,
      "outputs": [
        {
          "output_type": "stream",
          "name": "stdout",
          "text": [
            "[*********************100%***********************]  1 of 1 completed\n",
            "[*********************100%***********************]  1 of 1 completed\n",
            "[*********************100%***********************]  1 of 1 completed\n"
          ]
        }
      ]
    },
    {
      "cell_type": "code",
      "source": [
        "data = pd.DataFrame(df_itub['Close'].diff().dropna())"
      ],
      "metadata": {
        "id": "fd9WbhkTyt6R"
      },
      "execution_count": 292,
      "outputs": []
    },
    {
      "cell_type": "code",
      "source": [
        "def split_data(data, split_date):\n",
        "  return data[data.index <= split_date].copy(), data[data.index > split_date].copy()\n"
      ],
      "metadata": {
        "id": "dArPtZrBywdy"
      },
      "execution_count": 293,
      "outputs": []
    },
    {
      "cell_type": "code",
      "source": [
        "data['Time'] = np.arange(len(data.index))\n",
        "data['Lag_1'] = data['Close'].shift(1)"
      ],
      "metadata": {
        "id": "t5HO3t9xyzhM"
      },
      "execution_count": 294,
      "outputs": []
    },
    {
      "cell_type": "code",
      "source": [
        "data.dropna(inplace = True)"
      ],
      "metadata": {
        "id": "1jKGLxcqy2nN"
      },
      "execution_count": 295,
      "outputs": []
    },
    {
      "cell_type": "code",
      "source": [
        "X = data.drop(['Close', 'Time'], axis=1)\n",
        "y = data.drop(['Lag_1', 'Time'], axis=1)"
      ],
      "metadata": {
        "id": "baJK5mB5y5eQ"
      },
      "execution_count": 296,
      "outputs": []
    },
    {
      "cell_type": "code",
      "source": [
        "X_train, X_test = split_data(X, '2021-07-30')\n",
        "y_train, y_test = split_data(y, '2021-07-30')"
      ],
      "metadata": {
        "id": "L3LMHDvfy8ve"
      },
      "execution_count": 297,
      "outputs": []
    },
    {
      "cell_type": "code",
      "execution_count": 298,
      "metadata": {
        "id": "yOSu44V1WthZ",
        "colab": {
          "base_uri": "https://localhost:8080/"
        },
        "outputId": "e58e365b-1f2f-4d33-ba2a-b51c0be11d71"
      },
      "outputs": [
        {
          "output_type": "stream",
          "name": "stdout",
          "text": [
            "0.8428239822387695\n"
          ]
        }
      ],
      "source": [
        "from sklearn.svm import SVR\n",
        "\n",
        "tempo_inicial = (time.time()) \n",
        "model = model = SVR()\n",
        "model.fit(X_train, y_train)\n",
        "tempo_final = (time.time())\n",
        "print(tempo_final - tempo_inicial)\n",
        "\n",
        "y_fit = pd.DataFrame(model.predict(X_train), index=X_train.index, columns=y.columns)\n",
        "y_pred = pd.DataFrame(model.predict(X_test), index=X_test.index, columns=y.columns)"
      ]
    },
    {
      "cell_type": "code",
      "execution_count": 299,
      "metadata": {
        "id": "r-enw4toXdhN",
        "colab": {
          "base_uri": "https://localhost:8080/",
          "height": 142
        },
        "outputId": "9f8201e9-44dc-49e6-e291-e9d9e8944335"
      },
      "outputs": [
        {
          "output_type": "execute_result",
          "data": {
            "text/plain": [
              "  Algo       MAE     RMSE          MAPE                               SMAPE  \\\n",
              "0  SVR  0.355138  0.53831  4.187316e+11  Close    184.363392\n",
              "dtype: float64   \n",
              "\n",
              "                               MASE        R2  \n",
              "0  Close    0.965763\n",
              "dtype: float64  0.005077  "
            ],
            "text/html": [
              "\n",
              "  <div id=\"df-1cd76f22-036e-455e-aaeb-83c3f0a484a5\">\n",
              "    <div class=\"colab-df-container\">\n",
              "      <div>\n",
              "<style scoped>\n",
              "    .dataframe tbody tr th:only-of-type {\n",
              "        vertical-align: middle;\n",
              "    }\n",
              "\n",
              "    .dataframe tbody tr th {\n",
              "        vertical-align: top;\n",
              "    }\n",
              "\n",
              "    .dataframe thead th {\n",
              "        text-align: right;\n",
              "    }\n",
              "</style>\n",
              "<table border=\"1\" class=\"dataframe\">\n",
              "  <thead>\n",
              "    <tr style=\"text-align: right;\">\n",
              "      <th></th>\n",
              "      <th>Algo</th>\n",
              "      <th>MAE</th>\n",
              "      <th>RMSE</th>\n",
              "      <th>MAPE</th>\n",
              "      <th>SMAPE</th>\n",
              "      <th>MASE</th>\n",
              "      <th>R2</th>\n",
              "    </tr>\n",
              "  </thead>\n",
              "  <tbody>\n",
              "    <tr>\n",
              "      <th>0</th>\n",
              "      <td>SVR</td>\n",
              "      <td>0.355138</td>\n",
              "      <td>0.53831</td>\n",
              "      <td>4.187316e+11</td>\n",
              "      <td>Close    184.363392\n",
              "dtype: float64</td>\n",
              "      <td>Close    0.965763\n",
              "dtype: float64</td>\n",
              "      <td>0.005077</td>\n",
              "    </tr>\n",
              "  </tbody>\n",
              "</table>\n",
              "</div>\n",
              "      <button class=\"colab-df-convert\" onclick=\"convertToInteractive('df-1cd76f22-036e-455e-aaeb-83c3f0a484a5')\"\n",
              "              title=\"Convert this dataframe to an interactive table.\"\n",
              "              style=\"display:none;\">\n",
              "        \n",
              "  <svg xmlns=\"http://www.w3.org/2000/svg\" height=\"24px\"viewBox=\"0 0 24 24\"\n",
              "       width=\"24px\">\n",
              "    <path d=\"M0 0h24v24H0V0z\" fill=\"none\"/>\n",
              "    <path d=\"M18.56 5.44l.94 2.06.94-2.06 2.06-.94-2.06-.94-.94-2.06-.94 2.06-2.06.94zm-11 1L8.5 8.5l.94-2.06 2.06-.94-2.06-.94L8.5 2.5l-.94 2.06-2.06.94zm10 10l.94 2.06.94-2.06 2.06-.94-2.06-.94-.94-2.06-.94 2.06-2.06.94z\"/><path d=\"M17.41 7.96l-1.37-1.37c-.4-.4-.92-.59-1.43-.59-.52 0-1.04.2-1.43.59L10.3 9.45l-7.72 7.72c-.78.78-.78 2.05 0 2.83L4 21.41c.39.39.9.59 1.41.59.51 0 1.02-.2 1.41-.59l7.78-7.78 2.81-2.81c.8-.78.8-2.07 0-2.86zM5.41 20L4 18.59l7.72-7.72 1.47 1.35L5.41 20z\"/>\n",
              "  </svg>\n",
              "      </button>\n",
              "      \n",
              "  <style>\n",
              "    .colab-df-container {\n",
              "      display:flex;\n",
              "      flex-wrap:wrap;\n",
              "      gap: 12px;\n",
              "    }\n",
              "\n",
              "    .colab-df-convert {\n",
              "      background-color: #E8F0FE;\n",
              "      border: none;\n",
              "      border-radius: 50%;\n",
              "      cursor: pointer;\n",
              "      display: none;\n",
              "      fill: #1967D2;\n",
              "      height: 32px;\n",
              "      padding: 0 0 0 0;\n",
              "      width: 32px;\n",
              "    }\n",
              "\n",
              "    .colab-df-convert:hover {\n",
              "      background-color: #E2EBFA;\n",
              "      box-shadow: 0px 1px 2px rgba(60, 64, 67, 0.3), 0px 1px 3px 1px rgba(60, 64, 67, 0.15);\n",
              "      fill: #174EA6;\n",
              "    }\n",
              "\n",
              "    [theme=dark] .colab-df-convert {\n",
              "      background-color: #3B4455;\n",
              "      fill: #D2E3FC;\n",
              "    }\n",
              "\n",
              "    [theme=dark] .colab-df-convert:hover {\n",
              "      background-color: #434B5C;\n",
              "      box-shadow: 0px 1px 3px 1px rgba(0, 0, 0, 0.15);\n",
              "      filter: drop-shadow(0px 1px 2px rgba(0, 0, 0, 0.3));\n",
              "      fill: #FFFFFF;\n",
              "    }\n",
              "  </style>\n",
              "\n",
              "      <script>\n",
              "        const buttonEl =\n",
              "          document.querySelector('#df-1cd76f22-036e-455e-aaeb-83c3f0a484a5 button.colab-df-convert');\n",
              "        buttonEl.style.display =\n",
              "          google.colab.kernel.accessAllowed ? 'block' : 'none';\n",
              "\n",
              "        async function convertToInteractive(key) {\n",
              "          const element = document.querySelector('#df-1cd76f22-036e-455e-aaeb-83c3f0a484a5');\n",
              "          const dataTable =\n",
              "            await google.colab.kernel.invokeFunction('convertToInteractive',\n",
              "                                                     [key], {});\n",
              "          if (!dataTable) return;\n",
              "\n",
              "          const docLinkHtml = 'Like what you see? Visit the ' +\n",
              "            '<a target=\"_blank\" href=https://colab.research.google.com/notebooks/data_table.ipynb>data table notebook</a>'\n",
              "            + ' to learn more about interactive tables.';\n",
              "          element.innerHTML = '';\n",
              "          dataTable['output_type'] = 'display_data';\n",
              "          await google.colab.output.renderOutput(dataTable, element);\n",
              "          const docLink = document.createElement('div');\n",
              "          docLink.innerHTML = docLinkHtml;\n",
              "          element.appendChild(docLink);\n",
              "        }\n",
              "      </script>\n",
              "    </div>\n",
              "  </div>\n",
              "  "
            ]
          },
          "metadata": {},
          "execution_count": 299
        }
      ],
      "source": [
        "result = pd.DataFrame(columns=['Algo', 'MAE', 'RMSE', 'MAPE', 'SMAPE', 'MASE', 'R2'])\n",
        "for i in range(1):\n",
        "  y_true = y_test\n",
        "  y_pred = y_pred\n",
        "  result.loc[i] = [f'SVR', mean_absolute_error(y_true, y_pred), sqrt(mean_squared_error(y_true, y_pred)), mean_absolute_percentage_error(y_true, y_pred), smape(y_true, y_pred), mean_absolute_scaled_error(y_true, y_pred, y_train), r2_score(y_true, y_pred)]\n",
        "result"
      ]
    },
    {
      "cell_type": "markdown",
      "source": [
        "#### LSTM\n"
      ],
      "metadata": {
        "id": "wCvOOi2mYl_u"
      }
    },
    {
      "cell_type": "code",
      "source": [
        "df_vale = yf.download('VALE3.SA', start='2002-01-01', end='2022-08-11')\n",
        "df_vale.index = pd.to_datetime(df_vale.index.date)\n",
        "df_vale.index.name = 'Date'\n",
        "df_vale = df_vale.drop(['Open', 'High', 'Low', 'Adj Close', 'Volume'], axis=1)\n",
        "\n",
        "df_petr = yf.download('PETR4.SA', start='2002-01-01', end='2022-08-11')\n",
        "df_petr.index = pd.to_datetime(df_petr.index.date)\n",
        "df_petr.index.name = 'Date'\n",
        "df_petr = df_petr.drop(['Open', 'High', 'Low', 'Adj Close', 'Volume'], axis=1)\n",
        "\n",
        "df_itub = yf.download('ITUB4.SA', start='2002-01-01', end='2022-08-11')\n",
        "df_itub.index = pd.to_datetime(df_itub.index.date)\n",
        "df_itub.index.name = 'Date'\n",
        "df_itub = df_itub.drop(['Open', 'High', 'Low', 'Adj Close', 'Volume'], axis=1)\n",
        "\n",
        "diff_vale = pd.DataFrame(df_vale['Close'].diff().dropna())\n",
        "diff_petr = pd.DataFrame(df_petr['Close'].diff().dropna())\n",
        "diff_itub = pd.DataFrame(df_itub['Close'].diff().dropna())"
      ],
      "metadata": {
        "colab": {
          "base_uri": "https://localhost:8080/"
        },
        "id": "WkQG9ncPrCB_",
        "outputId": "d058834e-9176-4589-a206-ce8b687edc98"
      },
      "execution_count": 461,
      "outputs": [
        {
          "output_type": "stream",
          "name": "stdout",
          "text": [
            "[*********************100%***********************]  1 of 1 completed\n",
            "[*********************100%***********************]  1 of 1 completed\n",
            "[*********************100%***********************]  1 of 1 completed\n"
          ]
        }
      ]
    },
    {
      "cell_type": "code",
      "source": [
        "import pandas as pd\n",
        "import torch\n",
        "import torch.nn as nn\n",
        "from torch.utils.data import Dataset , DataLoader\n",
        "import yfinance as yf"
      ],
      "metadata": {
        "id": "VYMhjvbrydhg"
      },
      "execution_count": 462,
      "outputs": []
    },
    {
      "cell_type": "code",
      "source": [
        "data = diff_itub.filter(['Close'])\n",
        "\n",
        "df1 = data.values"
      ],
      "metadata": {
        "id": "jAC5kpzoMVkJ"
      },
      "execution_count": 538,
      "outputs": []
    },
    {
      "cell_type": "code",
      "source": [
        "##splitting dataset into train and test split for time series data\n",
        "training_size=int(len(df1)*0.95)\n",
        "test_size=len(df1)-training_size\n",
        "train_data,test_data=df1[0:training_size,:],df1[training_size:len(df1),:1]"
      ],
      "metadata": {
        "id": "LDecP8SzfBQB"
      },
      "execution_count": 539,
      "outputs": []
    },
    {
      "cell_type": "code",
      "source": [
        "class StockDataset(Dataset):\n",
        "    def __init__(self,data,seq_len = 100):\n",
        "        self.data = data\n",
        "        self.data = torch.from_numpy(data).float().view(-1)\n",
        "        self.seq_len = seq_len\n",
        "        \n",
        "    def __len__(self):\n",
        "        return len(self.data)-self.seq_len-1\n",
        "\n",
        "    def __getitem__(self, index) :\n",
        "        return  self.data[index : index+self.seq_len] , self.data[index+self.seq_len]\n",
        "\n",
        "\n",
        "train_dataset = StockDataset(train_data) \n",
        "test_dataset = StockDataset(test_data) "
      ],
      "metadata": {
        "id": "-PQ5P5yyyFeS"
      },
      "execution_count": 540,
      "outputs": []
    },
    {
      "cell_type": "code",
      "source": [
        "batch_size = 64\n",
        "train_dataloader = DataLoader(train_dataset,batch_size,drop_last=True)\n",
        "test_dataloader = DataLoader(test_dataset,batch_size , drop_last=True)\n",
        "\n",
        "device = \"cuda\" if torch.cuda.is_available() else \"cpu\""
      ],
      "metadata": {
        "id": "SvmdXG7VyH3m"
      },
      "execution_count": 541,
      "outputs": []
    },
    {
      "cell_type": "code",
      "source": [
        "class Lstm_model(nn.Module):\n",
        "    def __init__(self, input_dim , hidden_size , num_layers):\n",
        "        super(Lstm_model, self).__init__()\n",
        "        self.num_layers = num_layers\n",
        "        self.input_size = input_dim\n",
        "        self.hidden_size = hidden_size\n",
        "        self.lstm = nn.LSTM(input_size=input_dim , hidden_size = hidden_size , num_layers= num_layers )\n",
        "        self.fc = nn.Linear(hidden_size,1)\n",
        "\n",
        "    def forward(self,x,hn,cn):\n",
        "        out , (hn,cn) = self.lstm(x , (hn,cn))\n",
        "        final_out = self.fc(out[-1])\n",
        "        return final_out,hn,cn\n",
        "\n",
        "    def predict(self,x):\n",
        "        hn,cn  = self.init()\n",
        "        final_out = self.fc(out[-1])\n",
        "        return final_out\n",
        "\n",
        "    def init(self):\n",
        "        h0 =  torch.zeros(self.num_layers , batch_size , self.hidden_size).to(device)\n",
        "        c0 =  torch.zeros(self.num_layers , batch_size , self.hidden_size).to(device)\n",
        "        return h0 , c0\n",
        "\n",
        "\n",
        "input_dim = 1 \n",
        "hidden_size = 50\n",
        "num_layers = 3\n",
        "\n",
        "model = Lstm_model(input_dim , hidden_size , num_layers).to(device)"
      ],
      "metadata": {
        "id": "5A8b9csUyL-K"
      },
      "execution_count": 542,
      "outputs": []
    },
    {
      "cell_type": "code",
      "source": [
        "loss_fn = nn.MSELoss()\n",
        "optimizer = torch.optim.Adam(model.parameters(), lr=1e-3)"
      ],
      "metadata": {
        "id": "DkyzAngXyOgv"
      },
      "execution_count": 543,
      "outputs": []
    },
    {
      "cell_type": "code",
      "source": [
        "def train(dataloader):\n",
        "    hn , cn = model.init()\n",
        "    model.train()\n",
        "    for batch , item in enumerate(dataloader):\n",
        "        x , y = item\n",
        "        x = x.to(device)\n",
        "        y = y.to(device)\n",
        "        out , hn , cn = model(x.reshape(100,batch_size,1),hn,cn)\n",
        "        loss = loss_fn(out.reshape(batch_size) , y)\n",
        "        hn = hn.detach()\n",
        "        cn = cn.detach()\n",
        "        optimizer.zero_grad()\n",
        "        loss.backward()\n",
        "        optimizer.step()\n",
        "        \n",
        "        if batch == len(dataloader)-1:\n",
        "            loss = loss.item()\n",
        "            print(f\"train loss: {loss:>7f} \")"
      ],
      "metadata": {
        "id": "cJJ31SFByRHE"
      },
      "execution_count": 544,
      "outputs": []
    },
    {
      "cell_type": "code",
      "source": [
        "def test(dataloader):\n",
        "    hn , cn = model.init()\n",
        "    model.eval()\n",
        "    for batch , item in enumerate(dataloader):\n",
        "        x , y = item\n",
        "        x = x.to(device)\n",
        "        y = y.to(device)\n",
        "        out , hn , cn = model(x.reshape(100,batch_size,1),hn,cn)\n",
        "        loss = loss_fn(out.reshape(batch_size) , y)\n",
        "       \n",
        "        if batch == len(dataloader)-1:\n",
        "            loss = loss.item()\n",
        "            print(f\"test loss: {loss:>7f} \")"
      ],
      "metadata": {
        "id": "kRVQoI-myUQj"
      },
      "execution_count": 545,
      "outputs": []
    },
    {
      "cell_type": "code",
      "source": [
        "epochs = 200\n",
        "tempo_inicial = (time.time()) \n",
        "for epoch in range(epochs):\n",
        "    print(f\"epoch {epoch} \")\n",
        "    train(train_dataloader)\n",
        "    test(test_dataloader)\n",
        "tempo_final = (time.time())\n",
        "print(tempo_final - tempo_inicial)"
      ],
      "metadata": {
        "colab": {
          "base_uri": "https://localhost:8080/"
        },
        "id": "tF6nX6SuyWOk",
        "outputId": "9cf9c34d-adb9-428a-fcfa-17df00b00c2c"
      },
      "execution_count": 546,
      "outputs": [
        {
          "output_type": "stream",
          "name": "stdout",
          "text": [
            "epoch 0 \n",
            "train loss: 0.236597 \n",
            "test loss: 0.126396 \n",
            "epoch 1 \n",
            "train loss: 0.236740 \n",
            "test loss: 0.126226 \n",
            "epoch 2 \n",
            "train loss: 0.236600 \n",
            "test loss: 0.126365 \n",
            "epoch 3 \n",
            "train loss: 0.236421 \n",
            "test loss: 0.126565 \n",
            "epoch 4 \n",
            "train loss: 0.236253 \n",
            "test loss: 0.126768 \n",
            "epoch 5 \n",
            "train loss: 0.236109 \n",
            "test loss: 0.126953 \n",
            "epoch 6 \n",
            "train loss: 0.235994 \n",
            "test loss: 0.127106 \n",
            "epoch 7 \n",
            "train loss: 0.235897 \n",
            "test loss: 0.127234 \n",
            "epoch 8 \n",
            "train loss: 0.235708 \n",
            "test loss: 0.127338 \n",
            "epoch 9 \n",
            "train loss: 0.236055 \n",
            "test loss: 0.126990 \n",
            "epoch 10 \n",
            "train loss: 0.233341 \n",
            "test loss: 0.144619 \n",
            "epoch 11 \n",
            "train loss: 0.238372 \n",
            "test loss: 0.118619 \n",
            "epoch 12 \n",
            "train loss: 0.218895 \n",
            "test loss: 0.121231 \n",
            "epoch 13 \n",
            "train loss: 0.196715 \n",
            "test loss: 0.113121 \n",
            "epoch 14 \n",
            "train loss: 0.200372 \n",
            "test loss: 0.128257 \n",
            "epoch 15 \n",
            "train loss: 0.201222 \n",
            "test loss: 0.126092 \n",
            "epoch 16 \n",
            "train loss: 0.203990 \n",
            "test loss: 0.122993 \n",
            "epoch 17 \n",
            "train loss: 0.203858 \n",
            "test loss: 0.121952 \n",
            "epoch 18 \n",
            "train loss: 0.198173 \n",
            "test loss: 0.117976 \n",
            "epoch 19 \n",
            "train loss: 0.197687 \n",
            "test loss: 0.117994 \n",
            "epoch 20 \n",
            "train loss: 0.199989 \n",
            "test loss: 0.119730 \n",
            "epoch 21 \n",
            "train loss: 0.200545 \n",
            "test loss: 0.120749 \n",
            "epoch 22 \n",
            "train loss: 0.198990 \n",
            "test loss: 0.124673 \n",
            "epoch 23 \n",
            "train loss: 0.196671 \n",
            "test loss: 0.126868 \n",
            "epoch 24 \n",
            "train loss: 0.194086 \n",
            "test loss: 0.130945 \n",
            "epoch 25 \n",
            "train loss: 0.191817 \n",
            "test loss: 0.135338 \n",
            "epoch 26 \n",
            "train loss: 0.190874 \n",
            "test loss: 0.139322 \n",
            "epoch 27 \n",
            "train loss: 0.190156 \n",
            "test loss: 0.142681 \n",
            "epoch 28 \n",
            "train loss: 0.189753 \n",
            "test loss: 0.143655 \n",
            "epoch 29 \n",
            "train loss: 0.186342 \n",
            "test loss: 0.144670 \n",
            "epoch 30 \n",
            "train loss: 0.189733 \n",
            "test loss: 0.140980 \n",
            "epoch 31 \n",
            "train loss: 0.181854 \n",
            "test loss: 0.144438 \n",
            "epoch 32 \n",
            "train loss: 0.188207 \n",
            "test loss: 0.139533 \n",
            "epoch 33 \n",
            "train loss: 0.180604 \n",
            "test loss: 0.151986 \n",
            "epoch 34 \n",
            "train loss: 0.184889 \n",
            "test loss: 0.149654 \n",
            "epoch 35 \n",
            "train loss: 0.169441 \n",
            "test loss: 0.145413 \n",
            "epoch 36 \n",
            "train loss: 0.181827 \n",
            "test loss: 0.159035 \n",
            "epoch 37 \n",
            "train loss: 0.175915 \n",
            "test loss: 0.162392 \n",
            "epoch 38 \n",
            "train loss: 0.189233 \n",
            "test loss: 0.152389 \n",
            "epoch 39 \n",
            "train loss: 0.170774 \n",
            "test loss: 0.132443 \n",
            "epoch 40 \n",
            "train loss: 0.171910 \n",
            "test loss: 0.139566 \n",
            "epoch 41 \n",
            "train loss: 0.172227 \n",
            "test loss: 0.117800 \n",
            "epoch 42 \n",
            "train loss: 0.180104 \n",
            "test loss: 0.116110 \n",
            "epoch 43 \n",
            "train loss: 0.171072 \n",
            "test loss: 0.122489 \n",
            "epoch 44 \n",
            "train loss: 0.172770 \n",
            "test loss: 0.127963 \n",
            "epoch 45 \n",
            "train loss: 0.177084 \n",
            "test loss: 0.139542 \n",
            "epoch 46 \n",
            "train loss: 0.178906 \n",
            "test loss: 0.118473 \n",
            "epoch 47 \n",
            "train loss: 0.182121 \n",
            "test loss: 0.129279 \n",
            "epoch 48 \n",
            "train loss: 0.178222 \n",
            "test loss: 0.116348 \n",
            "epoch 49 \n",
            "train loss: 0.184315 \n",
            "test loss: 0.131696 \n",
            "epoch 50 \n",
            "train loss: 0.179799 \n",
            "test loss: 0.120606 \n",
            "epoch 51 \n",
            "train loss: 0.173120 \n",
            "test loss: 0.126142 \n",
            "epoch 52 \n",
            "train loss: 0.183483 \n",
            "test loss: 0.126956 \n",
            "epoch 53 \n",
            "train loss: 0.176582 \n",
            "test loss: 0.136959 \n",
            "epoch 54 \n",
            "train loss: 0.177495 \n",
            "test loss: 0.119346 \n",
            "epoch 55 \n",
            "train loss: 0.196789 \n",
            "test loss: 0.144098 \n",
            "epoch 56 \n",
            "train loss: 0.172013 \n",
            "test loss: 0.110079 \n",
            "epoch 57 \n",
            "train loss: 0.178942 \n",
            "test loss: 0.154904 \n",
            "epoch 58 \n",
            "train loss: 0.165305 \n",
            "test loss: 0.117129 \n",
            "epoch 59 \n",
            "train loss: 0.188198 \n",
            "test loss: 0.139558 \n",
            "epoch 60 \n",
            "train loss: 0.167149 \n",
            "test loss: 0.114236 \n",
            "epoch 61 \n",
            "train loss: 0.174167 \n",
            "test loss: 0.126190 \n",
            "epoch 62 \n",
            "train loss: 0.161959 \n",
            "test loss: 0.127612 \n",
            "epoch 63 \n",
            "train loss: 0.159565 \n",
            "test loss: 0.142886 \n",
            "epoch 64 \n",
            "train loss: 0.171003 \n",
            "test loss: 0.149341 \n",
            "epoch 65 \n",
            "train loss: 0.171369 \n",
            "test loss: 0.120869 \n",
            "epoch 66 \n",
            "train loss: 0.167486 \n",
            "test loss: 0.125166 \n",
            "epoch 67 \n",
            "train loss: 0.177790 \n",
            "test loss: 0.106516 \n",
            "epoch 68 \n",
            "train loss: 0.162205 \n",
            "test loss: 0.138997 \n",
            "epoch 69 \n",
            "train loss: 0.166614 \n",
            "test loss: 0.135759 \n",
            "epoch 70 \n",
            "train loss: 0.158387 \n",
            "test loss: 0.139444 \n",
            "epoch 71 \n",
            "train loss: 0.156893 \n",
            "test loss: 0.123129 \n",
            "epoch 72 \n",
            "train loss: 0.150752 \n",
            "test loss: 0.132261 \n",
            "epoch 73 \n",
            "train loss: 0.150538 \n",
            "test loss: 0.124935 \n",
            "epoch 74 \n",
            "train loss: 0.157108 \n",
            "test loss: 0.158203 \n",
            "epoch 75 \n",
            "train loss: 0.156754 \n",
            "test loss: 0.135918 \n",
            "epoch 76 \n",
            "train loss: 0.157530 \n",
            "test loss: 0.194352 \n",
            "epoch 77 \n",
            "train loss: 0.146866 \n",
            "test loss: 0.147482 \n",
            "epoch 78 \n",
            "train loss: 0.135461 \n",
            "test loss: 0.167960 \n",
            "epoch 79 \n",
            "train loss: 0.143956 \n",
            "test loss: 0.136066 \n",
            "epoch 80 \n",
            "train loss: 0.139715 \n",
            "test loss: 0.215162 \n",
            "epoch 81 \n",
            "train loss: 0.174663 \n",
            "test loss: 0.127746 \n",
            "epoch 82 \n",
            "train loss: 0.155356 \n",
            "test loss: 0.215743 \n",
            "epoch 83 \n",
            "train loss: 0.140575 \n",
            "test loss: 0.190652 \n",
            "epoch 84 \n",
            "train loss: 0.141539 \n",
            "test loss: 0.155789 \n",
            "epoch 85 \n",
            "train loss: 0.126876 \n",
            "test loss: 0.182886 \n",
            "epoch 86 \n",
            "train loss: 0.142017 \n",
            "test loss: 0.138017 \n",
            "epoch 87 \n",
            "train loss: 0.141452 \n",
            "test loss: 0.188791 \n",
            "epoch 88 \n",
            "train loss: 0.156403 \n",
            "test loss: 0.136804 \n",
            "epoch 89 \n",
            "train loss: 0.134870 \n",
            "test loss: 0.197192 \n",
            "epoch 90 \n",
            "train loss: 0.149494 \n",
            "test loss: 0.142477 \n",
            "epoch 91 \n",
            "train loss: 0.126970 \n",
            "test loss: 0.158411 \n",
            "epoch 92 \n",
            "train loss: 0.125366 \n",
            "test loss: 0.159041 \n",
            "epoch 93 \n",
            "train loss: 0.119272 \n",
            "test loss: 0.144379 \n",
            "epoch 94 \n",
            "train loss: 0.125175 \n",
            "test loss: 0.150114 \n",
            "epoch 95 \n",
            "train loss: 0.120959 \n",
            "test loss: 0.140534 \n",
            "epoch 96 \n",
            "train loss: 0.107508 \n",
            "test loss: 0.177695 \n",
            "epoch 97 \n",
            "train loss: 0.121354 \n",
            "test loss: 0.132702 \n",
            "epoch 98 \n",
            "train loss: 0.104155 \n",
            "test loss: 0.191000 \n",
            "epoch 99 \n",
            "train loss: 0.111814 \n",
            "test loss: 0.146364 \n",
            "epoch 100 \n",
            "train loss: 0.114335 \n",
            "test loss: 0.148524 \n",
            "epoch 101 \n",
            "train loss: 0.115745 \n",
            "test loss: 0.134275 \n",
            "epoch 102 \n",
            "train loss: 0.103118 \n",
            "test loss: 0.129967 \n",
            "epoch 103 \n",
            "train loss: 0.108107 \n",
            "test loss: 0.131573 \n",
            "epoch 104 \n",
            "train loss: 0.089348 \n",
            "test loss: 0.134767 \n",
            "epoch 105 \n",
            "train loss: 0.086634 \n",
            "test loss: 0.134005 \n",
            "epoch 106 \n",
            "train loss: 0.094371 \n",
            "test loss: 0.139085 \n",
            "epoch 107 \n",
            "train loss: 0.105535 \n",
            "test loss: 0.160782 \n",
            "epoch 108 \n",
            "train loss: 0.095019 \n",
            "test loss: 0.131430 \n",
            "epoch 109 \n",
            "train loss: 0.118739 \n",
            "test loss: 0.142104 \n",
            "epoch 110 \n",
            "train loss: 0.092243 \n",
            "test loss: 0.151285 \n",
            "epoch 111 \n",
            "train loss: 0.097996 \n",
            "test loss: 0.121888 \n",
            "epoch 112 \n",
            "train loss: 0.086575 \n",
            "test loss: 0.163123 \n",
            "epoch 113 \n",
            "train loss: 0.082188 \n",
            "test loss: 0.130099 \n",
            "epoch 114 \n",
            "train loss: 0.075885 \n",
            "test loss: 0.132073 \n",
            "epoch 115 \n",
            "train loss: 0.071231 \n",
            "test loss: 0.143698 \n",
            "epoch 116 \n",
            "train loss: 0.080603 \n",
            "test loss: 0.147739 \n",
            "epoch 117 \n",
            "train loss: 0.075008 \n",
            "test loss: 0.164000 \n",
            "epoch 118 \n",
            "train loss: 0.090617 \n",
            "test loss: 0.147972 \n",
            "epoch 119 \n",
            "train loss: 0.073391 \n",
            "test loss: 0.143006 \n",
            "epoch 120 \n",
            "train loss: 0.078915 \n",
            "test loss: 0.143344 \n",
            "epoch 121 \n",
            "train loss: 0.071026 \n",
            "test loss: 0.150828 \n",
            "epoch 122 \n",
            "train loss: 0.063619 \n",
            "test loss: 0.160349 \n",
            "epoch 123 \n",
            "train loss: 0.063994 \n",
            "test loss: 0.142171 \n",
            "epoch 124 \n",
            "train loss: 0.064874 \n",
            "test loss: 0.156968 \n",
            "epoch 125 \n",
            "train loss: 0.073488 \n",
            "test loss: 0.140391 \n",
            "epoch 126 \n",
            "train loss: 0.064884 \n",
            "test loss: 0.145812 \n",
            "epoch 127 \n",
            "train loss: 0.088744 \n",
            "test loss: 0.166151 \n",
            "epoch 128 \n",
            "train loss: 0.065443 \n",
            "test loss: 0.167537 \n",
            "epoch 129 \n",
            "train loss: 0.065622 \n",
            "test loss: 0.183250 \n",
            "epoch 130 \n",
            "train loss: 0.074978 \n",
            "test loss: 0.151169 \n",
            "epoch 131 \n",
            "train loss: 0.064125 \n",
            "test loss: 0.177192 \n",
            "epoch 132 \n",
            "train loss: 0.069065 \n",
            "test loss: 0.147534 \n",
            "epoch 133 \n",
            "train loss: 0.067223 \n",
            "test loss: 0.197421 \n",
            "epoch 134 \n",
            "train loss: 0.056129 \n",
            "test loss: 0.182179 \n",
            "epoch 135 \n",
            "train loss: 0.061430 \n",
            "test loss: 0.177513 \n",
            "epoch 136 \n",
            "train loss: 0.053199 \n",
            "test loss: 0.169552 \n",
            "epoch 137 \n",
            "train loss: 0.050503 \n",
            "test loss: 0.166350 \n",
            "epoch 138 \n",
            "train loss: 0.045739 \n",
            "test loss: 0.174503 \n",
            "epoch 139 \n",
            "train loss: 0.045948 \n",
            "test loss: 0.187723 \n",
            "epoch 140 \n",
            "train loss: 0.045524 \n",
            "test loss: 0.180641 \n",
            "epoch 141 \n",
            "train loss: 0.042675 \n",
            "test loss: 0.190209 \n",
            "epoch 142 \n",
            "train loss: 0.041659 \n",
            "test loss: 0.174905 \n",
            "epoch 143 \n",
            "train loss: 0.046738 \n",
            "test loss: 0.192274 \n",
            "epoch 144 \n",
            "train loss: 0.044242 \n",
            "test loss: 0.187802 \n",
            "epoch 145 \n",
            "train loss: 0.040731 \n",
            "test loss: 0.184455 \n",
            "epoch 146 \n",
            "train loss: 0.047124 \n",
            "test loss: 0.180320 \n",
            "epoch 147 \n",
            "train loss: 0.058539 \n",
            "test loss: 0.188210 \n",
            "epoch 148 \n",
            "train loss: 0.041540 \n",
            "test loss: 0.167914 \n",
            "epoch 149 \n",
            "train loss: 0.036568 \n",
            "test loss: 0.198809 \n",
            "epoch 150 \n",
            "train loss: 0.045858 \n",
            "test loss: 0.170790 \n",
            "epoch 151 \n",
            "train loss: 0.034172 \n",
            "test loss: 0.190272 \n",
            "epoch 152 \n",
            "train loss: 0.030948 \n",
            "test loss: 0.190115 \n",
            "epoch 153 \n",
            "train loss: 0.033648 \n",
            "test loss: 0.194370 \n",
            "epoch 154 \n",
            "train loss: 0.043953 \n",
            "test loss: 0.202841 \n",
            "epoch 155 \n",
            "train loss: 0.050526 \n",
            "test loss: 0.179809 \n",
            "epoch 156 \n",
            "train loss: 0.038061 \n",
            "test loss: 0.182626 \n",
            "epoch 157 \n",
            "train loss: 0.047442 \n",
            "test loss: 0.171643 \n",
            "epoch 158 \n",
            "train loss: 0.031132 \n",
            "test loss: 0.193445 \n",
            "epoch 159 \n",
            "train loss: 0.048142 \n",
            "test loss: 0.176664 \n",
            "epoch 160 \n",
            "train loss: 0.055652 \n",
            "test loss: 0.191914 \n",
            "epoch 161 \n",
            "train loss: 0.037216 \n",
            "test loss: 0.222739 \n",
            "epoch 162 \n",
            "train loss: 0.034531 \n",
            "test loss: 0.186295 \n",
            "epoch 163 \n",
            "train loss: 0.027865 \n",
            "test loss: 0.195366 \n",
            "epoch 164 \n",
            "train loss: 0.025567 \n",
            "test loss: 0.180494 \n",
            "epoch 165 \n",
            "train loss: 0.025756 \n",
            "test loss: 0.186618 \n",
            "epoch 166 \n",
            "train loss: 0.029772 \n",
            "test loss: 0.198896 \n",
            "epoch 167 \n",
            "train loss: 0.027192 \n",
            "test loss: 0.203360 \n",
            "epoch 168 \n",
            "train loss: 0.029180 \n",
            "test loss: 0.174608 \n",
            "epoch 169 \n",
            "train loss: 0.025910 \n",
            "test loss: 0.198894 \n",
            "epoch 170 \n",
            "train loss: 0.036636 \n",
            "test loss: 0.190800 \n",
            "epoch 171 \n",
            "train loss: 0.032139 \n",
            "test loss: 0.194511 \n",
            "epoch 172 \n",
            "train loss: 0.056960 \n",
            "test loss: 0.197118 \n",
            "epoch 173 \n",
            "train loss: 0.035986 \n",
            "test loss: 0.198985 \n",
            "epoch 174 \n",
            "train loss: 0.054276 \n",
            "test loss: 0.201411 \n",
            "epoch 175 \n",
            "train loss: 0.072248 \n",
            "test loss: 0.177705 \n",
            "epoch 176 \n",
            "train loss: 0.053940 \n",
            "test loss: 0.184356 \n",
            "epoch 177 \n",
            "train loss: 0.055039 \n",
            "test loss: 0.228972 \n",
            "epoch 178 \n",
            "train loss: 0.037233 \n",
            "test loss: 0.198127 \n",
            "epoch 179 \n",
            "train loss: 0.026158 \n",
            "test loss: 0.189233 \n",
            "epoch 180 \n",
            "train loss: 0.024777 \n",
            "test loss: 0.181744 \n",
            "epoch 181 \n",
            "train loss: 0.017974 \n",
            "test loss: 0.190833 \n",
            "epoch 182 \n",
            "train loss: 0.022266 \n",
            "test loss: 0.210688 \n",
            "epoch 183 \n",
            "train loss: 0.020910 \n",
            "test loss: 0.213652 \n",
            "epoch 184 \n",
            "train loss: 0.019559 \n",
            "test loss: 0.205663 \n",
            "epoch 185 \n",
            "train loss: 0.019908 \n",
            "test loss: 0.214516 \n",
            "epoch 186 \n",
            "train loss: 0.023348 \n",
            "test loss: 0.214643 \n",
            "epoch 187 \n",
            "train loss: 0.019018 \n",
            "test loss: 0.216586 \n",
            "epoch 188 \n",
            "train loss: 0.020243 \n",
            "test loss: 0.209164 \n",
            "epoch 189 \n",
            "train loss: 0.029113 \n",
            "test loss: 0.225138 \n",
            "epoch 190 \n",
            "train loss: 0.027191 \n",
            "test loss: 0.218164 \n",
            "epoch 191 \n",
            "train loss: 0.033319 \n",
            "test loss: 0.191230 \n",
            "epoch 192 \n",
            "train loss: 0.028982 \n",
            "test loss: 0.190916 \n",
            "epoch 193 \n",
            "train loss: 0.040869 \n",
            "test loss: 0.232983 \n",
            "epoch 194 \n",
            "train loss: 0.036586 \n",
            "test loss: 0.213229 \n",
            "epoch 195 \n",
            "train loss: 0.021067 \n",
            "test loss: 0.238420 \n",
            "epoch 196 \n",
            "train loss: 0.025693 \n",
            "test loss: 0.244825 \n",
            "epoch 197 \n",
            "train loss: 0.018387 \n",
            "test loss: 0.235603 \n",
            "epoch 198 \n",
            "train loss: 0.017012 \n",
            "test loss: 0.236425 \n",
            "epoch 199 \n",
            "train loss: 0.017172 \n",
            "test loss: 0.243487 \n",
            "57.12187623977661\n"
          ]
        }
      ]
    },
    {
      "cell_type": "code",
      "source": [
        "import numpy as np\n",
        "from math import sqrt\n",
        "from sklearn.metrics import mean_absolute_error\n",
        "from sklearn.metrics import mean_squared_error\n",
        "from sklearn.metrics import mean_absolute_percentage_error\n",
        "from sklearn.metrics import r2_score\n",
        "\n",
        "def smape(y_true, y_pred):\n",
        "    return 100/len(y_true) * np.sum(2 * np.abs(y_pred - y_true) / (np.abs(y_true) + np.abs(y_pred)))\n",
        "\n",
        "def mean_absolute_scaled_error(y_true, y_pred, y_train):\n",
        "    e_t = y_true - y_pred\n",
        "    scale = mean_absolute_error(y_train[1:], y_train[:-1])\n",
        "    return np.mean(np.abs(e_t / scale))"
      ],
      "metadata": {
        "id": "-IYF-jY2zhz3"
      },
      "execution_count": 547,
      "outputs": []
    },
    {
      "cell_type": "code",
      "source": [
        "import math\n",
        "from sklearn.metrics import mean_squared_error\n",
        "import numpy as np\n",
        "def calculate_metrics(data_loader):\n",
        "    result = pd.DataFrame(columns=['Algo', 'MAE', 'RMSE', 'MAPE', 'SMAPE', 'MASE', 'R2'])\n",
        "    pred_arr = []\n",
        "    y_arr = []\n",
        "    with torch.no_grad():\n",
        "        hn , cn = model.init()\n",
        "        for batch , item in enumerate(data_loader):\n",
        "            x , y = item\n",
        "            x , y = x.to(device) , y.to(device)\n",
        "            x = x.view(100,64,1)\n",
        "            pred = model(x,hn,cn)[0]\n",
        "            pred = (pred.detach().cpu().numpy()).reshape(-1)\n",
        "            y = (y.detach().cpu().numpy().reshape(1,-1)).reshape(-1)\n",
        "            pred_arr = pred_arr + list(pred)\n",
        "            y_arr = y_arr + list(y)\n",
        "        return pred_arr, y_arr\n",
        "\n",
        "\n",
        "        "
      ],
      "metadata": {
        "id": "zvjlkvbzyYzW"
      },
      "execution_count": 548,
      "outputs": []
    },
    {
      "cell_type": "code",
      "source": [
        "# calculating final loss metrics\n",
        "y_pred_train, y_true_train = calculate_metrics(train_dataloader)\n",
        "y_pred_test, y_true_test =calculate_metrics(test_dataloader)"
      ],
      "metadata": {
        "id": "hQ_-FBpKyavA"
      },
      "execution_count": 549,
      "outputs": []
    },
    {
      "cell_type": "code",
      "source": [
        "len(y_true_test), len(y_pred_test)"
      ],
      "metadata": {
        "colab": {
          "base_uri": "https://localhost:8080/"
        },
        "id": "BEzwXV3f-sKn",
        "outputId": "762fff7a-2130-4c13-accc-c7a987d094e9"
      },
      "execution_count": 550,
      "outputs": [
        {
          "output_type": "execute_result",
          "data": {
            "text/plain": [
              "(128, 128)"
            ]
          },
          "metadata": {},
          "execution_count": 550
        }
      ]
    },
    {
      "cell_type": "code",
      "source": [
        "y_true, y_pred  = y_true_test, y_pred_test"
      ],
      "metadata": {
        "id": "s5JKUhom4DSQ"
      },
      "execution_count": 551,
      "outputs": []
    },
    {
      "cell_type": "code",
      "source": [
        "result = pd.DataFrame(columns=['Algo', 'MAE', 'RMSE', 'MAPE', 'SMAPE', 'MASE', 'R2'])\n",
        "result = ([f'LSTM', mean_absolute_error(y_true, y_pred), sqrt(mean_squared_error(y_true, y_pred)), mean_absolute_percentage_error(y_true, y_pred),  r2_score(y_true, y_pred)])\n",
        "result"
      ],
      "metadata": {
        "colab": {
          "base_uri": "https://localhost:8080/"
        },
        "id": "9MGe0neq0KgU",
        "outputId": "58e45947-5abc-4772-e8a4-fe8a7b7b1ba5"
      },
      "execution_count": 552,
      "outputs": [
        {
          "output_type": "execute_result",
          "data": {
            "text/plain": [
              "['LSTM',\n",
              " 0.39308566,\n",
              " 0.49756242715034577,\n",
              " 29355596000000.0,\n",
              " -0.5830952418743265]"
            ]
          },
          "metadata": {},
          "execution_count": 552
        }
      ]
    },
    {
      "cell_type": "markdown",
      "metadata": {
        "id": "A_spELeG8bK-"
      },
      "source": [
        "## Resultados Preliminares\n"
      ]
    },
    {
      "cell_type": "markdown",
      "metadata": {
        "id": "pt07ko2zAUWm"
      },
      "source": [
        "O título da seção Resultados Preliminares deve ser alinhado à esquerda, grafado em negrito com as primeiras letras das palavras em letras maiúsculas. É permitido que a seção seja dividida em subtópicos com formatação de acordo com a descrição no item 1.1 Formato e margens, apresentados na mesma ordem da seção Material e Métodos. Nesta seção devem ser apresentados os resultados parciais da pesquisa, ou seja, os resultados obtidos até o momento. \n",
        "\n"
      ]
    },
    {
      "cell_type": "markdown",
      "metadata": {
        "id": "SFFIAdRh8eIP"
      },
      "source": [
        "## Conclusão ou Considerações finais"
      ]
    },
    {
      "cell_type": "markdown",
      "metadata": {
        "id": "FtOpdfAFAbbT"
      },
      "source": [
        "Tópico obrigatório para o depósito do TCC, porém opcional para a etapa dos Resultados preliminares."
      ]
    },
    {
      "cell_type": "markdown",
      "metadata": {
        "id": "Cev1xRIZ8jls"
      },
      "source": [
        "## Agradecimentos"
      ]
    },
    {
      "cell_type": "markdown",
      "metadata": {
        "id": "BpLzbG-cAeX8"
      },
      "source": [
        "O título da seção Agradecimentos deve ser alinhado à esquerda e grafado em negrito, primeira letra da palavra grafada em letra maiúscula. Trata-se de seção opcional, de no máximo três linhas, na qual o autor agradece aqueles que contribuíram de maneira relevante para o desenvolvimento do trabalho e elaboração do TCC, mas que não tiveram o envolvimento intelectual necessário à atribuição de coautoria do mesmo, abstendo-se totalmente da menção ou citação de nomes de empresas, instituições ou pessoas que permitiram ou contribuíram com o desenvolvimento do trabalho, a menos que esteja documentalmente autorizado a fazê-lo."
      ]
    },
    {
      "cell_type": "markdown",
      "metadata": {
        "id": "_YdL6Y4dehgX"
      },
      "source": [
        "## Referências Bibliográficas\n",
        "\n"
      ]
    },
    {
      "cell_type": "markdown",
      "metadata": {
        "id": "HAOg4nDAAmUZ"
      },
      "source": [
        "Neste tópico deverá conter todas as referências dos trabalhos citados no texto e formatadas seguindo rigorosamente as normas do MBA USP ESALQ. Para mais informações, vide o manual de “Normas para Elaboração do Trabalho de Conclusão de Curso” disponível no sistema TCC. "
      ]
    },
    {
      "cell_type": "markdown",
      "metadata": {
        "id": "x2BBHRrtAtix"
      },
      "source": [
        "\n",
        "1. Gonçalves, Victor Henrique\n",
        "Previsão de séries temporais econômicas usando redes neurais caóticas. São Carlos,2018. Dissertação (Mestrado - Programa de Pós-Graduação em Ciências de Computação e Matemática Computacional) -- Instituto de Ciências Matemáticas\n",
        "e de Computação, Universidade de São Paulo, 2018.\n",
        "\n",
        "2. Mahantesh C. Angadi; Amogh P. Kulkarn. Time Series Data Analysis for Stock Market Prediction using Data Mining Techniques with R. International Journal of Advanced Research in Computer Science - Volume 6, No. 6, July-August 2015. Available Online at www.ijarcs.info\n",
        "\n",
        "3.Carteira teórica do IBovespa válida para o quadrimestre Mai. a Ago. 2022. Disponível em https://www.b3.com.br/pt_br/market-data-e-indices/indices/indices-amplos/indice-ibovespa-ibovespa-composicao-da-carteira.htm. Consulta em 22/05/2022\n",
        "\n",
        "4.Carteira teórica do IBrX 100 válida para o quadrimestre Mai. a Ago. 2022. Disponível em https://www.b3.com.br/pt_br/market-data-e-indices/indices/indices-amplos/indice-brasil-100-ibrx-100-composicao-da-carteira.htm. Consulta em 22/05/2022\n",
        "\n",
        "5.Carteira teórica do IBrX 50 válida para o quadrimestre Mai. a Ago. 2022. Disponível em https://www.b3.com.br/pt_br/market-data-e-indices/indices/indices-amplos/indice-brasil-50-ibrx-50-composicao-da-carteira.htm. Consulta em 22/05/2022\n",
        "\n",
        "6.Carteira teórica do MLCX válida para o quadrimestre Mai. a Ago. 2022. Disponível em https://www.b3.com.br/pt_br/market-data-e-indices/indices/indices-de-segmentos-e-setoriais/indice-midlarge-cap-mlcx-composicao-da-carteira.htm. Consulta em 22/05/2022."
      ]
    },
    {
      "cell_type": "code",
      "execution_count": null,
      "metadata": {
        "id": "FoD8d8MInWTe"
      },
      "outputs": [],
      "source": []
    },
    {
      "cell_type": "markdown",
      "metadata": {
        "id": "n5DbeGPm8qWU"
      },
      "source": [
        "## Apêndice ou Anexos\n"
      ]
    },
    {
      "cell_type": "markdown",
      "metadata": {
        "id": "6aNokAwdAhpk"
      },
      "source": [
        "Apêndices são textos e/ou documentos que foram elaborados pelo autor e que são importantes para complementar a argumentação do trabalho. Anexos são textos ou documentos que ilustram, mas que não foram elaborados pelos autores. Apêndices deverão seguir as mesmas normas de formatação do restante do texto, inclusive para figuras e tabelas. \n",
        "O TCC deverá conter no máximo 30 páginas, incluindo o(s) Apêndice(s) e/ou Anexo(s).\n"
      ]
    }
  ],
  "metadata": {
    "colab": {
      "collapsed_sections": [],
      "provenance": [],
      "authorship_tag": "ABX9TyNTGPvZGo0a5l8ZjLLcloRe",
      "include_colab_link": true
    },
    "kernelspec": {
      "display_name": "Python 3",
      "name": "python3"
    },
    "language_info": {
      "name": "python"
    },
    "widgets": {
      "application/vnd.jupyter.widget-state+json": {
        "386f58fdec21468aa3f2cd5ee202e2e1": {
          "model_module": "@jupyter-widgets/controls",
          "model_name": "IntProgressModel",
          "model_module_version": "1.5.0",
          "state": {
            "_dom_classes": [],
            "_model_module": "@jupyter-widgets/controls",
            "_model_module_version": "1.5.0",
            "_model_name": "IntProgressModel",
            "_view_count": null,
            "_view_module": "@jupyter-widgets/controls",
            "_view_module_version": "1.5.0",
            "_view_name": "ProgressView",
            "bar_style": "",
            "description": "Processing: ",
            "description_tooltip": null,
            "layout": "IPY_MODEL_5d892d7c10764e69b466cf044730bf85",
            "max": 139,
            "min": 0,
            "orientation": "horizontal",
            "style": "IPY_MODEL_b730576438cb4906ab5f93c01b36cdfe",
            "value": 134
          }
        },
        "5d892d7c10764e69b466cf044730bf85": {
          "model_module": "@jupyter-widgets/base",
          "model_name": "LayoutModel",
          "model_module_version": "1.2.0",
          "state": {
            "_model_module": "@jupyter-widgets/base",
            "_model_module_version": "1.2.0",
            "_model_name": "LayoutModel",
            "_view_count": null,
            "_view_module": "@jupyter-widgets/base",
            "_view_module_version": "1.2.0",
            "_view_name": "LayoutView",
            "align_content": null,
            "align_items": null,
            "align_self": null,
            "border": null,
            "bottom": null,
            "display": null,
            "flex": null,
            "flex_flow": null,
            "grid_area": null,
            "grid_auto_columns": null,
            "grid_auto_flow": null,
            "grid_auto_rows": null,
            "grid_column": null,
            "grid_gap": null,
            "grid_row": null,
            "grid_template_areas": null,
            "grid_template_columns": null,
            "grid_template_rows": null,
            "height": null,
            "justify_content": null,
            "justify_items": null,
            "left": null,
            "margin": null,
            "max_height": null,
            "max_width": null,
            "min_height": null,
            "min_width": null,
            "object_fit": null,
            "object_position": null,
            "order": null,
            "overflow": null,
            "overflow_x": null,
            "overflow_y": null,
            "padding": null,
            "right": null,
            "top": null,
            "visibility": null,
            "width": null
          }
        },
        "b730576438cb4906ab5f93c01b36cdfe": {
          "model_module": "@jupyter-widgets/controls",
          "model_name": "ProgressStyleModel",
          "model_module_version": "1.5.0",
          "state": {
            "_model_module": "@jupyter-widgets/controls",
            "_model_module_version": "1.5.0",
            "_model_name": "ProgressStyleModel",
            "_view_count": null,
            "_view_module": "@jupyter-widgets/base",
            "_view_module_version": "1.2.0",
            "_view_name": "StyleView",
            "bar_color": null,
            "description_width": ""
          }
        },
        "2889d0771e7c46ef89bb3280e8dd0233": {
          "model_module": "@jupyter-widgets/controls",
          "model_name": "IntProgressModel",
          "model_module_version": "1.5.0",
          "state": {
            "_dom_classes": [],
            "_model_module": "@jupyter-widgets/controls",
            "_model_module_version": "1.5.0",
            "_model_name": "IntProgressModel",
            "_view_count": null,
            "_view_module": "@jupyter-widgets/controls",
            "_view_module_version": "1.5.0",
            "_view_name": "ProgressView",
            "bar_style": "",
            "description": "Processing: ",
            "description_tooltip": null,
            "layout": "IPY_MODEL_2627f4f653b54daeba07ff6df56aa1db",
            "max": 4,
            "min": 0,
            "orientation": "horizontal",
            "style": "IPY_MODEL_543e9f42f5ca4fcfbb8cb070a60f42a0",
            "value": 4
          }
        },
        "2627f4f653b54daeba07ff6df56aa1db": {
          "model_module": "@jupyter-widgets/base",
          "model_name": "LayoutModel",
          "model_module_version": "1.2.0",
          "state": {
            "_model_module": "@jupyter-widgets/base",
            "_model_module_version": "1.2.0",
            "_model_name": "LayoutModel",
            "_view_count": null,
            "_view_module": "@jupyter-widgets/base",
            "_view_module_version": "1.2.0",
            "_view_name": "LayoutView",
            "align_content": null,
            "align_items": null,
            "align_self": null,
            "border": null,
            "bottom": null,
            "display": null,
            "flex": null,
            "flex_flow": null,
            "grid_area": null,
            "grid_auto_columns": null,
            "grid_auto_flow": null,
            "grid_auto_rows": null,
            "grid_column": null,
            "grid_gap": null,
            "grid_row": null,
            "grid_template_areas": null,
            "grid_template_columns": null,
            "grid_template_rows": null,
            "height": null,
            "justify_content": null,
            "justify_items": null,
            "left": null,
            "margin": null,
            "max_height": null,
            "max_width": null,
            "min_height": null,
            "min_width": null,
            "object_fit": null,
            "object_position": null,
            "order": null,
            "overflow": null,
            "overflow_x": null,
            "overflow_y": null,
            "padding": null,
            "right": null,
            "top": null,
            "visibility": null,
            "width": null
          }
        },
        "543e9f42f5ca4fcfbb8cb070a60f42a0": {
          "model_module": "@jupyter-widgets/controls",
          "model_name": "ProgressStyleModel",
          "model_module_version": "1.5.0",
          "state": {
            "_model_module": "@jupyter-widgets/controls",
            "_model_module_version": "1.5.0",
            "_model_name": "ProgressStyleModel",
            "_view_count": null,
            "_view_module": "@jupyter-widgets/base",
            "_view_module_version": "1.2.0",
            "_view_name": "StyleView",
            "bar_color": null,
            "description_width": ""
          }
        },
        "abc42526a66b4b9b85797af0c22da140": {
          "model_module": "@jupyter-widgets/controls",
          "model_name": "IntProgressModel",
          "model_module_version": "1.5.0",
          "state": {
            "_dom_classes": [],
            "_model_module": "@jupyter-widgets/controls",
            "_model_module_version": "1.5.0",
            "_model_name": "IntProgressModel",
            "_view_count": null,
            "_view_module": "@jupyter-widgets/controls",
            "_view_module_version": "1.5.0",
            "_view_name": "ProgressView",
            "bar_style": "",
            "description": "Processing: ",
            "description_tooltip": null,
            "layout": "IPY_MODEL_e9c20aefb82e4ca9925aa4bffd28db16",
            "max": 7,
            "min": 0,
            "orientation": "horizontal",
            "style": "IPY_MODEL_82df8588859b4a059afefe3f47f762a6",
            "value": 7
          }
        },
        "e9c20aefb82e4ca9925aa4bffd28db16": {
          "model_module": "@jupyter-widgets/base",
          "model_name": "LayoutModel",
          "model_module_version": "1.2.0",
          "state": {
            "_model_module": "@jupyter-widgets/base",
            "_model_module_version": "1.2.0",
            "_model_name": "LayoutModel",
            "_view_count": null,
            "_view_module": "@jupyter-widgets/base",
            "_view_module_version": "1.2.0",
            "_view_name": "LayoutView",
            "align_content": null,
            "align_items": null,
            "align_self": null,
            "border": null,
            "bottom": null,
            "display": null,
            "flex": null,
            "flex_flow": null,
            "grid_area": null,
            "grid_auto_columns": null,
            "grid_auto_flow": null,
            "grid_auto_rows": null,
            "grid_column": null,
            "grid_gap": null,
            "grid_row": null,
            "grid_template_areas": null,
            "grid_template_columns": null,
            "grid_template_rows": null,
            "height": null,
            "justify_content": null,
            "justify_items": null,
            "left": null,
            "margin": null,
            "max_height": null,
            "max_width": null,
            "min_height": null,
            "min_width": null,
            "object_fit": null,
            "object_position": null,
            "order": null,
            "overflow": null,
            "overflow_x": null,
            "overflow_y": null,
            "padding": null,
            "right": null,
            "top": null,
            "visibility": null,
            "width": null
          }
        },
        "82df8588859b4a059afefe3f47f762a6": {
          "model_module": "@jupyter-widgets/controls",
          "model_name": "ProgressStyleModel",
          "model_module_version": "1.5.0",
          "state": {
            "_model_module": "@jupyter-widgets/controls",
            "_model_module_version": "1.5.0",
            "_model_name": "ProgressStyleModel",
            "_view_count": null,
            "_view_module": "@jupyter-widgets/base",
            "_view_module_version": "1.2.0",
            "_view_name": "StyleView",
            "bar_color": null,
            "description_width": ""
          }
        }
      }
    },
    "accelerator": "GPU",
    "gpuClass": "standard"
  },
  "nbformat": 4,
  "nbformat_minor": 0
}